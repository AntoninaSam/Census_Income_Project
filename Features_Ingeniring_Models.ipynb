{
 "cells": [
  {
   "cell_type": "code",
   "execution_count": 1,
   "metadata": {},
   "outputs": [],
   "source": [
    "import pandas as pd\n",
    "import numpy as np\n",
    "from sklearn.preprocessing import LabelEncoder, OneHotEncoder\n",
    "from sklearn.preprocessing import RobustScaler\n",
    "from sklearn.model_selection import train_test_split, cross_val_score, GridSearchCV\n",
    "from sklearn.linear_model import LogisticRegression\n",
    "from sklearn.tree import DecisionTreeClassifier\n",
    "from sklearn.svm import SVC\n",
    "from sklearn.neighbors import KNeighborsClassifier\n",
    "from sklearn.ensemble import RandomForestClassifier, AdaBoostClassifier, BaggingClassifier\n",
    "import xgboost as xgb\n",
    "from xgboost.sklearn import XGBClassifier\n",
    "from sklearn.metrics import accuracy_score, confusion_matrix, classification_report,roc_curve, auc, f1_score\n",
    "from sklearn.metrics import roc_curve, auc, f1_score\n",
    "from datetime import datetime\n",
    "import matplotlib.pyplot as plt\n",
    "import mlxtend\n",
    "from mlxtend.plotting import plot_confusion_matrix\n",
    "\n",
    "import warnings\n",
    "warnings.filterwarnings(\"ignore\")"
   ]
  },
  {
   "cell_type": "code",
   "execution_count": 2,
   "metadata": {},
   "outputs": [],
   "source": [
    "\n",
    "from sklearn.metrics import roc_curve, auc, accuracy_score, f1_score, roc_auc_score\n",
    "from sklearn.model_selection import GridSearchCV"
   ]
  },
  {
   "cell_type": "code",
   "execution_count": 3,
   "metadata": {},
   "outputs": [
    {
     "data": {
      "text/html": [
       "<div>\n",
       "<style scoped>\n",
       "    .dataframe tbody tr th:only-of-type {\n",
       "        vertical-align: middle;\n",
       "    }\n",
       "\n",
       "    .dataframe tbody tr th {\n",
       "        vertical-align: top;\n",
       "    }\n",
       "\n",
       "    .dataframe thead th {\n",
       "        text-align: right;\n",
       "    }\n",
       "</style>\n",
       "<table border=\"1\" class=\"dataframe\">\n",
       "  <thead>\n",
       "    <tr style=\"text-align: right;\">\n",
       "      <th></th>\n",
       "      <th>age</th>\n",
       "      <th>sex</th>\n",
       "      <th>race</th>\n",
       "      <th>marital_status</th>\n",
       "      <th>relationship_label</th>\n",
       "      <th>relationship</th>\n",
       "      <th>functional_weight</th>\n",
       "      <th>education</th>\n",
       "      <th>education_num</th>\n",
       "      <th>workclass</th>\n",
       "      <th>occupation</th>\n",
       "      <th>capital_gain</th>\n",
       "      <th>capital_loss</th>\n",
       "      <th>hours_per_week</th>\n",
       "      <th>native_country</th>\n",
       "      <th>country_name</th>\n",
       "      <th>target</th>\n",
       "    </tr>\n",
       "  </thead>\n",
       "  <tbody>\n",
       "    <tr>\n",
       "      <th>0</th>\n",
       "      <td>66</td>\n",
       "      <td>Male</td>\n",
       "      <td>White</td>\n",
       "      <td>Married-civ-spouse</td>\n",
       "      <td>0</td>\n",
       "      <td>Husband</td>\n",
       "      <td>36364</td>\n",
       "      <td>HS-grad</td>\n",
       "      <td>9</td>\n",
       "      <td>Local-gov</td>\n",
       "      <td>Craft-repair</td>\n",
       "      <td>0</td>\n",
       "      <td>2267</td>\n",
       "      <td>40</td>\n",
       "      <td>39</td>\n",
       "      <td>United-States</td>\n",
       "      <td>0</td>\n",
       "    </tr>\n",
       "  </tbody>\n",
       "</table>\n",
       "</div>"
      ],
      "text/plain": [
       "   age    sex    race       marital_status  relationship_label relationship  \\\n",
       "0   66   Male   White   Married-civ-spouse                   0      Husband   \n",
       "\n",
       "   functional_weight education  education_num   workclass     occupation  \\\n",
       "0              36364   HS-grad              9   Local-gov   Craft-repair   \n",
       "\n",
       "   capital_gain  capital_loss  hours_per_week  native_country    country_name  \\\n",
       "0             0          2267              40              39   United-States   \n",
       "\n",
       "   target  \n",
       "0       0  "
      ]
     },
     "execution_count": 3,
     "metadata": {},
     "output_type": "execute_result"
    }
   ],
   "source": [
    "df = pd.read_csv('data/raw/raw_data_for_pipeline_v2.csv')\n",
    "df.head(1)"
   ]
  },
  {
   "cell_type": "code",
   "execution_count": 4,
   "metadata": {},
   "outputs": [],
   "source": [
    "summary = pd.read_csv('my_summary_outlier_mask.csv')"
   ]
  },
  {
   "cell_type": "markdown",
   "metadata": {},
   "source": [
    "#  Label Encoder for all categorical features\n",
    "\n",
    "## RobustScaler"
   ]
  },
  {
   "cell_type": "code",
   "execution_count": 5,
   "metadata": {},
   "outputs": [
    {
     "data": {
      "text/html": [
       "<div>\n",
       "<style scoped>\n",
       "    .dataframe tbody tr th:only-of-type {\n",
       "        vertical-align: middle;\n",
       "    }\n",
       "\n",
       "    .dataframe tbody tr th {\n",
       "        vertical-align: top;\n",
       "    }\n",
       "\n",
       "    .dataframe thead th {\n",
       "        text-align: right;\n",
       "    }\n",
       "</style>\n",
       "<table border=\"1\" class=\"dataframe\">\n",
       "  <thead>\n",
       "    <tr style=\"text-align: right;\">\n",
       "      <th></th>\n",
       "      <th>age</th>\n",
       "      <th>sex</th>\n",
       "      <th>race</th>\n",
       "      <th>marital_status</th>\n",
       "      <th>relationship_label</th>\n",
       "      <th>relationship</th>\n",
       "      <th>functional_weight</th>\n",
       "      <th>education</th>\n",
       "      <th>education_num</th>\n",
       "      <th>workclass</th>\n",
       "      <th>occupation</th>\n",
       "      <th>capital_gain</th>\n",
       "      <th>capital_loss</th>\n",
       "      <th>hours_per_week</th>\n",
       "      <th>native_country</th>\n",
       "      <th>country_name</th>\n",
       "      <th>target</th>\n",
       "    </tr>\n",
       "  </thead>\n",
       "  <tbody>\n",
       "    <tr>\n",
       "      <th>0</th>\n",
       "      <td>66</td>\n",
       "      <td>1</td>\n",
       "      <td>4</td>\n",
       "      <td>2</td>\n",
       "      <td>0</td>\n",
       "      <td>0</td>\n",
       "      <td>36364</td>\n",
       "      <td>11</td>\n",
       "      <td>9</td>\n",
       "      <td>2</td>\n",
       "      <td>3</td>\n",
       "      <td>0</td>\n",
       "      <td>2267</td>\n",
       "      <td>40</td>\n",
       "      <td>39</td>\n",
       "      <td>39</td>\n",
       "      <td>0</td>\n",
       "    </tr>\n",
       "    <tr>\n",
       "      <th>1</th>\n",
       "      <td>32</td>\n",
       "      <td>1</td>\n",
       "      <td>4</td>\n",
       "      <td>4</td>\n",
       "      <td>1</td>\n",
       "      <td>1</td>\n",
       "      <td>142675</td>\n",
       "      <td>11</td>\n",
       "      <td>9</td>\n",
       "      <td>4</td>\n",
       "      <td>3</td>\n",
       "      <td>0</td>\n",
       "      <td>0</td>\n",
       "      <td>40</td>\n",
       "      <td>39</td>\n",
       "      <td>39</td>\n",
       "      <td>0</td>\n",
       "    </tr>\n",
       "    <tr>\n",
       "      <th>2</th>\n",
       "      <td>28</td>\n",
       "      <td>0</td>\n",
       "      <td>2</td>\n",
       "      <td>4</td>\n",
       "      <td>1</td>\n",
       "      <td>1</td>\n",
       "      <td>161087</td>\n",
       "      <td>15</td>\n",
       "      <td>10</td>\n",
       "      <td>4</td>\n",
       "      <td>4</td>\n",
       "      <td>0</td>\n",
       "      <td>0</td>\n",
       "      <td>45</td>\n",
       "      <td>23</td>\n",
       "      <td>23</td>\n",
       "      <td>0</td>\n",
       "    </tr>\n",
       "  </tbody>\n",
       "</table>\n",
       "</div>"
      ],
      "text/plain": [
       "   age  sex  race  marital_status  relationship_label  relationship  \\\n",
       "0   66    1     4               2                   0             0   \n",
       "1   32    1     4               4                   1             1   \n",
       "2   28    0     2               4                   1             1   \n",
       "\n",
       "   functional_weight  education  education_num  workclass  occupation  \\\n",
       "0              36364         11              9          2           3   \n",
       "1             142675         11              9          4           3   \n",
       "2             161087         15             10          4           4   \n",
       "\n",
       "   capital_gain  capital_loss  hours_per_week  native_country  country_name  \\\n",
       "0             0          2267              40              39            39   \n",
       "1             0             0              40              39            39   \n",
       "2             0             0              45              23            23   \n",
       "\n",
       "   target  \n",
       "0       0  \n",
       "1       0  \n",
       "2       0  "
      ]
     },
     "execution_count": 5,
     "metadata": {},
     "output_type": "execute_result"
    }
   ],
   "source": [
    "le = LabelEncoder()\n",
    "column_for_label = ['sex','race','marital_status','relationship','education','workclass',\n",
    "                    'occupation','country_name']\n",
    "for c in column_for_label:\n",
    "    df[c] = le.fit_transform(df[c]) # transorming feature\n",
    "df.head(3)"
   ]
  },
  {
   "cell_type": "code",
   "execution_count": 6,
   "metadata": {},
   "outputs": [
    {
     "data": {
      "text/html": [
       "<div>\n",
       "<style scoped>\n",
       "    .dataframe tbody tr th:only-of-type {\n",
       "        vertical-align: middle;\n",
       "    }\n",
       "\n",
       "    .dataframe tbody tr th {\n",
       "        vertical-align: top;\n",
       "    }\n",
       "\n",
       "    .dataframe thead th {\n",
       "        text-align: right;\n",
       "    }\n",
       "</style>\n",
       "<table border=\"1\" class=\"dataframe\">\n",
       "  <thead>\n",
       "    <tr style=\"text-align: right;\">\n",
       "      <th></th>\n",
       "      <th>age</th>\n",
       "      <th>sex</th>\n",
       "      <th>race</th>\n",
       "      <th>marital_status</th>\n",
       "      <th>relationship</th>\n",
       "      <th>functional_weight</th>\n",
       "      <th>education</th>\n",
       "      <th>workclass</th>\n",
       "      <th>occupation</th>\n",
       "      <th>capital_gain</th>\n",
       "      <th>capital_loss</th>\n",
       "      <th>hours_per_week</th>\n",
       "      <th>country_name</th>\n",
       "      <th>target</th>\n",
       "    </tr>\n",
       "  </thead>\n",
       "  <tbody>\n",
       "    <tr>\n",
       "      <th>0</th>\n",
       "      <td>66</td>\n",
       "      <td>1</td>\n",
       "      <td>4</td>\n",
       "      <td>2</td>\n",
       "      <td>0</td>\n",
       "      <td>36364</td>\n",
       "      <td>11</td>\n",
       "      <td>2</td>\n",
       "      <td>3</td>\n",
       "      <td>0</td>\n",
       "      <td>2267</td>\n",
       "      <td>40</td>\n",
       "      <td>39</td>\n",
       "      <td>0</td>\n",
       "    </tr>\n",
       "  </tbody>\n",
       "</table>\n",
       "</div>"
      ],
      "text/plain": [
       "   age  sex  race  marital_status  relationship  functional_weight  education  \\\n",
       "0   66    1     4               2             0              36364         11   \n",
       "\n",
       "   workclass  occupation  capital_gain  capital_loss  hours_per_week  \\\n",
       "0          2           3             0          2267              40   \n",
       "\n",
       "   country_name  target  \n",
       "0            39       0  "
      ]
     },
     "execution_count": 6,
     "metadata": {},
     "output_type": "execute_result"
    }
   ],
   "source": [
    "columns_to_drop = ['relationship_label', 'education_num','native_country']\n",
    "df.drop(columns_to_drop, axis = 1, inplace = True)\n",
    "df.head(1)"
   ]
  },
  {
   "cell_type": "code",
   "execution_count": 7,
   "metadata": {},
   "outputs": [],
   "source": [
    "data_features_rs = df.iloc[:, : ]\n",
    "\n",
    "scaler = RobustScaler()\n",
    "scaled_df = pd.DataFrame(\n",
    "    data=scaler.fit_transform(data_features_rs), \n",
    "    columns=data_features_rs.columns\n",
    ")"
   ]
  },
  {
   "cell_type": "code",
   "execution_count": 8,
   "metadata": {},
   "outputs": [
    {
     "data": {
      "text/html": [
       "<div>\n",
       "<style scoped>\n",
       "    .dataframe tbody tr th:only-of-type {\n",
       "        vertical-align: middle;\n",
       "    }\n",
       "\n",
       "    .dataframe tbody tr th {\n",
       "        vertical-align: top;\n",
       "    }\n",
       "\n",
       "    .dataframe thead th {\n",
       "        text-align: right;\n",
       "    }\n",
       "</style>\n",
       "<table border=\"1\" class=\"dataframe\">\n",
       "  <thead>\n",
       "    <tr style=\"text-align: right;\">\n",
       "      <th></th>\n",
       "      <th>age</th>\n",
       "      <th>sex</th>\n",
       "      <th>race</th>\n",
       "      <th>marital_status</th>\n",
       "      <th>relationship</th>\n",
       "      <th>functional_weight</th>\n",
       "      <th>education</th>\n",
       "      <th>workclass</th>\n",
       "      <th>occupation</th>\n",
       "      <th>capital_gain</th>\n",
       "      <th>capital_loss</th>\n",
       "      <th>hours_per_week</th>\n",
       "      <th>country_name</th>\n",
       "      <th>target</th>\n",
       "    </tr>\n",
       "  </thead>\n",
       "  <tbody>\n",
       "    <tr>\n",
       "      <th>0</th>\n",
       "      <td>1.45</td>\n",
       "      <td>0.0</td>\n",
       "      <td>0.0</td>\n",
       "      <td>0.0</td>\n",
       "      <td>-0.333333</td>\n",
       "      <td>-1.191062</td>\n",
       "      <td>0.000000</td>\n",
       "      <td>-2.0</td>\n",
       "      <td>-0.571429</td>\n",
       "      <td>0.0</td>\n",
       "      <td>2267.0</td>\n",
       "      <td>0.0</td>\n",
       "      <td>0.0</td>\n",
       "      <td>0.0</td>\n",
       "    </tr>\n",
       "    <tr>\n",
       "      <th>1</th>\n",
       "      <td>-0.25</td>\n",
       "      <td>0.0</td>\n",
       "      <td>0.0</td>\n",
       "      <td>1.0</td>\n",
       "      <td>0.000000</td>\n",
       "      <td>-0.299206</td>\n",
       "      <td>0.000000</td>\n",
       "      <td>0.0</td>\n",
       "      <td>-0.571429</td>\n",
       "      <td>0.0</td>\n",
       "      <td>0.0</td>\n",
       "      <td>0.0</td>\n",
       "      <td>0.0</td>\n",
       "      <td>0.0</td>\n",
       "    </tr>\n",
       "    <tr>\n",
       "      <th>2</th>\n",
       "      <td>-0.45</td>\n",
       "      <td>-1.0</td>\n",
       "      <td>-2.0</td>\n",
       "      <td>1.0</td>\n",
       "      <td>0.000000</td>\n",
       "      <td>-0.144746</td>\n",
       "      <td>1.333333</td>\n",
       "      <td>0.0</td>\n",
       "      <td>-0.428571</td>\n",
       "      <td>0.0</td>\n",
       "      <td>0.0</td>\n",
       "      <td>1.0</td>\n",
       "      <td>-16.0</td>\n",
       "      <td>0.0</td>\n",
       "    </tr>\n",
       "  </tbody>\n",
       "</table>\n",
       "</div>"
      ],
      "text/plain": [
       "    age  sex  race  marital_status  relationship  functional_weight  \\\n",
       "0  1.45  0.0   0.0             0.0     -0.333333          -1.191062   \n",
       "1 -0.25  0.0   0.0             1.0      0.000000          -0.299206   \n",
       "2 -0.45 -1.0  -2.0             1.0      0.000000          -0.144746   \n",
       "\n",
       "   education  workclass  occupation  capital_gain  capital_loss  \\\n",
       "0   0.000000       -2.0   -0.571429           0.0        2267.0   \n",
       "1   0.000000        0.0   -0.571429           0.0           0.0   \n",
       "2   1.333333        0.0   -0.428571           0.0           0.0   \n",
       "\n",
       "   hours_per_week  country_name  target  \n",
       "0             0.0           0.0     0.0  \n",
       "1             0.0           0.0     0.0  \n",
       "2             1.0         -16.0     0.0  "
      ]
     },
     "execution_count": 8,
     "metadata": {},
     "output_type": "execute_result"
    }
   ],
   "source": [
    "scaled_df.head(3)"
   ]
  },
  {
   "cell_type": "code",
   "execution_count": 9,
   "metadata": {},
   "outputs": [
    {
     "data": {
      "text/html": [
       "<div>\n",
       "<style scoped>\n",
       "    .dataframe tbody tr th:only-of-type {\n",
       "        vertical-align: middle;\n",
       "    }\n",
       "\n",
       "    .dataframe tbody tr th {\n",
       "        vertical-align: top;\n",
       "    }\n",
       "\n",
       "    .dataframe thead th {\n",
       "        text-align: right;\n",
       "    }\n",
       "</style>\n",
       "<table border=\"1\" class=\"dataframe\">\n",
       "  <thead>\n",
       "    <tr style=\"text-align: right;\">\n",
       "      <th></th>\n",
       "      <th>Unnamed: 0</th>\n",
       "      <th>std</th>\n",
       "      <th>iqr</th>\n",
       "      <th>euclid</th>\n",
       "      <th>cityblock</th>\n",
       "      <th>svm</th>\n",
       "      <th>isolation</th>\n",
       "    </tr>\n",
       "  </thead>\n",
       "  <tbody>\n",
       "    <tr>\n",
       "      <th>0</th>\n",
       "      <td>0</td>\n",
       "      <td>1</td>\n",
       "      <td>1</td>\n",
       "      <td>0</td>\n",
       "      <td>0</td>\n",
       "      <td>1</td>\n",
       "      <td>1</td>\n",
       "    </tr>\n",
       "  </tbody>\n",
       "</table>\n",
       "</div>"
      ],
      "text/plain": [
       "   Unnamed: 0  std  iqr  euclid  cityblock  svm  isolation\n",
       "0           0    1    1       0          0    1          1"
      ]
     },
     "execution_count": 9,
     "metadata": {},
     "output_type": "execute_result"
    }
   ],
   "source": [
    "summary.head(1)"
   ]
  },
  {
   "cell_type": "code",
   "execution_count": 10,
   "metadata": {},
   "outputs": [
    {
     "data": {
      "text/plain": [
       "((32235, 7), (32235, 14))"
      ]
     },
     "execution_count": 10,
     "metadata": {},
     "output_type": "execute_result"
    }
   ],
   "source": [
    "summary.shape, df.shape"
   ]
  },
  {
   "cell_type": "code",
   "execution_count": 11,
   "metadata": {},
   "outputs": [],
   "source": [
    "summary.drop('Unnamed: 0', axis = 1, inplace = True)"
   ]
  },
  {
   "cell_type": "code",
   "execution_count": 12,
   "metadata": {},
   "outputs": [
    {
     "data": {
      "text/plain": [
       "1    11621\n",
       "0    10975\n",
       "2     4701\n",
       "3     3101\n",
       "4     1272\n",
       "5      384\n",
       "6      181\n",
       "dtype: int64"
      ]
     },
     "execution_count": 12,
     "metadata": {},
     "output_type": "execute_result"
    }
   ],
   "source": [
    "summary.sum(axis=1).value_counts()"
   ]
  },
  {
   "cell_type": "markdown",
   "metadata": {},
   "source": [
    "###  Threshold for the number of filters for cleaning outliers ( if threshold  == 6 , its Full Dataset )"
   ]
  },
  {
   "cell_type": "code",
   "execution_count": 13,
   "metadata": {},
   "outputs": [],
   "source": [
    "mask_clear_all = summary.sum(axis=1) < 7"
   ]
  },
  {
   "cell_type": "code",
   "execution_count": 14,
   "metadata": {},
   "outputs": [],
   "source": [
    "df_clear = scaled_df[mask_clear_all]"
   ]
  },
  {
   "cell_type": "code",
   "execution_count": 15,
   "metadata": {},
   "outputs": [
    {
     "data": {
      "text/plain": [
       "(32235, 14)"
      ]
     },
     "execution_count": 15,
     "metadata": {},
     "output_type": "execute_result"
    }
   ],
   "source": [
    "df_clear.shape"
   ]
  },
  {
   "cell_type": "markdown",
   "metadata": {},
   "source": [
    "# DATA for Models"
   ]
  },
  {
   "cell_type": "code",
   "execution_count": 16,
   "metadata": {},
   "outputs": [],
   "source": [
    "X_df = df_clear.drop(['target'], axis = 1)\n",
    "y_df = df_clear['target']"
   ]
  },
  {
   "cell_type": "markdown",
   "metadata": {},
   "source": [
    "## Visualization Census Income Target by first two components "
   ]
  },
  {
   "cell_type": "code",
   "execution_count": 17,
   "metadata": {},
   "outputs": [
    {
     "data": {
      "image/png": "[encoded data removed]",
      "text/plain": [
       "<Figure size 864x576 with 1 Axes>"
      ]
     },
     "metadata": {
      "needs_background": "light"
     },
     "output_type": "display_data"
    }
   ],
   "source": [
    "from sklearn.manifold import TSNE\n",
    "\n",
    "X = X_df[:20000]  # 20000 raw of data\n",
    "y = y_df[:20000]\n",
    "tsne = TSNE(n_components=2, random_state=0)\n",
    "\n",
    "X_2d = tsne.fit_transform(X)\n",
    "\n",
    "target_ids = np.arange(2)\n",
    "\n",
    "plt.figure(figsize=(12, 8))\n",
    "colors = 'b', 'orange'\n",
    "for i, c, label in zip(target_ids, colors, target_ids):\n",
    "    plt.scatter(X_2d[y == i, 0], X_2d[y == i, 1], c=c, label=label)\n",
    "plt.xlabel(\"component 1\")\n",
    "plt.ylabel(\"component 2\")\n",
    "plt.legend()\n",
    "plt.title(\"Census Income Target by first two components.  <t-SNE> 2D visualization\")\n",
    "plt.show()"
   ]
  },
  {
   "cell_type": "code",
   "execution_count": 18,
   "metadata": {},
   "outputs": [],
   "source": [
    "X_train, X_test, y_train, y_test = train_test_split(\n",
    "    X_df,\n",
    "    y_df,\n",
    "    test_size=0.20,\n",
    "    random_state=42)"
   ]
  },
  {
   "cell_type": "code",
   "execution_count": 19,
   "metadata": {},
   "outputs": [],
   "source": [
    "#Instantiate the classifiers\n",
    "clf_logreg = LogisticRegression()\n",
    "clf_tree = DecisionTreeClassifier()\n",
    "clf_knn =  KNeighborsClassifier()\n",
    "clf_svc = SVC()\n",
    "clf_forest = RandomForestClassifier()\n",
    "clf_ada = AdaBoostClassifier()\n",
    "clf_bagging = BaggingClassifier()\n",
    "clf_xgb = XGBClassifier()"
   ]
  },
  {
   "cell_type": "code",
   "execution_count": 20,
   "metadata": {},
   "outputs": [],
   "source": [
    "models = {clf_logreg:'LogisticRegression',  \n",
    "            clf_tree: 'DecisionTreeClassifier',\n",
    "            clf_knn: 'KNN',\n",
    "            clf_forest: 'RandomForestClassifier',\n",
    "            clf_ada: 'AdaBoostClassifier',\n",
    "            clf_bagging: 'BaggingClassifier',\n",
    "            clf_xgb: 'XGBoost',\n",
    "            clf_svc: 'SVM'}\n",
    "\n",
    "classifiers = models.values()"
   ]
  },
  {
   "cell_type": "code",
   "execution_count": 21,
   "metadata": {},
   "outputs": [],
   "source": [
    "score_model = []\n",
    "time_model_fit = []\n",
    "time_model_predict = []\n",
    "# time_model_predict = []\n",
    "for model,value in models.items():\n",
    "    start_time = datetime.now()    \n",
    "    model.fit(X_train,y_train)\n",
    "    elapsed_time = datetime.now() - start_time\n",
    "    time_model_fit.append(elapsed_time)\n",
    "    start_time = datetime.now()\n",
    "    y_pred = model.predict(X_test)\n",
    "    elapsed_time = datetime.now() - start_time\n",
    "    time_model_predict.append(elapsed_time)\n",
    "    score = accuracy_score(y_test,y_pred)\n",
    "    score_model.append(score)        "
   ]
  },
  {
   "cell_type": "code",
   "execution_count": 22,
   "metadata": {},
   "outputs": [
    {
     "data": {
      "text/html": [
       "<div>\n",
       "<style scoped>\n",
       "    .dataframe tbody tr th:only-of-type {\n",
       "        vertical-align: middle;\n",
       "    }\n",
       "\n",
       "    .dataframe tbody tr th {\n",
       "        vertical-align: top;\n",
       "    }\n",
       "\n",
       "    .dataframe thead th {\n",
       "        text-align: right;\n",
       "    }\n",
       "</style>\n",
       "<table border=\"1\" class=\"dataframe\">\n",
       "  <thead>\n",
       "    <tr style=\"text-align: right;\">\n",
       "      <th></th>\n",
       "      <th>Accuracy Score</th>\n",
       "      <th>Time to Fit</th>\n",
       "      <th>Time to Predict</th>\n",
       "    </tr>\n",
       "  </thead>\n",
       "  <tbody>\n",
       "    <tr>\n",
       "      <th>XGBoost</th>\n",
       "      <td>0.856678</td>\n",
       "      <td>00:00:01.971990</td>\n",
       "      <td>00:00:00.015105</td>\n",
       "    </tr>\n",
       "    <tr>\n",
       "      <th>AdaBoostClassifier</th>\n",
       "      <td>0.851714</td>\n",
       "      <td>00:00:00.600315</td>\n",
       "      <td>00:00:00.028488</td>\n",
       "    </tr>\n",
       "    <tr>\n",
       "      <th>RandomForestClassifier</th>\n",
       "      <td>0.839770</td>\n",
       "      <td>00:00:00.186236</td>\n",
       "      <td>00:00:00.011567</td>\n",
       "    </tr>\n",
       "    <tr>\n",
       "      <th>BaggingClassifier</th>\n",
       "      <td>0.838685</td>\n",
       "      <td>00:00:00.553640</td>\n",
       "      <td>00:00:00.011286</td>\n",
       "    </tr>\n",
       "    <tr>\n",
       "      <th>KNN</th>\n",
       "      <td>0.832946</td>\n",
       "      <td>00:00:00.651604</td>\n",
       "      <td>00:00:01.149928</td>\n",
       "    </tr>\n",
       "    <tr>\n",
       "      <th>SVM</th>\n",
       "      <td>0.828758</td>\n",
       "      <td>00:00:13.126784</td>\n",
       "      <td>00:00:01.368580</td>\n",
       "    </tr>\n",
       "    <tr>\n",
       "      <th>DecisionTreeClassifier</th>\n",
       "      <td>0.808438</td>\n",
       "      <td>00:00:00.098126</td>\n",
       "      <td>00:00:00.001949</td>\n",
       "    </tr>\n",
       "    <tr>\n",
       "      <th>LogisticRegression</th>\n",
       "      <td>0.795874</td>\n",
       "      <td>00:00:00.119416</td>\n",
       "      <td>00:00:00.001247</td>\n",
       "    </tr>\n",
       "  </tbody>\n",
       "</table>\n",
       "</div>"
      ],
      "text/plain": [
       "                        Accuracy Score     Time to Fit Time to Predict\n",
       "XGBoost                       0.856678 00:00:01.971990 00:00:00.015105\n",
       "AdaBoostClassifier            0.851714 00:00:00.600315 00:00:00.028488\n",
       "RandomForestClassifier        0.839770 00:00:00.186236 00:00:00.011567\n",
       "BaggingClassifier             0.838685 00:00:00.553640 00:00:00.011286\n",
       "KNN                           0.832946 00:00:00.651604 00:00:01.149928\n",
       "SVM                           0.828758 00:00:13.126784 00:00:01.368580\n",
       "DecisionTreeClassifier        0.808438 00:00:00.098126 00:00:00.001949\n",
       "LogisticRegression            0.795874 00:00:00.119416 00:00:00.001247"
      ]
     },
     "execution_count": 22,
     "metadata": {},
     "output_type": "execute_result"
    }
   ],
   "source": [
    "about_models = pd.DataFrame(score_model, index = classifiers,\n",
    "            columns = ['Accuracy Score', ])\n",
    "about_models['Time to Fit'] = time_model_fit\n",
    "about_models['Time to Predict'] = time_model_predict\n",
    "about_models.sort_values(by = 'Accuracy Score', ascending = False)"
   ]
  },
  {
   "cell_type": "markdown",
   "metadata": {},
   "source": [
    "## Choice  3 Best Models for our Data"
   ]
  },
  {
   "cell_type": "code",
   "execution_count": 23,
   "metadata": {},
   "outputs": [],
   "source": [
    "models_new = {clf_xgb: 'XGBoost',        \n",
    "              clf_ada: 'AdaBoostClassifier',\n",
    "              clf_forest: 'RandomForestClassifier',}\n",
    "\n",
    "classifiers_new = models_new.values()"
   ]
  },
  {
   "cell_type": "code",
   "execution_count": 24,
   "metadata": {},
   "outputs": [
    {
     "name": "stdout",
     "output_type": "stream",
     "text": [
      "+++++++++++++++++++++++  XGBoost  ++++++++++++++++++++ :\n",
      " - accuracy_score:  0.857\n",
      " - f1_score:  0.666\n",
      "----------------------------\n",
      " - ROC AUC _score:  0.914\n",
      "----------------------------\n",
      "              precision    recall  f1-score   support\n",
      "\n",
      "         0.0       0.87      0.95      0.91      4843\n",
      "         1.0       0.79      0.57      0.67      1604\n",
      "\n",
      "    accuracy                           0.86      6447\n",
      "   macro avg       0.83      0.76      0.79      6447\n",
      "weighted avg       0.85      0.86      0.85      6447\n",
      "\n"
     ]
    },
    {
     "data": {
      "image/png": "[encoded data removed]",
      "text/plain": [
       "<Figure size 216x216 with 1 Axes>"
      ]
     },
     "metadata": {
      "needs_background": "light"
     },
     "output_type": "display_data"
    },
    {
     "data": {
      "image/png": "[encoded data removed]",
      "text/plain": [
       "<Figure size 720x432 with 1 Axes>"
      ]
     },
     "metadata": {
      "needs_background": "light"
     },
     "output_type": "display_data"
    },
    {
     "name": "stdout",
     "output_type": "stream",
     "text": [
      "+++++++++++++++++++++++  AdaBoostClassifier  ++++++++++++++++++++ :\n",
      " - accuracy_score:  0.852\n",
      " - f1_score:  0.666\n",
      "----------------------------\n",
      " - ROC AUC _score:  0.908\n",
      "----------------------------\n",
      "              precision    recall  f1-score   support\n",
      "\n",
      "         0.0       0.87      0.94      0.90      4843\n",
      "         1.0       0.76      0.60      0.67      1604\n",
      "\n",
      "    accuracy                           0.85      6447\n",
      "   macro avg       0.82      0.77      0.79      6447\n",
      "weighted avg       0.85      0.85      0.85      6447\n",
      "\n"
     ]
    },
    {
     "data": {
      "image/png": "[encoded data removed]",
      "text/plain": [
       "<Figure size 216x216 with 1 Axes>"
      ]
     },
     "metadata": {
      "needs_background": "light"
     },
     "output_type": "display_data"
    },
    {
     "data": {
      "image/png": "[encoded data removed]",
      "text/plain": [
       "<Figure size 720x432 with 1 Axes>"
      ]
     },
     "metadata": {
      "needs_background": "light"
     },
     "output_type": "display_data"
    },
    {
     "name": "stdout",
     "output_type": "stream",
     "text": [
      "+++++++++++++++++++++++  RandomForestClassifier  ++++++++++++++++++++ :\n",
      " - accuracy_score:  0.845\n",
      " - f1_score:  0.644\n",
      "----------------------------\n",
      " - ROC AUC _score:  0.875\n",
      "----------------------------\n",
      "              precision    recall  f1-score   support\n",
      "\n",
      "         0.0       0.87      0.94      0.90      4843\n",
      "         1.0       0.75      0.57      0.64      1604\n",
      "\n",
      "    accuracy                           0.84      6447\n",
      "   macro avg       0.81      0.75      0.77      6447\n",
      "weighted avg       0.84      0.84      0.84      6447\n",
      "\n"
     ]
    },
    {
     "data": {
      "image/png": "[encoded data removed]",
      "text/plain": [
       "<Figure size 216x216 with 1 Axes>"
      ]
     },
     "metadata": {
      "needs_background": "light"
     },
     "output_type": "display_data"
    },
    {
     "data": {
      "image/png": "[encoded data removed]",
      "text/plain": [
       "<Figure size 720x432 with 1 Axes>"
      ]
     },
     "metadata": {
      "needs_background": "light"
     },
     "output_type": "display_data"
    }
   ],
   "source": [
    "mean_score = []\n",
    "std_score = []\n",
    "time_best_model_fit = []\n",
    "\n",
    "for model,value in models_new.items():\n",
    "        \n",
    "    model.fit(X_train,y_train)\n",
    "    y_pred = model.predict(X_test)\n",
    "    # calculate the AUC\n",
    "    y_pred_prob = model.predict_proba(X_test)\n",
    "    fpr, tpr, thresholds = roc_curve(y_true=y_test, y_score=y_pred_prob[:,1], pos_label=1)\n",
    "    roc_auc = auc(fpr, tpr)\n",
    "    \n",
    "    print(f\"+++++++++++++++++++++++  {value}  ++++++++++++++++++++ :\")    \n",
    "    print(f\" - accuracy_score: {accuracy_score(y_test, y_pred): .3f}\")\n",
    "    print(f\" - f1_score: {f1_score(y_test, y_pred): .3f}\")\n",
    "    print('----------------------------')\n",
    "    print(f\" - ROC AUC _score: {roc_auc: .3f}\")\n",
    "    print('----------------------------')\n",
    "    print(classification_report(y_test, y_pred))\n",
    "    \n",
    "    CM = confusion_matrix(y_test, y_pred)\n",
    "    from mlxtend.plotting import plot_confusion_matrix\n",
    "    fig, ax = plot_confusion_matrix(conf_mat=CM ,  figsize=(3, 3))\n",
    "    plt.title(f'{value} confusion matrix')\n",
    "    plt.show()\n",
    "    \n",
    "    importances = model.feature_importances_\n",
    "    indices = np.argsort(importances)[::-1] \n",
    "    plt.figure(figsize=(10,6))\n",
    "    plt.barh(X_train.columns[indices], importances[indices])\n",
    "    plt.title(f'{value} Feature Importances')\n",
    "    plt.show()\n",
    "\n",
    "    start_time = datetime.now()\n",
    "    scores = cross_val_score(model,X_train,y_train,scoring = 'accuracy',cv = 10)\n",
    "    elapsed_time = datetime.now() - start_time\n",
    "    mean_score.append(scores.mean())\n",
    "    std_score.append(scores.std())\n",
    "    time_best_model_fit.append(elapsed_time)"
   ]
  },
  {
   "cell_type": "markdown",
   "metadata": {},
   "source": [
    "### Analize Cross Validation"
   ]
  },
  {
   "cell_type": "code",
   "execution_count": 25,
   "metadata": {},
   "outputs": [
    {
     "data": {
      "text/html": [
       "<div>\n",
       "<style scoped>\n",
       "    .dataframe tbody tr th:only-of-type {\n",
       "        vertical-align: middle;\n",
       "    }\n",
       "\n",
       "    .dataframe tbody tr th {\n",
       "        vertical-align: top;\n",
       "    }\n",
       "\n",
       "    .dataframe thead th {\n",
       "        text-align: right;\n",
       "    }\n",
       "</style>\n",
       "<table border=\"1\" class=\"dataframe\">\n",
       "  <thead>\n",
       "    <tr style=\"text-align: right;\">\n",
       "      <th></th>\n",
       "      <th>Accuracy Score</th>\n",
       "      <th>STD of Accuracy</th>\n",
       "      <th>Time to Fit</th>\n",
       "    </tr>\n",
       "  </thead>\n",
       "  <tbody>\n",
       "    <tr>\n",
       "      <th>XGBoost</th>\n",
       "      <td>0.868</td>\n",
       "      <td>0.007218</td>\n",
       "      <td>00:00:17.418537</td>\n",
       "    </tr>\n",
       "    <tr>\n",
       "      <th>AdaBoostClassifier</th>\n",
       "      <td>0.862</td>\n",
       "      <td>0.007304</td>\n",
       "      <td>00:00:05.406762</td>\n",
       "    </tr>\n",
       "    <tr>\n",
       "      <th>RandomForestClassifier</th>\n",
       "      <td>0.851</td>\n",
       "      <td>0.005650</td>\n",
       "      <td>00:00:01.735283</td>\n",
       "    </tr>\n",
       "  </tbody>\n",
       "</table>\n",
       "</div>"
      ],
      "text/plain": [
       "                        Accuracy Score  STD of Accuracy     Time to Fit\n",
       "XGBoost                          0.868         0.007218 00:00:17.418537\n",
       "AdaBoostClassifier               0.862         0.007304 00:00:05.406762\n",
       "RandomForestClassifier           0.851         0.005650 00:00:01.735283"
      ]
     },
     "execution_count": 25,
     "metadata": {},
     "output_type": "execute_result"
    }
   ],
   "source": [
    "cross_val_best_models = pd.DataFrame(mean_score, index = classifiers_new,\n",
    "            columns = ['Accuracy Score', ]).round(3)\n",
    "cross_val_best_models['STD of Accuracy'] = std_score\n",
    "cross_val_best_models['Time to Fit'] = time_best_model_fit\n",
    "cross_val_best_models.sort_values(by = 'Accuracy Score', ascending = False)"
   ]
  },
  {
   "cell_type": "markdown",
   "metadata": {},
   "source": [
    "### AdaBoost  Tuning hyperparameters"
   ]
  },
  {
   "cell_type": "markdown",
   "metadata": {},
   "source": [
    "#### Prepare Data for AdaBoost"
   ]
  },
  {
   "cell_type": "code",
   "execution_count": 26,
   "metadata": {},
   "outputs": [],
   "source": [
    "X_train_ada = X_train.drop(['country_name'], axis = 1)\n",
    "X_test_ada = X_test.drop(['country_name'], axis = 1)"
   ]
  },
  {
   "cell_type": "code",
   "execution_count": 27,
   "metadata": {},
   "outputs": [
    {
     "name": "stdout",
     "output_type": "stream",
     "text": [
      "+++++++++++++++++++++++  RandomForestClassifier  ++++++++++++++++++++ :\n",
      " - accuracy_score:  0.852\n",
      " - f1_score:  0.666\n",
      "----------------------------\n",
      " - ROC AUC _score:  0.908\n",
      "----------------------------\n",
      "              precision    recall  f1-score   support\n",
      "\n",
      "         0.0       0.87      0.94      0.90      4843\n",
      "         1.0       0.76      0.60      0.67      1604\n",
      "\n",
      "    accuracy                           0.85      6447\n",
      "   macro avg       0.82      0.77      0.79      6447\n",
      "weighted avg       0.85      0.85      0.85      6447\n",
      "\n"
     ]
    }
   ],
   "source": [
    "clf_ada.fit(X_train,y_train)\n",
    "\n",
    "y_pred = clf_ada.predict(X_test)\n",
    "# calculate the AUC\n",
    "y_pred_prob = clf_ada.predict_proba(X_test)\n",
    "fpr, tpr, thresholds = roc_curve(y_true=y_test, y_score=y_pred_prob[:,1], pos_label=1)\n",
    "roc_auc = auc(fpr, tpr)\n",
    "\n",
    "print(f\"+++++++++++++++++++++++  {value}  ++++++++++++++++++++ :\")    \n",
    "print(f\" - accuracy_score: {accuracy_score(y_test, y_pred): .3f}\")\n",
    "print(f\" - f1_score: {f1_score(y_test, y_pred): .3f}\")\n",
    "print('----------------------------')\n",
    "print(f\" - ROC AUC _score: {roc_auc: .3f}\")\n",
    "print('----------------------------')\n",
    "print(classification_report(y_test, y_pred))"
   ]
  },
  {
   "cell_type": "markdown",
   "metadata": {},
   "source": [
    "#### After drop column 'country_name' dont change 'accuracy score', 'f1_score' . For AdaBost no any \n",
    "####  information in this column."
   ]
  },
  {
   "cell_type": "code",
   "execution_count": 28,
   "metadata": {},
   "outputs": [],
   "source": [
    "parameters = {\n",
    "    'n_estimators' : [195, 200, 215, 210],\n",
    "    'learning_rate': [1.7, 1.75]}"
   ]
  },
  {
   "cell_type": "code",
   "execution_count": 29,
   "metadata": {},
   "outputs": [],
   "source": [
    "# clf_ada = AdaBoostClassifier(\n",
    "#     DecisionTreeClassifier(max_depth = 'max_depth'),\n",
    "#     n_estimators = 'n_estimators',\n",
    "#     learning_rate = 'learning_rate')\n",
    "\n",
    "base_model = AdaBoostClassifier(DecisionTreeClassifier(max_depth = 1))\n",
    "gs_model = GridSearchCV(\n",
    "    base_model, \n",
    "    parameters, \n",
    "    verbose=False,\n",
    "    scoring='roc_auc')"
   ]
  },
  {
   "cell_type": "code",
   "execution_count": 30,
   "metadata": {},
   "outputs": [
    {
     "data": {
      "text/plain": [
       "GridSearchCV(cv='warn', error_score='raise-deprecating',\n",
       "             estimator=AdaBoostClassifier(algorithm='SAMME.R',\n",
       "                                          base_estimator=DecisionTreeClassifier(class_weight=None,\n",
       "                                                                                criterion='gini',\n",
       "                                                                                max_depth=1,\n",
       "                                                                                max_features=None,\n",
       "                                                                                max_leaf_nodes=None,\n",
       "                                                                                min_impurity_decrease=0.0,\n",
       "                                                                                min_impurity_split=None,\n",
       "                                                                                min_samples_leaf=1,\n",
       "                                                                                min_samples_split=2,\n",
       "                                                                                min_weight_fraction_leaf=0.0,\n",
       "                                                                                presort=False,\n",
       "                                                                                random_state=None,\n",
       "                                                                                splitter='best'),\n",
       "                                          learning_rate=1.0, n_estimators=50,\n",
       "                                          random_state=None),\n",
       "             iid='warn', n_jobs=None,\n",
       "             param_grid={'learning_rate': [1.7, 1.75],\n",
       "                         'n_estimators': [195, 200, 215, 210]},\n",
       "             pre_dispatch='2*n_jobs', refit=True, return_train_score=False,\n",
       "             scoring='roc_auc', verbose=False)"
      ]
     },
     "execution_count": 30,
     "metadata": {},
     "output_type": "execute_result"
    }
   ],
   "source": [
    "gs_model.fit(X_train, y_train)"
   ]
  },
  {
   "cell_type": "code",
   "execution_count": 31,
   "metadata": {},
   "outputs": [
    {
     "data": {
      "text/plain": [
       "0.9251278603590645"
      ]
     },
     "execution_count": 31,
     "metadata": {},
     "output_type": "execute_result"
    }
   ],
   "source": [
    "gs_model.best_score_"
   ]
  },
  {
   "cell_type": "code",
   "execution_count": 32,
   "metadata": {},
   "outputs": [
    {
     "data": {
      "text/plain": [
       "{'learning_rate': 1.7, 'n_estimators': 210}"
      ]
     },
     "execution_count": 32,
     "metadata": {},
     "output_type": "execute_result"
    }
   ],
   "source": [
    "gs_model.best_params_"
   ]
  },
  {
   "cell_type": "code",
   "execution_count": 33,
   "metadata": {},
   "outputs": [
    {
     "data": {
      "text/plain": [
       "AdaBoostClassifier(algorithm='SAMME.R',\n",
       "                   base_estimator=DecisionTreeClassifier(class_weight=None,\n",
       "                                                         criterion='gini',\n",
       "                                                         max_depth=1,\n",
       "                                                         max_features=None,\n",
       "                                                         max_leaf_nodes=None,\n",
       "                                                         min_impurity_decrease=0.0,\n",
       "                                                         min_impurity_split=None,\n",
       "                                                         min_samples_leaf=1,\n",
       "                                                         min_samples_split=2,\n",
       "                                                         min_weight_fraction_leaf=0.0,\n",
       "                                                         presort=False,\n",
       "                                                         random_state=None,\n",
       "                                                         splitter='best'),\n",
       "                   learning_rate=1.7, n_estimators=210, random_state=None)"
      ]
     },
     "execution_count": 33,
     "metadata": {},
     "output_type": "execute_result"
    }
   ],
   "source": [
    "gs_model.best_estimator_"
   ]
  },
  {
   "cell_type": "code",
   "execution_count": 34,
   "metadata": {},
   "outputs": [
    {
     "name": "stdout",
     "output_type": "stream",
     "text": [
      "Sklearn AdaBoost Classifier :\n",
      "----------------------------\n",
      " - ROC AUC _score:  0.921\n",
      "----------------------------\n",
      " - accuracy_score:  0.862\n",
      " - f1_score:  0.692\n",
      "              precision    recall  f1-score   support\n",
      "\n",
      "         0.0       0.88      0.94      0.91      4843\n",
      "         1.0       0.78      0.62      0.69      1604\n",
      "\n",
      "    accuracy                           0.86      6447\n",
      "   macro avg       0.83      0.78      0.80      6447\n",
      "weighted avg       0.86      0.86      0.86      6447\n",
      "\n"
     ]
    },
    {
     "data": {
      "image/png": "[encoded data removed]",
      "text/plain": [
       "<Figure size 216x216 with 1 Axes>"
      ]
     },
     "metadata": {
      "needs_background": "light"
     },
     "output_type": "display_data"
    }
   ],
   "source": [
    "# accuracy score for model with GS\n",
    "\n",
    "y_pred_gs = gs_model.predict(X_test)\n",
    "\n",
    "# calculate the AUC\n",
    "y_pred_prob_gs = gs_model.predict_proba(X_test)\n",
    "fpr, tpr, thresholds = roc_curve(y_true=y_test, y_score=y_pred_prob_gs[:,1], pos_label=1)\n",
    "\n",
    "roc_auc = auc(fpr, tpr)\n",
    "\n",
    "print(\"Sklearn AdaBoost Classifier :\")\n",
    "print('----------------------------')\n",
    "print(f\" - ROC AUC _score: {roc_auc: .3f}\")\n",
    "print('----------------------------')\n",
    "print(f\" - accuracy_score: {accuracy_score(y_test, y_pred_gs): .3f}\")\n",
    "print(f\" - f1_score: {f1_score(y_test, y_pred_gs): .3f}\")\n",
    "print(classification_report(y_test, y_pred_gs))\n",
    "    \n",
    "CM = confusion_matrix(y_test, y_pred_gs)\n",
    "from mlxtend.plotting import plot_confusion_matrix\n",
    "fig, ax = plot_confusion_matrix(conf_mat=CM ,  figsize=(3, 3))\n",
    "plt.title('AdaBoost after Tuning')\n",
    "plt.show()"
   ]
  },
  {
   "cell_type": "markdown",
   "metadata": {},
   "source": [
    "## Summary\n",
    "\n",
    "### In conclusion, it can be noted that with the constant 'accuracy', the 'recall  1 class' \n",
    "###  and 'ROC AUC' increased, this positively characterizes our model."
   ]
  }
 ],
 "metadata": {
  "kernelspec": {
   "display_name": "Python 3",
   "language": "python",
   "name": "python3"
  },
  "language_info": {
   "codemirror_mode": {
    "name": "ipython",
    "version": 3
   },
   "file_extension": ".py",
   "mimetype": "text/x-python",
   "name": "python",
   "nbconvert_exporter": "python",
   "pygments_lexer": "ipython3",
   "version": "3.7.4"
  }
 },
 "nbformat": 4,
 "nbformat_minor": 2
}
