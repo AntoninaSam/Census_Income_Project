{
 "cells": [
  {
   "cell_type": "code",
   "execution_count": 1,
   "metadata": {},
   "outputs": [],
   "source": [
    "import pandas as pd\n",
    "import numpy as np\n",
    "from sklearn.preprocessing import LabelEncoder, OneHotEncoder\n",
    "from sklearn.preprocessing import RobustScaler\n",
    "from sklearn.model_selection import train_test_split, cross_val_score, GridSearchCV\n",
    "from sklearn.linear_model import LogisticRegression\n",
    "from sklearn.tree import DecisionTreeClassifier\n",
    "from sklearn.svm import SVC\n",
    "from sklearn.neighbors import KNeighborsClassifier\n",
    "from sklearn.ensemble import RandomForestClassifier, AdaBoostClassifier, BaggingClassifier\n",
    "import xgboost as xgb\n",
    "from xgboost.sklearn import XGBClassifier\n",
    "from sklearn.metrics import accuracy_score, confusion_matrix, classification_report,roc_curve, auc, f1_score\n",
    "from sklearn.metrics import roc_curve, auc, f1_score\n",
    "from datetime import datetime\n",
    "import matplotlib.pyplot as plt\n",
    "import mlxtend\n",
    "from mlxtend.plotting import plot_confusion_matrix\n",
    "\n",
    "from sklearn.metrics import roc_curve, auc, accuracy_score, f1_score, roc_auc_score\n",
    "from sklearn.model_selection import GridSearchCV\n",
    "\n",
    "import warnings\n",
    "warnings.filterwarnings(\"ignore\")"
   ]
  },
  {
   "cell_type": "code",
   "execution_count": 2,
   "metadata": {},
   "outputs": [
    {
     "data": {
      "text/plain": [
       "(32561, 18)"
      ]
     },
     "execution_count": 2,
     "metadata": {},
     "output_type": "execute_result"
    }
   ],
   "source": [
    "d_f = pd.read_csv('data/raw/census_income.csv')\n",
    "d_f.shape"
   ]
  },
  {
   "cell_type": "code",
   "execution_count": 3,
   "metadata": {},
   "outputs": [
    {
     "data": {
      "text/plain": [
       "(32188, 17)"
      ]
     },
     "execution_count": 3,
     "metadata": {},
     "output_type": "execute_result"
    }
   ],
   "source": [
    "df = pd.read_csv('data/raw/raw_data_for_pipeline_v2.csv').drop_duplicates(keep=False)\n",
    "df.shape"
   ]
  },
  {
   "cell_type": "code",
   "execution_count": 4,
   "metadata": {},
   "outputs": [
    {
     "data": {
      "text/html": [
       "<div>\n",
       "<style scoped>\n",
       "    .dataframe tbody tr th:only-of-type {\n",
       "        vertical-align: middle;\n",
       "    }\n",
       "\n",
       "    .dataframe tbody tr th {\n",
       "        vertical-align: top;\n",
       "    }\n",
       "\n",
       "    .dataframe thead th {\n",
       "        text-align: right;\n",
       "    }\n",
       "</style>\n",
       "<table border=\"1\" class=\"dataframe\">\n",
       "  <thead>\n",
       "    <tr style=\"text-align: right;\">\n",
       "      <th></th>\n",
       "      <th>age</th>\n",
       "      <th>sex</th>\n",
       "      <th>race</th>\n",
       "      <th>marital_status</th>\n",
       "      <th>relationship_label</th>\n",
       "      <th>relationship</th>\n",
       "      <th>functional_weight</th>\n",
       "      <th>education</th>\n",
       "      <th>education_num</th>\n",
       "      <th>workclass</th>\n",
       "      <th>occupation</th>\n",
       "      <th>capital_gain</th>\n",
       "      <th>capital_loss</th>\n",
       "      <th>hours_per_week</th>\n",
       "      <th>native_country</th>\n",
       "      <th>country_name</th>\n",
       "      <th>target</th>\n",
       "    </tr>\n",
       "  </thead>\n",
       "  <tbody>\n",
       "    <tr>\n",
       "      <th>0</th>\n",
       "      <td>66</td>\n",
       "      <td>1</td>\n",
       "      <td>4</td>\n",
       "      <td>2</td>\n",
       "      <td>0</td>\n",
       "      <td>0</td>\n",
       "      <td>36364</td>\n",
       "      <td>11</td>\n",
       "      <td>9</td>\n",
       "      <td>2</td>\n",
       "      <td>3</td>\n",
       "      <td>0</td>\n",
       "      <td>2267</td>\n",
       "      <td>40</td>\n",
       "      <td>39</td>\n",
       "      <td>39</td>\n",
       "      <td>0</td>\n",
       "    </tr>\n",
       "    <tr>\n",
       "      <th>1</th>\n",
       "      <td>32</td>\n",
       "      <td>1</td>\n",
       "      <td>4</td>\n",
       "      <td>4</td>\n",
       "      <td>1</td>\n",
       "      <td>1</td>\n",
       "      <td>142675</td>\n",
       "      <td>11</td>\n",
       "      <td>9</td>\n",
       "      <td>4</td>\n",
       "      <td>3</td>\n",
       "      <td>0</td>\n",
       "      <td>0</td>\n",
       "      <td>40</td>\n",
       "      <td>39</td>\n",
       "      <td>39</td>\n",
       "      <td>0</td>\n",
       "    </tr>\n",
       "    <tr>\n",
       "      <th>2</th>\n",
       "      <td>28</td>\n",
       "      <td>0</td>\n",
       "      <td>2</td>\n",
       "      <td>4</td>\n",
       "      <td>1</td>\n",
       "      <td>1</td>\n",
       "      <td>161087</td>\n",
       "      <td>15</td>\n",
       "      <td>10</td>\n",
       "      <td>4</td>\n",
       "      <td>4</td>\n",
       "      <td>0</td>\n",
       "      <td>0</td>\n",
       "      <td>45</td>\n",
       "      <td>23</td>\n",
       "      <td>23</td>\n",
       "      <td>0</td>\n",
       "    </tr>\n",
       "  </tbody>\n",
       "</table>\n",
       "</div>"
      ],
      "text/plain": [
       "   age  sex  race  marital_status  relationship_label  relationship  \\\n",
       "0   66    1     4               2                   0             0   \n",
       "1   32    1     4               4                   1             1   \n",
       "2   28    0     2               4                   1             1   \n",
       "\n",
       "   functional_weight  education  education_num  workclass  occupation  \\\n",
       "0              36364         11              9          2           3   \n",
       "1             142675         11              9          4           3   \n",
       "2             161087         15             10          4           4   \n",
       "\n",
       "   capital_gain  capital_loss  hours_per_week  native_country  country_name  \\\n",
       "0             0          2267              40              39            39   \n",
       "1             0             0              40              39            39   \n",
       "2             0             0              45              23            23   \n",
       "\n",
       "   target  \n",
       "0       0  \n",
       "1       0  \n",
       "2       0  "
      ]
     },
     "execution_count": 4,
     "metadata": {},
     "output_type": "execute_result"
    }
   ],
   "source": [
    "le = LabelEncoder()\n",
    "column_for_label = ['sex','race','marital_status','relationship','education','workclass',\n",
    "                    'occupation','country_name']\n",
    "for c in column_for_label:\n",
    "    df[c] = le.fit_transform(df[c]) # transorming feature\n",
    "df.head(3)"
   ]
  },
  {
   "cell_type": "code",
   "execution_count": 5,
   "metadata": {},
   "outputs": [
    {
     "data": {
      "text/html": [
       "<div>\n",
       "<style scoped>\n",
       "    .dataframe tbody tr th:only-of-type {\n",
       "        vertical-align: middle;\n",
       "    }\n",
       "\n",
       "    .dataframe tbody tr th {\n",
       "        vertical-align: top;\n",
       "    }\n",
       "\n",
       "    .dataframe thead th {\n",
       "        text-align: right;\n",
       "    }\n",
       "</style>\n",
       "<table border=\"1\" class=\"dataframe\">\n",
       "  <thead>\n",
       "    <tr style=\"text-align: right;\">\n",
       "      <th></th>\n",
       "      <th>age</th>\n",
       "      <th>sex</th>\n",
       "      <th>race</th>\n",
       "      <th>marital_status</th>\n",
       "      <th>relationship</th>\n",
       "      <th>functional_weight</th>\n",
       "      <th>education</th>\n",
       "      <th>workclass</th>\n",
       "      <th>occupation</th>\n",
       "      <th>capital_gain</th>\n",
       "      <th>capital_loss</th>\n",
       "      <th>hours_per_week</th>\n",
       "      <th>country_name</th>\n",
       "      <th>target</th>\n",
       "    </tr>\n",
       "  </thead>\n",
       "  <tbody>\n",
       "    <tr>\n",
       "      <th>0</th>\n",
       "      <td>66</td>\n",
       "      <td>1</td>\n",
       "      <td>4</td>\n",
       "      <td>2</td>\n",
       "      <td>0</td>\n",
       "      <td>36364</td>\n",
       "      <td>11</td>\n",
       "      <td>2</td>\n",
       "      <td>3</td>\n",
       "      <td>0</td>\n",
       "      <td>2267</td>\n",
       "      <td>40</td>\n",
       "      <td>39</td>\n",
       "      <td>0</td>\n",
       "    </tr>\n",
       "  </tbody>\n",
       "</table>\n",
       "</div>"
      ],
      "text/plain": [
       "   age  sex  race  marital_status  relationship  functional_weight  education  \\\n",
       "0   66    1     4               2             0              36364         11   \n",
       "\n",
       "   workclass  occupation  capital_gain  capital_loss  hours_per_week  \\\n",
       "0          2           3             0          2267              40   \n",
       "\n",
       "   country_name  target  \n",
       "0            39       0  "
      ]
     },
     "execution_count": 5,
     "metadata": {},
     "output_type": "execute_result"
    }
   ],
   "source": [
    "columns_to_drop = ['relationship_label', 'education_num','native_country']\n",
    "df.drop(columns_to_drop, axis = 1, inplace = True)\n",
    "df.head(1)"
   ]
  },
  {
   "cell_type": "code",
   "execution_count": 6,
   "metadata": {},
   "outputs": [],
   "source": [
    "data_features_rs = df.iloc[:, : ]\n",
    "\n",
    "scaler = RobustScaler()\n",
    "scaled_df = pd.DataFrame(\n",
    "    data=scaler.fit_transform(data_features_rs), \n",
    "    columns=data_features_rs.columns\n",
    ")"
   ]
  },
  {
   "cell_type": "code",
   "execution_count": 7,
   "metadata": {},
   "outputs": [
    {
     "data": {
      "text/plain": [
       "(7764, 14)"
      ]
     },
     "execution_count": 7,
     "metadata": {},
     "output_type": "execute_result"
    }
   ],
   "source": [
    "sc_1 = scaled_df[scaled_df['target'] == 1]\n",
    "sc_1.shape"
   ]
  },
  {
   "cell_type": "code",
   "execution_count": 8,
   "metadata": {},
   "outputs": [
    {
     "data": {
      "text/html": [
       "<div>\n",
       "<style scoped>\n",
       "    .dataframe tbody tr th:only-of-type {\n",
       "        vertical-align: middle;\n",
       "    }\n",
       "\n",
       "    .dataframe tbody tr th {\n",
       "        vertical-align: top;\n",
       "    }\n",
       "\n",
       "    .dataframe thead th {\n",
       "        text-align: right;\n",
       "    }\n",
       "</style>\n",
       "<table border=\"1\" class=\"dataframe\">\n",
       "  <thead>\n",
       "    <tr style=\"text-align: right;\">\n",
       "      <th></th>\n",
       "      <th>age</th>\n",
       "      <th>sex</th>\n",
       "      <th>race</th>\n",
       "      <th>marital_status</th>\n",
       "      <th>relationship</th>\n",
       "      <th>functional_weight</th>\n",
       "      <th>education</th>\n",
       "      <th>workclass</th>\n",
       "      <th>occupation</th>\n",
       "      <th>capital_gain</th>\n",
       "      <th>capital_loss</th>\n",
       "      <th>hours_per_week</th>\n",
       "      <th>country_name</th>\n",
       "      <th>target</th>\n",
       "    </tr>\n",
       "  </thead>\n",
       "  <tbody>\n",
       "    <tr>\n",
       "      <th>0</th>\n",
       "      <td>1.45</td>\n",
       "      <td>0.0</td>\n",
       "      <td>0.0</td>\n",
       "      <td>0.0</td>\n",
       "      <td>-0.333333</td>\n",
       "      <td>-1.191587</td>\n",
       "      <td>0.0</td>\n",
       "      <td>-2.0</td>\n",
       "      <td>-0.571429</td>\n",
       "      <td>0.0</td>\n",
       "      <td>2267.0</td>\n",
       "      <td>0.0</td>\n",
       "      <td>0.0</td>\n",
       "      <td>0.0</td>\n",
       "    </tr>\n",
       "  </tbody>\n",
       "</table>\n",
       "</div>"
      ],
      "text/plain": [
       "    age  sex  race  marital_status  relationship  functional_weight  \\\n",
       "0  1.45  0.0   0.0             0.0     -0.333333          -1.191587   \n",
       "\n",
       "   education  workclass  occupation  capital_gain  capital_loss  \\\n",
       "0        0.0       -2.0   -0.571429           0.0        2267.0   \n",
       "\n",
       "   hours_per_week  country_name  target  \n",
       "0             0.0           0.0     0.0  "
      ]
     },
     "execution_count": 8,
     "metadata": {},
     "output_type": "execute_result"
    }
   ],
   "source": [
    "sc_0 = scaled_df[scaled_df['target'] == 0].iloc[:7764]\n",
    "sc_0.head(1)"
   ]
  },
  {
   "cell_type": "code",
   "execution_count": 9,
   "metadata": {},
   "outputs": [
    {
     "data": {
      "text/plain": [
       "(15528, 14)"
      ]
     },
     "execution_count": 9,
     "metadata": {},
     "output_type": "execute_result"
    }
   ],
   "source": [
    "sc_df = pd.concat([sc_1, sc_0], axis = 0,).reset_index(drop = True)\n",
    "sc_df.shape"
   ]
  },
  {
   "cell_type": "code",
   "execution_count": 10,
   "metadata": {},
   "outputs": [
    {
     "data": {
      "text/plain": [
       "0.0    16660\n",
       "Name: target, dtype: int64"
      ]
     },
     "execution_count": 10,
     "metadata": {},
     "output_type": "execute_result"
    }
   ],
   "source": [
    "delta = pd.concat([scaled_df, sc_df]).drop_duplicates(keep=False).reset_index(drop = True)\n",
    "delta.target.value_counts()"
   ]
  },
  {
   "cell_type": "code",
   "execution_count": 11,
   "metadata": {},
   "outputs": [],
   "source": [
    "X_df = sc_df.drop(['target'], axis = 1)\n",
    "y_df = sc_df['target']"
   ]
  },
  {
   "cell_type": "code",
   "execution_count": 12,
   "metadata": {},
   "outputs": [
    {
     "data": {
      "text/plain": [
       "0.0    6220\n",
       "1.0    6202\n",
       "Name: target, dtype: int64"
      ]
     },
     "execution_count": 12,
     "metadata": {},
     "output_type": "execute_result"
    }
   ],
   "source": [
    "X_train, X_test, y_train, y_test = train_test_split(\n",
    "    X_df,\n",
    "    y_df,\n",
    "    test_size=0.20,\n",
    "    random_state=42)\n",
    "y_train.value_counts()"
   ]
  },
  {
   "cell_type": "code",
   "execution_count": 13,
   "metadata": {},
   "outputs": [
    {
     "data": {
      "text/plain": [
       "14586    0.0\n",
       "10094    0.0\n",
       "6196     1.0\n",
       "12474    0.0\n",
       "10417    0.0\n",
       "7388     1.0\n",
       "11643    0.0\n",
       "4828     1.0\n",
       "10118    0.0\n",
       "7528     1.0\n",
       "Name: target, dtype: float64"
      ]
     },
     "execution_count": 13,
     "metadata": {},
     "output_type": "execute_result"
    }
   ],
   "source": [
    "y_train.head(10)"
   ]
  },
  {
   "cell_type": "code",
   "execution_count": 14,
   "metadata": {},
   "outputs": [],
   "source": [
    "#Instantiate the classifiers\n",
    "clf_logreg = LogisticRegression()\n",
    "clf_tree = DecisionTreeClassifier()\n",
    "clf_knn =  KNeighborsClassifier()\n",
    "clf_svc = SVC()\n",
    "clf_forest = RandomForestClassifier()\n",
    "clf_ada = AdaBoostClassifier(learning_rate=1.7, n_estimators=210)\n",
    "clf_bagging = BaggingClassifier()\n",
    "clf_xgb = XGBClassifier()"
   ]
  },
  {
   "cell_type": "code",
   "execution_count": 15,
   "metadata": {},
   "outputs": [],
   "source": [
    "models_new = {clf_xgb: 'XGBoost',        \n",
    "              clf_ada: 'AdaBoostClassifier',\n",
    "              clf_forest: 'RandomForestClassifier',}\n",
    "\n",
    "classifiers_new = models_new.values()"
   ]
  },
  {
   "cell_type": "code",
   "execution_count": 16,
   "metadata": {},
   "outputs": [
    {
     "name": "stdout",
     "output_type": "stream",
     "text": [
      "+++++++++++++++++++++++  XGBoost  ++++++++++++++++++++ :\n",
      " - accuracy_score:  0.843\n",
      " - f1_score:  0.848\n",
      "----------------------------\n",
      " - ROC AUC _score:  0.925\n",
      "----------------------------\n",
      "              precision    recall  f1-score   support\n",
      "\n",
      "         0.0       0.86      0.81      0.84      1544\n",
      "         1.0       0.82      0.87      0.85      1562\n",
      "\n",
      "    accuracy                           0.84      3106\n",
      "   macro avg       0.84      0.84      0.84      3106\n",
      "weighted avg       0.84      0.84      0.84      3106\n",
      "\n"
     ]
    },
    {
     "data": {
      "image/png": "[encoded data removed]",
      "text/plain": [
       "<Figure size 216x216 with 1 Axes>"
      ]
     },
     "metadata": {
      "needs_background": "light"
     },
     "output_type": "display_data"
    },
    {
     "name": "stdout",
     "output_type": "stream",
     "text": [
      "+++++++++++++++++++++++  AdaBoostClassifier  ++++++++++++++++++++ :\n",
      " - accuracy_score:  0.846\n",
      " - f1_score:  0.849\n",
      "----------------------------\n",
      " - ROC AUC _score:  0.927\n",
      "----------------------------\n",
      "              precision    recall  f1-score   support\n",
      "\n",
      "         0.0       0.86      0.83      0.84      1544\n",
      "         1.0       0.84      0.86      0.85      1562\n",
      "\n",
      "    accuracy                           0.85      3106\n",
      "   macro avg       0.85      0.85      0.85      3106\n",
      "weighted avg       0.85      0.85      0.85      3106\n",
      "\n"
     ]
    },
    {
     "data": {
      "image/png": "[encoded data removed]",
      "text/plain": [
       "<Figure size 216x216 with 1 Axes>"
      ]
     },
     "metadata": {
      "needs_background": "light"
     },
     "output_type": "display_data"
    },
    {
     "name": "stdout",
     "output_type": "stream",
     "text": [
      "+++++++++++++++++++++++  RandomForestClassifier  ++++++++++++++++++++ :\n",
      " - accuracy_score:  0.812\n",
      " - f1_score:  0.811\n",
      "----------------------------\n",
      " - ROC AUC _score:  0.894\n",
      "----------------------------\n",
      "              precision    recall  f1-score   support\n",
      "\n",
      "         0.0       0.80      0.82      0.81      1544\n",
      "         1.0       0.82      0.80      0.81      1562\n",
      "\n",
      "    accuracy                           0.81      3106\n",
      "   macro avg       0.81      0.81      0.81      3106\n",
      "weighted avg       0.81      0.81      0.81      3106\n",
      "\n"
     ]
    },
    {
     "data": {
      "image/png": "[encoded data removed]",
      "text/plain": [
       "<Figure size 216x216 with 1 Axes>"
      ]
     },
     "metadata": {
      "needs_background": "light"
     },
     "output_type": "display_data"
    }
   ],
   "source": [
    "mean_score = []\n",
    "std_score = []\n",
    "time_best_model_fit = []\n",
    "\n",
    "for model,value in models_new.items():\n",
    "        \n",
    "    model.fit(X_train,y_train)\n",
    "    y_pred = model.predict(X_test)\n",
    "    # calculate the AUC\n",
    "    y_pred_prob = model.predict_proba(X_test)\n",
    "    fpr, tpr, thresholds = roc_curve(y_true=y_test, y_score=y_pred_prob[:,1], pos_label=1)\n",
    "    roc_auc = auc(fpr, tpr)\n",
    "    \n",
    "    print(f\"+++++++++++++++++++++++  {value}  ++++++++++++++++++++ :\")    \n",
    "    print(f\" - accuracy_score: {accuracy_score(y_test, y_pred): .3f}\")\n",
    "    print(f\" - f1_score: {f1_score(y_test, y_pred): .3f}\")\n",
    "    print('----------------------------')\n",
    "    print(f\" - ROC AUC _score: {roc_auc: .3f}\")\n",
    "    print('----------------------------')\n",
    "    print(classification_report(y_test, y_pred))\n",
    "    \n",
    "    CM = confusion_matrix(y_test, y_pred)\n",
    "    from mlxtend.plotting import plot_confusion_matrix\n",
    "    fig, ax = plot_confusion_matrix(conf_mat=CM ,  figsize=(3, 3))\n",
    "    plt.title(f'{value} confusion matrix')\n",
    "    plt.show()\n",
    "    \n",
    "#     importances = model.feature_importances_\n",
    "#     indices = np.argsort(importances)[::-1] \n",
    "#     plt.figure(figsize=(10,6))\n",
    "#     plt.barh(X_train.columns[indices], importances[indices])\n",
    "#     plt.title(f'{value} Feature Importances')\n",
    "#     plt.show()\n",
    "\n",
    "    start_time = datetime.now()\n",
    "    scores = cross_val_score(model,X_train,y_train,scoring = 'accuracy',cv = 10)\n",
    "    elapsed_time = datetime.now() - start_time\n",
    "    mean_score.append(scores.mean())\n",
    "    std_score.append(scores.std())\n",
    "    time_best_model_fit.append(elapsed_time)"
   ]
  },
  {
   "cell_type": "code",
   "execution_count": 17,
   "metadata": {},
   "outputs": [
    {
     "data": {
      "text/html": [
       "<div>\n",
       "<style scoped>\n",
       "    .dataframe tbody tr th:only-of-type {\n",
       "        vertical-align: middle;\n",
       "    }\n",
       "\n",
       "    .dataframe tbody tr th {\n",
       "        vertical-align: top;\n",
       "    }\n",
       "\n",
       "    .dataframe thead th {\n",
       "        text-align: right;\n",
       "    }\n",
       "</style>\n",
       "<table border=\"1\" class=\"dataframe\">\n",
       "  <thead>\n",
       "    <tr style=\"text-align: right;\">\n",
       "      <th></th>\n",
       "      <th>Accuracy Score</th>\n",
       "      <th>STD of Accuracy</th>\n",
       "      <th>Time to Fit</th>\n",
       "    </tr>\n",
       "  </thead>\n",
       "  <tbody>\n",
       "    <tr>\n",
       "      <th>AdaBoostClassifier</th>\n",
       "      <td>0.836</td>\n",
       "      <td>0.008699</td>\n",
       "      <td>00:00:12.708354</td>\n",
       "    </tr>\n",
       "    <tr>\n",
       "      <th>XGBoost</th>\n",
       "      <td>0.832</td>\n",
       "      <td>0.011939</td>\n",
       "      <td>00:00:08.941693</td>\n",
       "    </tr>\n",
       "    <tr>\n",
       "      <th>RandomForestClassifier</th>\n",
       "      <td>0.810</td>\n",
       "      <td>0.008969</td>\n",
       "      <td>00:00:00.952677</td>\n",
       "    </tr>\n",
       "  </tbody>\n",
       "</table>\n",
       "</div>"
      ],
      "text/plain": [
       "                        Accuracy Score  STD of Accuracy     Time to Fit\n",
       "AdaBoostClassifier               0.836         0.008699 00:00:12.708354\n",
       "XGBoost                          0.832         0.011939 00:00:08.941693\n",
       "RandomForestClassifier           0.810         0.008969 00:00:00.952677"
      ]
     },
     "execution_count": 17,
     "metadata": {},
     "output_type": "execute_result"
    }
   ],
   "source": [
    "cross_val_best_models = pd.DataFrame(mean_score, index = classifiers_new,\n",
    "            columns = ['Accuracy Score', ]).round(3)\n",
    "cross_val_best_models['STD of Accuracy'] = std_score\n",
    "cross_val_best_models['Time to Fit'] = time_best_model_fit\n",
    "cross_val_best_models.sort_values(by = 'Accuracy Score', ascending = False)"
   ]
  },
  {
   "cell_type": "code",
   "execution_count": 18,
   "metadata": {},
   "outputs": [
    {
     "data": {
      "text/plain": [
       "0.0    6220\n",
       "1.0    6202\n",
       "Name: target, dtype: int64"
      ]
     },
     "execution_count": 18,
     "metadata": {},
     "output_type": "execute_result"
    }
   ],
   "source": [
    "X_train, X_test_sc, y_train, y_test_sc = train_test_split(\n",
    "    X_df,\n",
    "    y_df,\n",
    "    test_size=0.20,\n",
    "    random_state=42)\n",
    "y_train.value_counts()"
   ]
  },
  {
   "cell_type": "code",
   "execution_count": 19,
   "metadata": {},
   "outputs": [],
   "source": [
    "X_delta = delta.drop(['target'], axis = 1)\n",
    "y_delta = delta['target']"
   ]
  },
  {
   "cell_type": "code",
   "execution_count": 20,
   "metadata": {},
   "outputs": [
    {
     "data": {
      "text/plain": [
       "((19766, 13), (3106, 13), (16660, 13), (12422, 13))"
      ]
     },
     "execution_count": 20,
     "metadata": {},
     "output_type": "execute_result"
    }
   ],
   "source": [
    "X_test = pd.concat([X_test_sc, X_delta], axis = 0,).reset_index(drop = True)\n",
    "X_test.shape, X_test_sc.shape, X_delta.shape,  X_train.shape"
   ]
  },
  {
   "cell_type": "code",
   "execution_count": 21,
   "metadata": {},
   "outputs": [
    {
     "data": {
      "text/plain": [
       "0.0    18204\n",
       "1.0     1562\n",
       "Name: target, dtype: int64"
      ]
     },
     "execution_count": 21,
     "metadata": {},
     "output_type": "execute_result"
    }
   ],
   "source": [
    "y_test = pd.concat([y_test_sc, y_delta], axis = 0,).reset_index(drop = True)\n",
    "y_test.value_counts()"
   ]
  },
  {
   "cell_type": "code",
   "execution_count": 22,
   "metadata": {},
   "outputs": [
    {
     "name": "stdout",
     "output_type": "stream",
     "text": [
      "+++++++++++++++++++++++  XGBoost  ++++++++++++++++++++ :\n",
      " - accuracy_score:  0.804\n",
      " - f1_score:  0.413\n",
      "----------------------------\n",
      " - ROC AUC _score:  0.921\n",
      "----------------------------\n",
      "              precision    recall  f1-score   support\n",
      "\n",
      "         0.0       0.99      0.80      0.88     18204\n",
      "         1.0       0.27      0.87      0.41      1562\n",
      "\n",
      "    accuracy                           0.80     19766\n",
      "   macro avg       0.63      0.84      0.65     19766\n",
      "weighted avg       0.93      0.80      0.85     19766\n",
      "\n"
     ]
    },
    {
     "data": {
      "image/png": "[encoded data removed]",
      "text/plain": [
       "<Figure size 216x216 with 1 Axes>"
      ]
     },
     "metadata": {
      "needs_background": "light"
     },
     "output_type": "display_data"
    },
    {
     "name": "stdout",
     "output_type": "stream",
     "text": [
      "+++++++++++++++++++++++  AdaBoostClassifier  ++++++++++++++++++++ :\n",
      " - accuracy_score:  0.822\n",
      " - f1_score:  0.434\n",
      "----------------------------\n",
      " - ROC AUC _score:  0.924\n",
      "----------------------------\n",
      "              precision    recall  f1-score   support\n",
      "\n",
      "         0.0       0.99      0.82      0.89     18204\n",
      "         1.0       0.29      0.86      0.43      1562\n",
      "\n",
      "    accuracy                           0.82     19766\n",
      "   macro avg       0.64      0.84      0.66     19766\n",
      "weighted avg       0.93      0.82      0.86     19766\n",
      "\n"
     ]
    },
    {
     "data": {
      "image/png": "[encoded data removed]",
      "text/plain": [
       "<Figure size 216x216 with 1 Axes>"
      ]
     },
     "metadata": {
      "needs_background": "light"
     },
     "output_type": "display_data"
    },
    {
     "name": "stdout",
     "output_type": "stream",
     "text": [
      "+++++++++++++++++++++++  RandomForestClassifier  ++++++++++++++++++++ :\n",
      " - accuracy_score:  0.818\n",
      " - f1_score:  0.410\n",
      "----------------------------\n",
      " - ROC AUC _score:  0.891\n",
      "----------------------------\n",
      "              precision    recall  f1-score   support\n",
      "\n",
      "         0.0       0.98      0.82      0.89     18204\n",
      "         1.0       0.28      0.80      0.41      1562\n",
      "\n",
      "    accuracy                           0.82     19766\n",
      "   macro avg       0.63      0.81      0.65     19766\n",
      "weighted avg       0.92      0.82      0.85     19766\n",
      "\n"
     ]
    },
    {
     "data": {
      "image/png": "[encoded data removed]",
      "text/plain": [
       "<Figure size 216x216 with 1 Axes>"
      ]
     },
     "metadata": {
      "needs_background": "light"
     },
     "output_type": "display_data"
    }
   ],
   "source": [
    "mean_score = []\n",
    "std_score = []\n",
    "time_best_model_fit = []\n",
    "\n",
    "for model,value in models_new.items():\n",
    "        \n",
    "    model.fit(X_train,y_train)\n",
    "    y_pred = model.predict(X_test)\n",
    "    # calculate the AUC\n",
    "    y_pred_prob = model.predict_proba(X_test)\n",
    "    fpr, tpr, thresholds = roc_curve(y_true=y_test, y_score=y_pred_prob[:,1], pos_label=1)\n",
    "    roc_auc = auc(fpr, tpr)\n",
    "    \n",
    "    print(f\"+++++++++++++++++++++++  {value}  ++++++++++++++++++++ :\")    \n",
    "    print(f\" - accuracy_score: {accuracy_score(y_test, y_pred): .3f}\")\n",
    "    print(f\" - f1_score: {f1_score(y_test, y_pred): .3f}\")\n",
    "    print('----------------------------')\n",
    "    print(f\" - ROC AUC _score: {roc_auc: .3f}\")\n",
    "    print('----------------------------')\n",
    "    print(classification_report(y_test, y_pred))\n",
    "    \n",
    "    CM = confusion_matrix(y_test, y_pred)\n",
    "    from mlxtend.plotting import plot_confusion_matrix\n",
    "    fig, ax = plot_confusion_matrix(conf_mat=CM ,  figsize=(3, 3))\n",
    "    plt.title(f'{value} confusion matrix')\n",
    "    plt.show()\n",
    "    \n",
    "#     importances = model.feature_importances_\n",
    "#     indices = np.argsort(importances)[::-1] \n",
    "#     plt.figure(figsize=(10,6))\n",
    "#     plt.barh(X_train.columns[indices], importances[indices])\n",
    "#     plt.title(f'{value} Feature Importances')\n",
    "#     plt.show()\n",
    "\n",
    "    start_time = datetime.now()\n",
    "    scores = cross_val_score(model,X_train,y_train,scoring = 'accuracy',cv = 10)\n",
    "    elapsed_time = datetime.now() - start_time\n",
    "    mean_score.append(scores.mean())\n",
    "    std_score.append(scores.std())\n",
    "    time_best_model_fit.append(elapsed_time)"
   ]
  },
  {
   "cell_type": "code",
   "execution_count": 23,
   "metadata": {},
   "outputs": [
    {
     "data": {
      "text/html": [
       "<div>\n",
       "<style scoped>\n",
       "    .dataframe tbody tr th:only-of-type {\n",
       "        vertical-align: middle;\n",
       "    }\n",
       "\n",
       "    .dataframe tbody tr th {\n",
       "        vertical-align: top;\n",
       "    }\n",
       "\n",
       "    .dataframe thead th {\n",
       "        text-align: right;\n",
       "    }\n",
       "</style>\n",
       "<table border=\"1\" class=\"dataframe\">\n",
       "  <thead>\n",
       "    <tr style=\"text-align: right;\">\n",
       "      <th></th>\n",
       "      <th>Accuracy Score</th>\n",
       "      <th>STD of Accuracy</th>\n",
       "      <th>Time to Fit</th>\n",
       "    </tr>\n",
       "  </thead>\n",
       "  <tbody>\n",
       "    <tr>\n",
       "      <th>AdaBoostClassifier</th>\n",
       "      <td>0.836</td>\n",
       "      <td>0.008699</td>\n",
       "      <td>00:00:13.369206</td>\n",
       "    </tr>\n",
       "    <tr>\n",
       "      <th>XGBoost</th>\n",
       "      <td>0.832</td>\n",
       "      <td>0.011939</td>\n",
       "      <td>00:00:08.739440</td>\n",
       "    </tr>\n",
       "    <tr>\n",
       "      <th>RandomForestClassifier</th>\n",
       "      <td>0.806</td>\n",
       "      <td>0.008259</td>\n",
       "      <td>00:00:00.935933</td>\n",
       "    </tr>\n",
       "  </tbody>\n",
       "</table>\n",
       "</div>"
      ],
      "text/plain": [
       "                        Accuracy Score  STD of Accuracy     Time to Fit\n",
       "AdaBoostClassifier               0.836         0.008699 00:00:13.369206\n",
       "XGBoost                          0.832         0.011939 00:00:08.739440\n",
       "RandomForestClassifier           0.806         0.008259 00:00:00.935933"
      ]
     },
     "execution_count": 23,
     "metadata": {},
     "output_type": "execute_result"
    }
   ],
   "source": [
    "cross_val_best_models = pd.DataFrame(mean_score, index = classifiers_new,\n",
    "            columns = ['Accuracy Score', ]).round(3)\n",
    "cross_val_best_models['STD of Accuracy'] = std_score\n",
    "cross_val_best_models['Time to Fit'] = time_best_model_fit\n",
    "cross_val_best_models.sort_values(by = 'Accuracy Score', ascending = False)"
   ]
  }
 ],
 "metadata": {
  "kernelspec": {
   "display_name": "Python 3",
   "language": "python",
   "name": "python3"
  },
  "language_info": {
   "codemirror_mode": {
    "name": "ipython",
    "version": 3
   },
   "file_extension": ".py",
   "mimetype": "text/x-python",
   "name": "python",
   "nbconvert_exporter": "python",
   "pygments_lexer": "ipython3",
   "version": "3.7.4"
  }
 },
 "nbformat": 4,
 "nbformat_minor": 2
}
