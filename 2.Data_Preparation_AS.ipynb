{
 "cells": [
  {
   "cell_type": "markdown",
   "metadata": {},
   "source": [
    "# Final Project _ Census_Income_groupC"
   ]
  },
  {
   "cell_type": "markdown",
   "metadata": {},
   "source": [
    "age: Age\n",
    "\n",
    "workclass: Nature of employment\n",
    "\n",
    "functional_weight: Sample weight of the individual from the original Census data. How likely they were to be included in this dataset, based on their demographic characteristics vs. whole-population estimates.\n",
    "\n",
    "education: Level of education completed\n",
    "\n",
    "education_num: Estimated years of education completed based on the value of the education field.\n",
    "\n",
    "marital_status: Marital status\n",
    "\n",
    "occupation: Occupation category\n",
    "\n",
    "relationship: Relationship to the household\n",
    "\n",
    "race: Race\n",
    "\n",
    "sex: Gender\n",
    "\n",
    "capital_gain: Amount of capital gains\n",
    "\n",
    "capital_loss: Amount of capital loss\n",
    "\n",
    "hours_per_week: Hours worked per week\n",
    "\n",
    "native_country: Country of birth\n",
    "\n",
    "income_bracket: Either \">50K\" or \"<=50K\" based on income.\n"
   ]
  },
  {
   "cell_type": "markdown",
   "metadata": {},
   "source": [
    "# Task:"
   ]
  },
  {
   "cell_type": "markdown",
   "metadata": {},
   "source": [
    "\n",
    "##### Predict how much the person is likely to get paid based on his background by training a binary classification model.\n",
    "\n",
    "##### The target variable income_bracket means: What is the annual income of a person? >50K or <=50K."
   ]
  },
  {
   "cell_type": "code",
   "execution_count": 56,
   "metadata": {},
   "outputs": [],
   "source": [
    "# pakages import\n",
    "\n",
    "import numpy as np \n",
    "import pandas as pd \n",
    "import matplotlib.pyplot as plt\n",
    "from sklearn.model_selection import train_test_split\n",
    "import seaborn as sns\n",
    "\n",
    "from sklearn.preprocessing import StandardScaler\n",
    "from sklearn.impute import SimpleImputer\n",
    "\n",
    "\n"
   ]
  },
  {
   "cell_type": "code",
   "execution_count": 57,
   "metadata": {},
   "outputs": [
    {
     "data": {
      "text/html": [
       "<div>\n",
       "<style scoped>\n",
       "    .dataframe tbody tr th:only-of-type {\n",
       "        vertical-align: middle;\n",
       "    }\n",
       "\n",
       "    .dataframe tbody tr th {\n",
       "        vertical-align: top;\n",
       "    }\n",
       "\n",
       "    .dataframe thead th {\n",
       "        text-align: right;\n",
       "    }\n",
       "</style>\n",
       "<table border=\"1\" class=\"dataframe\">\n",
       "  <thead>\n",
       "    <tr style=\"text-align: right;\">\n",
       "      <th></th>\n",
       "      <th>Unnamed: 0</th>\n",
       "      <th>id</th>\n",
       "      <th>age</th>\n",
       "      <th>sex</th>\n",
       "      <th>race</th>\n",
       "      <th>marital_status</th>\n",
       "      <th>relationship_label</th>\n",
       "      <th>relationship</th>\n",
       "      <th>functional_weight</th>\n",
       "      <th>education</th>\n",
       "      <th>education_num</th>\n",
       "      <th>workclass</th>\n",
       "      <th>occupation</th>\n",
       "      <th>capital_gain</th>\n",
       "      <th>capital_loss</th>\n",
       "      <th>hours_per_week</th>\n",
       "      <th>native_country</th>\n",
       "      <th>country_name</th>\n",
       "      <th>income_bracket</th>\n",
       "    </tr>\n",
       "  </thead>\n",
       "  <tbody>\n",
       "    <tr>\n",
       "      <th>0</th>\n",
       "      <td>0</td>\n",
       "      <td>1623</td>\n",
       "      <td>17</td>\n",
       "      <td>Male</td>\n",
       "      <td>White</td>\n",
       "      <td>Married-civ-spouse</td>\n",
       "      <td>0</td>\n",
       "      <td>Husband</td>\n",
       "      <td>221129</td>\n",
       "      <td>9th</td>\n",
       "      <td>5</td>\n",
       "      <td>Private</td>\n",
       "      <td>Other-service</td>\n",
       "      <td>0</td>\n",
       "      <td>0</td>\n",
       "      <td>40</td>\n",
       "      <td>39</td>\n",
       "      <td>United-States</td>\n",
       "      <td>&lt;=50K</td>\n",
       "    </tr>\n",
       "    <tr>\n",
       "      <th>1</th>\n",
       "      <td>1</td>\n",
       "      <td>14761</td>\n",
       "      <td>17</td>\n",
       "      <td>Male</td>\n",
       "      <td>White</td>\n",
       "      <td>Never-married</td>\n",
       "      <td>3</td>\n",
       "      <td>Own-child</td>\n",
       "      <td>191260</td>\n",
       "      <td>9th</td>\n",
       "      <td>5</td>\n",
       "      <td>Private</td>\n",
       "      <td>Other-service</td>\n",
       "      <td>1055</td>\n",
       "      <td>0</td>\n",
       "      <td>24</td>\n",
       "      <td>39</td>\n",
       "      <td>United-States</td>\n",
       "      <td>&lt;=50K</td>\n",
       "    </tr>\n",
       "    <tr>\n",
       "      <th>2</th>\n",
       "      <td>2</td>\n",
       "      <td>14762</td>\n",
       "      <td>17</td>\n",
       "      <td>Male</td>\n",
       "      <td>Black</td>\n",
       "      <td>Never-married</td>\n",
       "      <td>3</td>\n",
       "      <td>Own-child</td>\n",
       "      <td>32124</td>\n",
       "      <td>9th</td>\n",
       "      <td>5</td>\n",
       "      <td>Local-gov</td>\n",
       "      <td>Other-service</td>\n",
       "      <td>0</td>\n",
       "      <td>0</td>\n",
       "      <td>9</td>\n",
       "      <td>39</td>\n",
       "      <td>United-States</td>\n",
       "      <td>&lt;=50K</td>\n",
       "    </tr>\n",
       "    <tr>\n",
       "      <th>3</th>\n",
       "      <td>3</td>\n",
       "      <td>14769</td>\n",
       "      <td>17</td>\n",
       "      <td>Male</td>\n",
       "      <td>Black</td>\n",
       "      <td>Never-married</td>\n",
       "      <td>3</td>\n",
       "      <td>Own-child</td>\n",
       "      <td>127003</td>\n",
       "      <td>9th</td>\n",
       "      <td>5</td>\n",
       "      <td>?</td>\n",
       "      <td>?</td>\n",
       "      <td>0</td>\n",
       "      <td>0</td>\n",
       "      <td>40</td>\n",
       "      <td>39</td>\n",
       "      <td>United-States</td>\n",
       "      <td>&lt;=50K</td>\n",
       "    </tr>\n",
       "    <tr>\n",
       "      <th>4</th>\n",
       "      <td>4</td>\n",
       "      <td>14796</td>\n",
       "      <td>17</td>\n",
       "      <td>Male</td>\n",
       "      <td>Black</td>\n",
       "      <td>Never-married</td>\n",
       "      <td>3</td>\n",
       "      <td>Own-child</td>\n",
       "      <td>133449</td>\n",
       "      <td>9th</td>\n",
       "      <td>5</td>\n",
       "      <td>Private</td>\n",
       "      <td>Other-service</td>\n",
       "      <td>0</td>\n",
       "      <td>0</td>\n",
       "      <td>26</td>\n",
       "      <td>39</td>\n",
       "      <td>United-States</td>\n",
       "      <td>&lt;=50K</td>\n",
       "    </tr>\n",
       "    <tr>\n",
       "      <th>...</th>\n",
       "      <td>...</td>\n",
       "      <td>...</td>\n",
       "      <td>...</td>\n",
       "      <td>...</td>\n",
       "      <td>...</td>\n",
       "      <td>...</td>\n",
       "      <td>...</td>\n",
       "      <td>...</td>\n",
       "      <td>...</td>\n",
       "      <td>...</td>\n",
       "      <td>...</td>\n",
       "      <td>...</td>\n",
       "      <td>...</td>\n",
       "      <td>...</td>\n",
       "      <td>...</td>\n",
       "      <td>...</td>\n",
       "      <td>...</td>\n",
       "      <td>...</td>\n",
       "      <td>...</td>\n",
       "    </tr>\n",
       "    <tr>\n",
       "      <th>32556</th>\n",
       "      <td>32556</td>\n",
       "      <td>23939</td>\n",
       "      <td>90</td>\n",
       "      <td>Female</td>\n",
       "      <td>Black</td>\n",
       "      <td>Widowed</td>\n",
       "      <td>1</td>\n",
       "      <td>Not-in-family</td>\n",
       "      <td>166343</td>\n",
       "      <td>1st-4th</td>\n",
       "      <td>2</td>\n",
       "      <td>?</td>\n",
       "      <td>?</td>\n",
       "      <td>0</td>\n",
       "      <td>0</td>\n",
       "      <td>40</td>\n",
       "      <td>39</td>\n",
       "      <td>United-States</td>\n",
       "      <td>&lt;=50K</td>\n",
       "    </tr>\n",
       "    <tr>\n",
       "      <th>32557</th>\n",
       "      <td>32557</td>\n",
       "      <td>24137</td>\n",
       "      <td>90</td>\n",
       "      <td>Female</td>\n",
       "      <td>White</td>\n",
       "      <td>Separated</td>\n",
       "      <td>1</td>\n",
       "      <td>Not-in-family</td>\n",
       "      <td>175444</td>\n",
       "      <td>7th-8th</td>\n",
       "      <td>4</td>\n",
       "      <td>?</td>\n",
       "      <td>?</td>\n",
       "      <td>0</td>\n",
       "      <td>0</td>\n",
       "      <td>15</td>\n",
       "      <td>39</td>\n",
       "      <td>United-States</td>\n",
       "      <td>&lt;=50K</td>\n",
       "    </tr>\n",
       "    <tr>\n",
       "      <th>32558</th>\n",
       "      <td>32558</td>\n",
       "      <td>24250</td>\n",
       "      <td>90</td>\n",
       "      <td>Female</td>\n",
       "      <td>White</td>\n",
       "      <td>Never-married</td>\n",
       "      <td>1</td>\n",
       "      <td>Not-in-family</td>\n",
       "      <td>137018</td>\n",
       "      <td>HS-grad</td>\n",
       "      <td>9</td>\n",
       "      <td>Private</td>\n",
       "      <td>Other-service</td>\n",
       "      <td>0</td>\n",
       "      <td>0</td>\n",
       "      <td>40</td>\n",
       "      <td>39</td>\n",
       "      <td>United-States</td>\n",
       "      <td>&lt;=50K</td>\n",
       "    </tr>\n",
       "    <tr>\n",
       "      <th>32559</th>\n",
       "      <td>32559</td>\n",
       "      <td>24839</td>\n",
       "      <td>90</td>\n",
       "      <td>Female</td>\n",
       "      <td>White</td>\n",
       "      <td>Widowed</td>\n",
       "      <td>1</td>\n",
       "      <td>Not-in-family</td>\n",
       "      <td>77053</td>\n",
       "      <td>HS-grad</td>\n",
       "      <td>9</td>\n",
       "      <td>?</td>\n",
       "      <td>?</td>\n",
       "      <td>0</td>\n",
       "      <td>4356</td>\n",
       "      <td>40</td>\n",
       "      <td>39</td>\n",
       "      <td>United-States</td>\n",
       "      <td>&lt;=50K</td>\n",
       "    </tr>\n",
       "    <tr>\n",
       "      <th>32560</th>\n",
       "      <td>32560</td>\n",
       "      <td>32260</td>\n",
       "      <td>90</td>\n",
       "      <td>Female</td>\n",
       "      <td>White</td>\n",
       "      <td>Widowed</td>\n",
       "      <td>2</td>\n",
       "      <td>Other-relative</td>\n",
       "      <td>256514</td>\n",
       "      <td>Bachelors</td>\n",
       "      <td>13</td>\n",
       "      <td>?</td>\n",
       "      <td>?</td>\n",
       "      <td>991</td>\n",
       "      <td>0</td>\n",
       "      <td>10</td>\n",
       "      <td>39</td>\n",
       "      <td>United-States</td>\n",
       "      <td>&lt;=50K</td>\n",
       "    </tr>\n",
       "  </tbody>\n",
       "</table>\n",
       "<p>32561 rows × 19 columns</p>\n",
       "</div>"
      ],
      "text/plain": [
       "       Unnamed: 0     id  age      sex    race       marital_status  \\\n",
       "0               0   1623   17     Male   White   Married-civ-spouse   \n",
       "1               1  14761   17     Male   White        Never-married   \n",
       "2               2  14762   17     Male   Black        Never-married   \n",
       "3               3  14769   17     Male   Black        Never-married   \n",
       "4               4  14796   17     Male   Black        Never-married   \n",
       "...           ...    ...  ...      ...     ...                  ...   \n",
       "32556       32556  23939   90   Female   Black              Widowed   \n",
       "32557       32557  24137   90   Female   White            Separated   \n",
       "32558       32558  24250   90   Female   White        Never-married   \n",
       "32559       32559  24839   90   Female   White              Widowed   \n",
       "32560       32560  32260   90   Female   White              Widowed   \n",
       "\n",
       "       relationship_label     relationship  functional_weight   education  \\\n",
       "0                       0          Husband             221129         9th   \n",
       "1                       3        Own-child             191260         9th   \n",
       "2                       3        Own-child              32124         9th   \n",
       "3                       3        Own-child             127003         9th   \n",
       "4                       3        Own-child             133449         9th   \n",
       "...                   ...              ...                ...         ...   \n",
       "32556                   1    Not-in-family             166343     1st-4th   \n",
       "32557                   1    Not-in-family             175444     7th-8th   \n",
       "32558                   1    Not-in-family             137018     HS-grad   \n",
       "32559                   1    Not-in-family              77053     HS-grad   \n",
       "32560                   2   Other-relative             256514   Bachelors   \n",
       "\n",
       "       education_num   workclass      occupation  capital_gain  capital_loss  \\\n",
       "0                  5     Private   Other-service             0             0   \n",
       "1                  5     Private   Other-service          1055             0   \n",
       "2                  5   Local-gov   Other-service             0             0   \n",
       "3                  5           ?               ?             0             0   \n",
       "4                  5     Private   Other-service             0             0   \n",
       "...              ...         ...             ...           ...           ...   \n",
       "32556              2           ?               ?             0             0   \n",
       "32557              4           ?               ?             0             0   \n",
       "32558              9     Private   Other-service             0             0   \n",
       "32559              9           ?               ?             0          4356   \n",
       "32560             13           ?               ?           991             0   \n",
       "\n",
       "       hours_per_week  native_country    country_name income_bracket  \n",
       "0                  40              39   United-States          <=50K  \n",
       "1                  24              39   United-States          <=50K  \n",
       "2                   9              39   United-States          <=50K  \n",
       "3                  40              39   United-States          <=50K  \n",
       "4                  26              39   United-States          <=50K  \n",
       "...               ...             ...             ...            ...  \n",
       "32556              40              39   United-States          <=50K  \n",
       "32557              15              39   United-States          <=50K  \n",
       "32558              40              39   United-States          <=50K  \n",
       "32559              40              39   United-States          <=50K  \n",
       "32560              10              39   United-States          <=50K  \n",
       "\n",
       "[32561 rows x 19 columns]"
      ]
     },
     "execution_count": 57,
     "metadata": {},
     "output_type": "execute_result"
    }
   ],
   "source": [
    "# Data load\n",
    "df = pd.read_csv(\"census_income.csv\") \n",
    "df"
   ]
  },
  {
   "cell_type": "code",
   "execution_count": null,
   "metadata": {},
   "outputs": [],
   "source": [
    "df.columns"
   ]
  },
  {
   "cell_type": "code",
   "execution_count": 3,
   "metadata": {},
   "outputs": [
    {
     "name": "stdout",
     "output_type": "stream",
     "text": [
      "<class 'pandas.core.frame.DataFrame'>\n",
      "RangeIndex: 32561 entries, 0 to 32560\n",
      "Data columns (total 19 columns):\n",
      "Unnamed: 0            32561 non-null int64\n",
      "id                    32561 non-null int64\n",
      "age                   32561 non-null int64\n",
      "sex                   32561 non-null object\n",
      "race                  32561 non-null object\n",
      "marital_status        32561 non-null object\n",
      "relationship_label    32561 non-null int64\n",
      "relationship          32561 non-null object\n",
      "functional_weight     32561 non-null int64\n",
      "education             32561 non-null object\n",
      "education_num         32561 non-null int64\n",
      "workclass             32561 non-null object\n",
      "occupation            32561 non-null object\n",
      "capital_gain          32561 non-null int64\n",
      "capital_loss          32561 non-null int64\n",
      "hours_per_week        32561 non-null int64\n",
      "native_country        32561 non-null int64\n",
      "country_name          32561 non-null object\n",
      "income_bracket        32561 non-null object\n",
      "dtypes: int64(10), object(9)\n",
      "memory usage: 4.7+ MB\n"
     ]
    }
   ],
   "source": [
    "df.info()"
   ]
  },
  {
   "cell_type": "code",
   "execution_count": 4,
   "metadata": {},
   "outputs": [
    {
     "data": {
      "text/plain": [
       "Unnamed: 0            32561\n",
       "id                    32561\n",
       "age                      73\n",
       "sex                       2\n",
       "race                      5\n",
       "marital_status            7\n",
       "relationship_label        6\n",
       "relationship              6\n",
       "functional_weight     21648\n",
       "education                16\n",
       "education_num            16\n",
       "workclass                 9\n",
       "occupation               15\n",
       "capital_gain            119\n",
       "capital_loss             92\n",
       "hours_per_week           94\n",
       "native_country           42\n",
       "country_name             42\n",
       "income_bracket            2\n",
       "dtype: int64"
      ]
     },
     "execution_count": 4,
     "metadata": {},
     "output_type": "execute_result"
    }
   ],
   "source": [
    "df.nunique()"
   ]
  },
  {
   "cell_type": "code",
   "execution_count": 5,
   "metadata": {},
   "outputs": [
    {
     "data": {
      "text/plain": [
       "32561"
      ]
     },
     "execution_count": 5,
     "metadata": {},
     "output_type": "execute_result"
    }
   ],
   "source": [
    "df.functional_weight.isnull().count()"
   ]
  },
  {
   "cell_type": "code",
   "execution_count": 170,
   "metadata": {
    "scrolled": true
   },
   "outputs": [
    {
     "data": {
      "text/plain": [
       " Private             22696\n",
       " Self-emp-not-inc     2541\n",
       " Local-gov            2093\n",
       " ?                    1836\n",
       " State-gov            1298\n",
       " Self-emp-inc         1116\n",
       " Federal-gov           960\n",
       " Without-pay            14\n",
       " Never-worked            7\n",
       "Name: workclass, dtype: int64"
      ]
     },
     "execution_count": 170,
     "metadata": {},
     "output_type": "execute_result"
    }
   ],
   "source": [
    "\n",
    "df.workclass.value_counts()"
   ]
  },
  {
   "cell_type": "code",
   "execution_count": 58,
   "metadata": {},
   "outputs": [],
   "source": [
    "# percent of missing data per column and column's unique values\n",
    "def df_info(df, showdf=False): \n",
    "    percent_missing = df.isnull().sum() / df.shape[0] * 100\n",
    "    dfm = pd.DataFrame(df.columns, columns=['col_name'])\n",
    "    dfm['%_missed'] = percent_missing.values\n",
    "    dfm['n_missed'] = df.shape[0] - df.count().values\n",
    "    dfm['value_counts'] = df.count().values\n",
    "    dfm['sum'] = [ df[c].sum() if df[c].dtype != 'object' else '' for c in df.columns ]\n",
    "    dfm['col_type'] = df.dtypes.values\n",
    "    dfm['uniqcount'] = [ len(df[c].unique()) for c in df.columns ]\n",
    "    dfm['unique_values_list'] = [df[c].unique() if str(df[c].dtype)=='object' else f'{df[c].min()}...{df[c].max()}'  for c in df.columns ]\n",
    "    if showdf : \n",
    "        print(dfm)\n",
    "    return dfm"
   ]
  },
  {
   "cell_type": "code",
   "execution_count": 4,
   "metadata": {},
   "outputs": [
    {
     "data": {
      "text/html": [
       "<div>\n",
       "<style scoped>\n",
       "    .dataframe tbody tr th:only-of-type {\n",
       "        vertical-align: middle;\n",
       "    }\n",
       "\n",
       "    .dataframe tbody tr th {\n",
       "        vertical-align: top;\n",
       "    }\n",
       "\n",
       "    .dataframe thead th {\n",
       "        text-align: right;\n",
       "    }\n",
       "</style>\n",
       "<table border=\"1\" class=\"dataframe\">\n",
       "  <thead>\n",
       "    <tr style=\"text-align: right;\">\n",
       "      <th></th>\n",
       "      <th>col_name</th>\n",
       "      <th>%_missed</th>\n",
       "      <th>n_missed</th>\n",
       "      <th>value_counts</th>\n",
       "      <th>sum</th>\n",
       "      <th>col_type</th>\n",
       "      <th>uniqcount</th>\n",
       "      <th>unique_values_list</th>\n",
       "    </tr>\n",
       "  </thead>\n",
       "  <tbody>\n",
       "    <tr>\n",
       "      <th>0</th>\n",
       "      <td>Unnamed: 0</td>\n",
       "      <td>0.0</td>\n",
       "      <td>0</td>\n",
       "      <td>32561</td>\n",
       "      <td>530093080</td>\n",
       "      <td>int64</td>\n",
       "      <td>32561</td>\n",
       "      <td>0...32560</td>\n",
       "    </tr>\n",
       "    <tr>\n",
       "      <th>1</th>\n",
       "      <td>id</td>\n",
       "      <td>0.0</td>\n",
       "      <td>0</td>\n",
       "      <td>32561</td>\n",
       "      <td>530093080</td>\n",
       "      <td>int64</td>\n",
       "      <td>32561</td>\n",
       "      <td>0...32560</td>\n",
       "    </tr>\n",
       "    <tr>\n",
       "      <th>2</th>\n",
       "      <td>age</td>\n",
       "      <td>0.0</td>\n",
       "      <td>0</td>\n",
       "      <td>32561</td>\n",
       "      <td>1256257</td>\n",
       "      <td>int64</td>\n",
       "      <td>73</td>\n",
       "      <td>17...90</td>\n",
       "    </tr>\n",
       "    <tr>\n",
       "      <th>3</th>\n",
       "      <td>sex</td>\n",
       "      <td>0.0</td>\n",
       "      <td>0</td>\n",
       "      <td>32561</td>\n",
       "      <td></td>\n",
       "      <td>object</td>\n",
       "      <td>2</td>\n",
       "      <td>[ Male,  Female]</td>\n",
       "    </tr>\n",
       "    <tr>\n",
       "      <th>4</th>\n",
       "      <td>race</td>\n",
       "      <td>0.0</td>\n",
       "      <td>0</td>\n",
       "      <td>32561</td>\n",
       "      <td></td>\n",
       "      <td>object</td>\n",
       "      <td>5</td>\n",
       "      <td>[ White,  Black,  Other,  Amer-Indian-Eskimo, ...</td>\n",
       "    </tr>\n",
       "    <tr>\n",
       "      <th>5</th>\n",
       "      <td>marital_status</td>\n",
       "      <td>0.0</td>\n",
       "      <td>0</td>\n",
       "      <td>32561</td>\n",
       "      <td></td>\n",
       "      <td>object</td>\n",
       "      <td>7</td>\n",
       "      <td>[ Married-civ-spouse,  Never-married,  Widowed...</td>\n",
       "    </tr>\n",
       "    <tr>\n",
       "      <th>6</th>\n",
       "      <td>relationship_label</td>\n",
       "      <td>0.0</td>\n",
       "      <td>0</td>\n",
       "      <td>32561</td>\n",
       "      <td>47095</td>\n",
       "      <td>int64</td>\n",
       "      <td>6</td>\n",
       "      <td>0...5</td>\n",
       "    </tr>\n",
       "    <tr>\n",
       "      <th>7</th>\n",
       "      <td>relationship</td>\n",
       "      <td>0.0</td>\n",
       "      <td>0</td>\n",
       "      <td>32561</td>\n",
       "      <td></td>\n",
       "      <td>object</td>\n",
       "      <td>6</td>\n",
       "      <td>[ Husband,  Own-child,  Unmarried,  Not-in-fam...</td>\n",
       "    </tr>\n",
       "    <tr>\n",
       "      <th>8</th>\n",
       "      <td>functional_weight</td>\n",
       "      <td>0.0</td>\n",
       "      <td>0</td>\n",
       "      <td>32561</td>\n",
       "      <td>6179373392</td>\n",
       "      <td>int64</td>\n",
       "      <td>21648</td>\n",
       "      <td>12285...1484705</td>\n",
       "    </tr>\n",
       "    <tr>\n",
       "      <th>9</th>\n",
       "      <td>education</td>\n",
       "      <td>0.0</td>\n",
       "      <td>0</td>\n",
       "      <td>32561</td>\n",
       "      <td></td>\n",
       "      <td>object</td>\n",
       "      <td>16</td>\n",
       "      <td>[ 9th,  10th,  11th,  12th,  7th-8th,  HS-grad...</td>\n",
       "    </tr>\n",
       "    <tr>\n",
       "      <th>10</th>\n",
       "      <td>education_num</td>\n",
       "      <td>0.0</td>\n",
       "      <td>0</td>\n",
       "      <td>32561</td>\n",
       "      <td>328237</td>\n",
       "      <td>int64</td>\n",
       "      <td>16</td>\n",
       "      <td>1...16</td>\n",
       "    </tr>\n",
       "    <tr>\n",
       "      <th>11</th>\n",
       "      <td>workclass</td>\n",
       "      <td>0.0</td>\n",
       "      <td>0</td>\n",
       "      <td>32561</td>\n",
       "      <td></td>\n",
       "      <td>object</td>\n",
       "      <td>9</td>\n",
       "      <td>[ Private,  Local-gov,  ?,  Self-emp-not-inc, ...</td>\n",
       "    </tr>\n",
       "    <tr>\n",
       "      <th>12</th>\n",
       "      <td>occupation</td>\n",
       "      <td>0.0</td>\n",
       "      <td>0</td>\n",
       "      <td>32561</td>\n",
       "      <td></td>\n",
       "      <td>object</td>\n",
       "      <td>15</td>\n",
       "      <td>[ Other-service,  ?,  Craft-repair,  Sales,  M...</td>\n",
       "    </tr>\n",
       "    <tr>\n",
       "      <th>13</th>\n",
       "      <td>capital_gain</td>\n",
       "      <td>0.0</td>\n",
       "      <td>0</td>\n",
       "      <td>32561</td>\n",
       "      <td>35089324</td>\n",
       "      <td>int64</td>\n",
       "      <td>119</td>\n",
       "      <td>0...99999</td>\n",
       "    </tr>\n",
       "    <tr>\n",
       "      <th>14</th>\n",
       "      <td>capital_loss</td>\n",
       "      <td>0.0</td>\n",
       "      <td>0</td>\n",
       "      <td>32561</td>\n",
       "      <td>2842700</td>\n",
       "      <td>int64</td>\n",
       "      <td>92</td>\n",
       "      <td>0...4356</td>\n",
       "    </tr>\n",
       "    <tr>\n",
       "      <th>15</th>\n",
       "      <td>hours_per_week</td>\n",
       "      <td>0.0</td>\n",
       "      <td>0</td>\n",
       "      <td>32561</td>\n",
       "      <td>1316684</td>\n",
       "      <td>int64</td>\n",
       "      <td>94</td>\n",
       "      <td>1...99</td>\n",
       "    </tr>\n",
       "    <tr>\n",
       "      <th>16</th>\n",
       "      <td>native_country</td>\n",
       "      <td>0.0</td>\n",
       "      <td>0</td>\n",
       "      <td>32561</td>\n",
       "      <td>1195603</td>\n",
       "      <td>int64</td>\n",
       "      <td>42</td>\n",
       "      <td>0...41</td>\n",
       "    </tr>\n",
       "    <tr>\n",
       "      <th>17</th>\n",
       "      <td>country_name</td>\n",
       "      <td>0.0</td>\n",
       "      <td>0</td>\n",
       "      <td>32561</td>\n",
       "      <td></td>\n",
       "      <td>object</td>\n",
       "      <td>42</td>\n",
       "      <td>[ United-States,  Canada,  Haiti,  England,  P...</td>\n",
       "    </tr>\n",
       "    <tr>\n",
       "      <th>18</th>\n",
       "      <td>income_bracket</td>\n",
       "      <td>0.0</td>\n",
       "      <td>0</td>\n",
       "      <td>32561</td>\n",
       "      <td></td>\n",
       "      <td>object</td>\n",
       "      <td>2</td>\n",
       "      <td>[ &lt;=50K,  &gt;50K]</td>\n",
       "    </tr>\n",
       "  </tbody>\n",
       "</table>\n",
       "</div>"
      ],
      "text/plain": [
       "              col_name  %_missed  n_missed  value_counts         sum col_type  \\\n",
       "0           Unnamed: 0       0.0         0         32561   530093080    int64   \n",
       "1                   id       0.0         0         32561   530093080    int64   \n",
       "2                  age       0.0         0         32561     1256257    int64   \n",
       "3                  sex       0.0         0         32561               object   \n",
       "4                 race       0.0         0         32561               object   \n",
       "5       marital_status       0.0         0         32561               object   \n",
       "6   relationship_label       0.0         0         32561       47095    int64   \n",
       "7         relationship       0.0         0         32561               object   \n",
       "8    functional_weight       0.0         0         32561  6179373392    int64   \n",
       "9            education       0.0         0         32561               object   \n",
       "10       education_num       0.0         0         32561      328237    int64   \n",
       "11           workclass       0.0         0         32561               object   \n",
       "12          occupation       0.0         0         32561               object   \n",
       "13        capital_gain       0.0         0         32561    35089324    int64   \n",
       "14        capital_loss       0.0         0         32561     2842700    int64   \n",
       "15      hours_per_week       0.0         0         32561     1316684    int64   \n",
       "16      native_country       0.0         0         32561     1195603    int64   \n",
       "17        country_name       0.0         0         32561               object   \n",
       "18      income_bracket       0.0         0         32561               object   \n",
       "\n",
       "    uniqcount                                 unique_values_list  \n",
       "0       32561                                          0...32560  \n",
       "1       32561                                          0...32560  \n",
       "2          73                                            17...90  \n",
       "3           2                                   [ Male,  Female]  \n",
       "4           5  [ White,  Black,  Other,  Amer-Indian-Eskimo, ...  \n",
       "5           7  [ Married-civ-spouse,  Never-married,  Widowed...  \n",
       "6           6                                              0...5  \n",
       "7           6  [ Husband,  Own-child,  Unmarried,  Not-in-fam...  \n",
       "8       21648                                    12285...1484705  \n",
       "9          16  [ 9th,  10th,  11th,  12th,  7th-8th,  HS-grad...  \n",
       "10         16                                             1...16  \n",
       "11          9  [ Private,  Local-gov,  ?,  Self-emp-not-inc, ...  \n",
       "12         15  [ Other-service,  ?,  Craft-repair,  Sales,  M...  \n",
       "13        119                                          0...99999  \n",
       "14         92                                           0...4356  \n",
       "15         94                                             1...99  \n",
       "16         42                                             0...41  \n",
       "17         42  [ United-States,  Canada,  Haiti,  England,  P...  \n",
       "18          2                                    [ <=50K,  >50K]  "
      ]
     },
     "execution_count": 4,
     "metadata": {},
     "output_type": "execute_result"
    }
   ],
   "source": [
    "df_info(df)"
   ]
  },
  {
   "cell_type": "markdown",
   "metadata": {},
   "source": [
    "# Data Cleaning"
   ]
  },
  {
   "cell_type": "code",
   "execution_count": 296,
   "metadata": {},
   "outputs": [],
   "source": [
    "# Summary per columns /// Actions after EDA \n",
    "\n",
    "# Dataset: 32561 rows × 19 columns\n",
    "\n",
    "# Columns details: \n",
    "# Unnamed: 0 - drop\n",
    "# id -  int - keep \n",
    "# age - int - mean - 38, min - 17, max- 90, keep. /// drop outliers > 76 years ( 195 observations)\n",
    "# sex - obj - categorial, male-  21790, female- 10771 - keep\n",
    "# race - obj- categorial -               ///// race  drop as white is 85$ of total and target is distributed the same as for all\n",
    "    #    White                 27816\n",
    "    #    Black                  3124\n",
    "    #    Asian-Pac-Islander     1039\n",
    "    #    Amer-Indian-Eskimo      311\n",
    "    #    Other                   271   - keep \n",
    "# marital_status - obj - categorial:           ////change 7 categories to 4 ( inclue in other)\n",
    "    #    Married-civ-spouse        14976\n",
    "    #    Never-married            10683\n",
    "    #    Divorced                  4443\n",
    "    #    Separated                 1025\n",
    "    #    Widowed                    993\n",
    "    #    Married-spouse-absent      418\n",
    "    #    Married-AF-spouse           23 ?? \n",
    "\n",
    "#   (People reported as separated included those with legal separations, those living apart with intentions of   obtaining  a divorce, and other people permanently or temporarily separated because of marital discord.\n",
    "\n",
    "#   The group “other married, spouse absent” includes married people living apart because either the husband or wife was employed and living at a considerable distance from home, was serving away from home in the Armed Forces, had moved to another area, or had a different place of residence for any other reason except separation as defined above.)\n",
    "\n",
    "\n",
    "# relationship_label - int -  drop  // drop\n",
    "    # 0    13193\n",
    "    # 1     8305\n",
    "    # 3     5068\n",
    "    # 4     3446\n",
    "    # 5     1568\n",
    "    # 2      981\n",
    "\n",
    "# relationship - obj -categorial               ///// replace 6 categories to 3 \n",
    "    #  Husband           13193\n",
    "    #  Not-in-family      8305\n",
    "    #  Own-child          5068\n",
    "    #  Unmarried          3446\n",
    "    #  Wife               1568\n",
    "    #  Other-relative      981\n",
    "\n",
    "# functional_weight - int  -      ///// Standart Scaler\n",
    "\n",
    "# education - obj - cat -keep         \n",
    "\n",
    "    #  HS-grad         10501\n",
    "    #  Some-college     7291\n",
    "    #  Bachelors        5355\n",
    "    #  Masters          1723\n",
    "    #  Assoc-voc        1382\n",
    "    #  11th             1175\n",
    "    #  Assoc-acdm       1067\n",
    "    #  10th              933\n",
    "    #  7th-8th           646\n",
    "    #  Prof-school       576\n",
    "    #  9th               514\n",
    "    #  12th              433\n",
    "    #  Doctorate         413\n",
    "    #  5th-6th           333\n",
    "    #  1st-4th           168\n",
    "    #  Preschool          51\n",
    "    \n",
    "# education_num - int   -drop \n",
    "\n",
    "# workclass - obj , //// combine categories\n",
    "\n",
    "# occupation -    //// combine categories and replace ? by most usual\n",
    "\n",
    "        #  Prof-specialty       4140\n",
    "        #  Craft-repair         4099\n",
    "        #  Exec-managerial      4066\n",
    "        #  Adm-clerical         3770\n",
    "        #  Sales                3650\n",
    "        #  Other-service        3295\n",
    "        #  Machine-op-inspct    2002\n",
    "        #  ?                    1843\n",
    "        #  Transport-moving     1597\n",
    "        #  Handlers-cleaners    1370\n",
    "        #  Farming-fishing       994\n",
    "        #  Tech-support          928\n",
    "        #  Protective-serv       649\n",
    "        #  Priv-house-serv       149\n",
    "        #  Armed-Forces            9\n",
    "\n",
    "# capital_gain & # capital_loss   - int - investigate. Gain - delete outliers = 99999, loss - keeep\n",
    "\n",
    "\n",
    "# native_country  - drop\n",
    "# country_name ////// separated to 2 group : US and other \n",
    "\n",
    "\n",
    "\n",
    "# hours_per_week from 0 to 99\n"
   ]
  },
  {
   "cell_type": "markdown",
   "metadata": {},
   "source": [
    "## Columns to drop"
   ]
  },
  {
   "cell_type": "code",
   "execution_count": 59,
   "metadata": {},
   "outputs": [],
   "source": [
    "# Columns to drop\n",
    "col_to_drop = ['id','Unnamed: 0', 'relationship_label', 'education_num', 'native_country', 'race']\n",
    "\n",
    "\n",
    "col_to_drop_after_eda = ['race']\n"
   ]
  },
  {
   "cell_type": "markdown",
   "metadata": {},
   "source": [
    "Drop doubled columns except of country to investigate\n"
   ]
  },
  {
   "cell_type": "code",
   "execution_count": 60,
   "metadata": {},
   "outputs": [],
   "source": [
    "# Drop columns\n",
    "df.drop(col_to_drop, axis=1, inplace=True)"
   ]
  },
  {
   "cell_type": "code",
   "execution_count": 176,
   "metadata": {},
   "outputs": [
    {
     "data": {
      "text/html": [
       "<div>\n",
       "<style scoped>\n",
       "    .dataframe tbody tr th:only-of-type {\n",
       "        vertical-align: middle;\n",
       "    }\n",
       "\n",
       "    .dataframe tbody tr th {\n",
       "        vertical-align: top;\n",
       "    }\n",
       "\n",
       "    .dataframe thead th {\n",
       "        text-align: right;\n",
       "    }\n",
       "</style>\n",
       "<table border=\"1\" class=\"dataframe\">\n",
       "  <thead>\n",
       "    <tr style=\"text-align: right;\">\n",
       "      <th></th>\n",
       "      <th>age</th>\n",
       "      <th>sex</th>\n",
       "      <th>marital_status</th>\n",
       "      <th>relationship</th>\n",
       "      <th>functional_weight</th>\n",
       "      <th>education</th>\n",
       "      <th>workclass</th>\n",
       "      <th>occupation</th>\n",
       "      <th>capital_gain</th>\n",
       "      <th>capital_loss</th>\n",
       "      <th>hours_per_week</th>\n",
       "      <th>country_name</th>\n",
       "      <th>income_bracket</th>\n",
       "    </tr>\n",
       "  </thead>\n",
       "  <tbody>\n",
       "    <tr>\n",
       "      <th>0</th>\n",
       "      <td>17</td>\n",
       "      <td>Male</td>\n",
       "      <td>Married-civ-spouse</td>\n",
       "      <td>Husband</td>\n",
       "      <td>221129</td>\n",
       "      <td>9th</td>\n",
       "      <td>Private</td>\n",
       "      <td>Other-service</td>\n",
       "      <td>0</td>\n",
       "      <td>0</td>\n",
       "      <td>40</td>\n",
       "      <td>United-States</td>\n",
       "      <td>&lt;=50K</td>\n",
       "    </tr>\n",
       "    <tr>\n",
       "      <th>1</th>\n",
       "      <td>17</td>\n",
       "      <td>Male</td>\n",
       "      <td>Never-married</td>\n",
       "      <td>Own-child</td>\n",
       "      <td>191260</td>\n",
       "      <td>9th</td>\n",
       "      <td>Private</td>\n",
       "      <td>Other-service</td>\n",
       "      <td>1055</td>\n",
       "      <td>0</td>\n",
       "      <td>24</td>\n",
       "      <td>United-States</td>\n",
       "      <td>&lt;=50K</td>\n",
       "    </tr>\n",
       "    <tr>\n",
       "      <th>2</th>\n",
       "      <td>17</td>\n",
       "      <td>Male</td>\n",
       "      <td>Never-married</td>\n",
       "      <td>Own-child</td>\n",
       "      <td>32124</td>\n",
       "      <td>9th</td>\n",
       "      <td>Local-gov</td>\n",
       "      <td>Other-service</td>\n",
       "      <td>0</td>\n",
       "      <td>0</td>\n",
       "      <td>9</td>\n",
       "      <td>United-States</td>\n",
       "      <td>&lt;=50K</td>\n",
       "    </tr>\n",
       "    <tr>\n",
       "      <th>3</th>\n",
       "      <td>17</td>\n",
       "      <td>Male</td>\n",
       "      <td>Never-married</td>\n",
       "      <td>Own-child</td>\n",
       "      <td>127003</td>\n",
       "      <td>9th</td>\n",
       "      <td>?</td>\n",
       "      <td>?</td>\n",
       "      <td>0</td>\n",
       "      <td>0</td>\n",
       "      <td>40</td>\n",
       "      <td>United-States</td>\n",
       "      <td>&lt;=50K</td>\n",
       "    </tr>\n",
       "    <tr>\n",
       "      <th>4</th>\n",
       "      <td>17</td>\n",
       "      <td>Male</td>\n",
       "      <td>Never-married</td>\n",
       "      <td>Own-child</td>\n",
       "      <td>133449</td>\n",
       "      <td>9th</td>\n",
       "      <td>Private</td>\n",
       "      <td>Other-service</td>\n",
       "      <td>0</td>\n",
       "      <td>0</td>\n",
       "      <td>26</td>\n",
       "      <td>United-States</td>\n",
       "      <td>&lt;=50K</td>\n",
       "    </tr>\n",
       "    <tr>\n",
       "      <th>...</th>\n",
       "      <td>...</td>\n",
       "      <td>...</td>\n",
       "      <td>...</td>\n",
       "      <td>...</td>\n",
       "      <td>...</td>\n",
       "      <td>...</td>\n",
       "      <td>...</td>\n",
       "      <td>...</td>\n",
       "      <td>...</td>\n",
       "      <td>...</td>\n",
       "      <td>...</td>\n",
       "      <td>...</td>\n",
       "      <td>...</td>\n",
       "    </tr>\n",
       "    <tr>\n",
       "      <th>32556</th>\n",
       "      <td>90</td>\n",
       "      <td>Female</td>\n",
       "      <td>Widowed</td>\n",
       "      <td>Not-in-family</td>\n",
       "      <td>166343</td>\n",
       "      <td>1st-4th</td>\n",
       "      <td>?</td>\n",
       "      <td>?</td>\n",
       "      <td>0</td>\n",
       "      <td>0</td>\n",
       "      <td>40</td>\n",
       "      <td>United-States</td>\n",
       "      <td>&lt;=50K</td>\n",
       "    </tr>\n",
       "    <tr>\n",
       "      <th>32557</th>\n",
       "      <td>90</td>\n",
       "      <td>Female</td>\n",
       "      <td>Separated</td>\n",
       "      <td>Not-in-family</td>\n",
       "      <td>175444</td>\n",
       "      <td>7th-8th</td>\n",
       "      <td>?</td>\n",
       "      <td>?</td>\n",
       "      <td>0</td>\n",
       "      <td>0</td>\n",
       "      <td>15</td>\n",
       "      <td>United-States</td>\n",
       "      <td>&lt;=50K</td>\n",
       "    </tr>\n",
       "    <tr>\n",
       "      <th>32558</th>\n",
       "      <td>90</td>\n",
       "      <td>Female</td>\n",
       "      <td>Never-married</td>\n",
       "      <td>Not-in-family</td>\n",
       "      <td>137018</td>\n",
       "      <td>HS-grad</td>\n",
       "      <td>Private</td>\n",
       "      <td>Other-service</td>\n",
       "      <td>0</td>\n",
       "      <td>0</td>\n",
       "      <td>40</td>\n",
       "      <td>United-States</td>\n",
       "      <td>&lt;=50K</td>\n",
       "    </tr>\n",
       "    <tr>\n",
       "      <th>32559</th>\n",
       "      <td>90</td>\n",
       "      <td>Female</td>\n",
       "      <td>Widowed</td>\n",
       "      <td>Not-in-family</td>\n",
       "      <td>77053</td>\n",
       "      <td>HS-grad</td>\n",
       "      <td>?</td>\n",
       "      <td>?</td>\n",
       "      <td>0</td>\n",
       "      <td>4356</td>\n",
       "      <td>40</td>\n",
       "      <td>United-States</td>\n",
       "      <td>&lt;=50K</td>\n",
       "    </tr>\n",
       "    <tr>\n",
       "      <th>32560</th>\n",
       "      <td>90</td>\n",
       "      <td>Female</td>\n",
       "      <td>Widowed</td>\n",
       "      <td>Other-relative</td>\n",
       "      <td>256514</td>\n",
       "      <td>Bachelors</td>\n",
       "      <td>?</td>\n",
       "      <td>?</td>\n",
       "      <td>991</td>\n",
       "      <td>0</td>\n",
       "      <td>10</td>\n",
       "      <td>United-States</td>\n",
       "      <td>&lt;=50K</td>\n",
       "    </tr>\n",
       "  </tbody>\n",
       "</table>\n",
       "<p>32561 rows × 13 columns</p>\n",
       "</div>"
      ],
      "text/plain": [
       "       age      sex       marital_status     relationship  functional_weight  \\\n",
       "0       17     Male   Married-civ-spouse          Husband             221129   \n",
       "1       17     Male        Never-married        Own-child             191260   \n",
       "2       17     Male        Never-married        Own-child              32124   \n",
       "3       17     Male        Never-married        Own-child             127003   \n",
       "4       17     Male        Never-married        Own-child             133449   \n",
       "...    ...      ...                  ...              ...                ...   \n",
       "32556   90   Female              Widowed    Not-in-family             166343   \n",
       "32557   90   Female            Separated    Not-in-family             175444   \n",
       "32558   90   Female        Never-married    Not-in-family             137018   \n",
       "32559   90   Female              Widowed    Not-in-family              77053   \n",
       "32560   90   Female              Widowed   Other-relative             256514   \n",
       "\n",
       "        education   workclass      occupation  capital_gain  capital_loss  \\\n",
       "0             9th     Private   Other-service             0             0   \n",
       "1             9th     Private   Other-service          1055             0   \n",
       "2             9th   Local-gov   Other-service             0             0   \n",
       "3             9th           ?               ?             0             0   \n",
       "4             9th     Private   Other-service             0             0   \n",
       "...           ...         ...             ...           ...           ...   \n",
       "32556     1st-4th           ?               ?             0             0   \n",
       "32557     7th-8th           ?               ?             0             0   \n",
       "32558     HS-grad     Private   Other-service             0             0   \n",
       "32559     HS-grad           ?               ?             0          4356   \n",
       "32560   Bachelors           ?               ?           991             0   \n",
       "\n",
       "       hours_per_week    country_name income_bracket  \n",
       "0                  40   United-States          <=50K  \n",
       "1                  24   United-States          <=50K  \n",
       "2                   9   United-States          <=50K  \n",
       "3                  40   United-States          <=50K  \n",
       "4                  26   United-States          <=50K  \n",
       "...               ...             ...            ...  \n",
       "32556              40   United-States          <=50K  \n",
       "32557              15   United-States          <=50K  \n",
       "32558              40   United-States          <=50K  \n",
       "32559              40   United-States          <=50K  \n",
       "32560              10   United-States          <=50K  \n",
       "\n",
       "[32561 rows x 13 columns]"
      ]
     },
     "execution_count": 176,
     "metadata": {},
     "output_type": "execute_result"
    }
   ],
   "source": [
    "df"
   ]
  },
  {
   "cell_type": "markdown",
   "metadata": {},
   "source": [
    "# Categorical features"
   ]
  },
  {
   "cell_type": "code",
   "execution_count": 61,
   "metadata": {},
   "outputs": [],
   "source": [
    "# Categorical features to be encoded\n",
    "\n",
    "categorical_features = ['sex','marital_status', 'relationship', 'education', 'workclass', 'occupation', 'country_name']\n",
    "\n"
   ]
  },
  {
   "cell_type": "markdown",
   "metadata": {},
   "source": [
    "# Target distribution"
   ]
  },
  {
   "cell_type": "code",
   "execution_count": 62,
   "metadata": {},
   "outputs": [
    {
     "data": {
      "image/png": "[encoded data removed]",
      "text/plain": [
       "<Figure size 432x288 with 1 Axes>"
      ]
     },
     "metadata": {},
     "output_type": "display_data"
    }
   ],
   "source": [
    "df.income_bracket.value_counts().plot(kind=\"pie\")\n",
    "plt.title(f\"Target values distribution\")\n",
    "plt.grid()\n",
    "plt.show()"
   ]
  },
  {
   "cell_type": "code",
   "execution_count": 25,
   "metadata": {},
   "outputs": [
    {
     "data": {
      "text/plain": [
       " <=50K    24720\n",
       " >50K      7841\n",
       "Name: income_bracket, dtype: int64"
      ]
     },
     "execution_count": 25,
     "metadata": {},
     "output_type": "execute_result"
    }
   ],
   "source": [
    "df.income_bracket.value_counts()"
   ]
  },
  {
   "cell_type": "markdown",
   "metadata": {},
   "source": [
    "Target is distributed not symmetrical .<=50K - 24720 (75%), >=50K - 7841(25%)"
   ]
  },
  {
   "cell_type": "markdown",
   "metadata": {},
   "source": [
    "# Exploratory Data Analysis"
   ]
  },
  {
   "cell_type": "markdown",
   "metadata": {},
   "source": [
    "\n",
    "# Age"
   ]
  },
  {
   "cell_type": "code",
   "execution_count": 323,
   "metadata": {},
   "outputs": [
    {
     "data": {
      "text/plain": [
       "38.543484970063574"
      ]
     },
     "execution_count": 323,
     "metadata": {},
     "output_type": "execute_result"
    }
   ],
   "source": [
    "df.age.mean()"
   ]
  },
  {
   "cell_type": "markdown",
   "metadata": {},
   "source": [
    "Average age - 38 years "
   ]
  },
  {
   "cell_type": "code",
   "execution_count": 63,
   "metadata": {},
   "outputs": [
    {
     "data": {
      "image/png": "[encoded data removed]",
      "text/plain": [
       "<Figure size 1152x576 with 2 Axes>"
      ]
     },
     "metadata": {
      "needs_background": "light"
     },
     "output_type": "display_data"
    }
   ],
   "source": [
    "# plot the df['Age'].mean()\n",
    "age_mean = df['age'].mean()\n",
    "age_median = df['age'].median()\n",
    "age_std = df['age'].std()\n",
    "age_missing = df['age'].isnull().sum()\n",
    "\n",
    "plt.figure(figsize=(16,8))\n",
    "plt.subplot(211)\n",
    "df['age'].plot.hist(bins=30)\n",
    "plt.axvline(age_mean, color='red', linestyle='--')\n",
    "plt.axvline(age_median, color='green', linestyle='--')\n",
    "plt.axvline(age_mean - age_std, color='black', linestyle='--')\n",
    "plt.axvline(age_mean + age_std, color='black', linestyle='--')\n",
    "plt.title('Distribution of Age')\n",
    "plt.xlabel('age')\n",
    "plt.legend(['Mean', 'Median', 'Mean - Std', 'Mean + Std'])\n",
    "\n",
    "plt.subplot(212)\n",
    "sns.boxplot(df['age'])\n",
    "\n",
    "plt.show()"
   ]
  },
  {
   "cell_type": "code",
   "execution_count": 10,
   "metadata": {},
   "outputs": [
    {
     "data": {
      "text/plain": [
       "(38.58164675532078, 17, 90)"
      ]
     },
     "execution_count": 10,
     "metadata": {},
     "output_type": "execute_result"
    }
   ],
   "source": [
    "# Avarage, min, max age\n",
    "df.age.mean(), df.age.min(), df.age.max()"
   ]
  },
  {
   "cell_type": "code",
   "execution_count": 11,
   "metadata": {},
   "outputs": [
    {
     "data": {
      "text/plain": [
       "195"
      ]
     },
     "execution_count": 11,
     "metadata": {},
     "output_type": "execute_result"
    }
   ],
   "source": [
    "\n",
    "df['age'][df['age'] > 76].count()\n"
   ]
  },
  {
   "cell_type": "code",
   "execution_count": 12,
   "metadata": {},
   "outputs": [
    {
     "data": {
      "text/plain": [
       " <=50K    160\n",
       " >50K      35\n",
       "Name: income_bracket, dtype: int64"
      ]
     },
     "execution_count": 12,
     "metadata": {},
     "output_type": "execute_result"
    }
   ],
   "source": [
    "\n",
    "x = df[df['age'] > 76]\n",
    "x.income_bracket.value_counts()\n",
    "# 35/(160+35)"
   ]
  },
  {
   "cell_type": "markdown",
   "metadata": {},
   "source": [
    "195 people are more then 76 years ( 5%). their income distribution is 18%  50K and 72%  <=50K\n",
    "#### Decision to drop them as outliers"
   ]
  },
  {
   "cell_type": "code",
   "execution_count": 91,
   "metadata": {},
   "outputs": [
    {
     "data": {
      "text/plain": [
       "(195, 14)"
      ]
     },
     "execution_count": 91,
     "metadata": {},
     "output_type": "execute_result"
    }
   ],
   "source": [
    "df[df['age'] > 76].shape\n"
   ]
  },
  {
   "cell_type": "code",
   "execution_count": 97,
   "metadata": {},
   "outputs": [
    {
     "data": {
      "text/plain": [
       "(195, 15)"
      ]
     },
     "execution_count": 97,
     "metadata": {},
     "output_type": "execute_result"
    }
   ],
   "source": [
    "x.shape"
   ]
  },
  {
   "cell_type": "code",
   "execution_count": 64,
   "metadata": {},
   "outputs": [],
   "source": [
    "# Drop Age outliers > 76years\n",
    "\n",
    "df.drop(df[df['age'] > 76].index , inplace=True)"
   ]
  },
  {
   "cell_type": "code",
   "execution_count": 329,
   "metadata": {},
   "outputs": [
    {
     "data": {
      "text/plain": [
       "(32208, 13)"
      ]
     },
     "execution_count": 329,
     "metadata": {},
     "output_type": "execute_result"
    }
   ],
   "source": [
    "df.shape"
   ]
  },
  {
   "cell_type": "code",
   "execution_count": 65,
   "metadata": {},
   "outputs": [
    {
     "data": {
      "image/png": "[encoded data removed]",
      "text/plain": [
       "<Figure size 1152x576 with 2 Axes>"
      ]
     },
     "metadata": {
      "needs_background": "light"
     },
     "output_type": "display_data"
    }
   ],
   "source": [
    "# plot the df['Age'].mean()\n",
    "age_mean = df['age'].mean()\n",
    "age_median = df['age'].median()\n",
    "age_std = df['age'].std()\n",
    "age_missing = df['age'].isnull().sum()\n",
    "\n",
    "plt.figure(figsize=(16,8))\n",
    "plt.subplot(211)\n",
    "df['age'].plot.hist(bins=30)\n",
    "plt.axvline(age_mean, color='red', linestyle='--')\n",
    "plt.axvline(age_median, color='green', linestyle='--')\n",
    "plt.axvline(age_mean - age_std, color='black', linestyle='--')\n",
    "plt.axvline(age_mean + age_std, color='black', linestyle='--')\n",
    "plt.title('Distribution of Age')\n",
    "plt.xlabel('age')\n",
    "plt.legend(['Mean', 'Median', 'Mean - Std', 'Mean + Std'])\n",
    "\n",
    "plt.subplot(212)\n",
    "sns.boxplot(df['age'])\n",
    "\n",
    "plt.show()"
   ]
  },
  {
   "cell_type": "markdown",
   "metadata": {},
   "source": [
    "# Sex"
   ]
  },
  {
   "cell_type": "code",
   "execution_count": 104,
   "metadata": {},
   "outputs": [
    {
     "data": {
      "text/plain": [
       " Male      21654\n",
       " Female    10712\n",
       "Name: sex, dtype: int64"
      ]
     },
     "execution_count": 104,
     "metadata": {},
     "output_type": "execute_result"
    }
   ],
   "source": [
    "df.sex.value_counts()"
   ]
  },
  {
   "cell_type": "code",
   "execution_count": 105,
   "metadata": {},
   "outputs": [
    {
     "data": {
      "image/png": "[encoded data removed]",
      "text/plain": [
       "<Figure size 432x288 with 1 Axes>"
      ]
     },
     "metadata": {
      "needs_background": "light"
     },
     "output_type": "display_data"
    }
   ],
   "source": [
    "# Plot Sex \n",
    "df.sex.value_counts().plot(kind=\"bar\")\n",
    "plt.title(\"Sex categories distribution\")\n",
    "plt.ylabel(\"category values count\")\n",
    "plt.xlabel(\"categories\")\n",
    "plt.grid()\n",
    "plt.show()"
   ]
  },
  {
   "cell_type": "markdown",
   "metadata": {},
   "source": [
    "Sex - categorial feature will be encoded"
   ]
  },
  {
   "cell_type": "markdown",
   "metadata": {},
   "source": [
    "# Race"
   ]
  },
  {
   "cell_type": "code",
   "execution_count": 119,
   "metadata": {},
   "outputs": [
    {
     "data": {
      "text/plain": [
       " White                 27641\n",
       " Black                  3114\n",
       " Asian-Pac-Islander     1032\n",
       " Amer-Indian-Eskimo      309\n",
       " Other                   270\n",
       "Name: race, dtype: int64"
      ]
     },
     "execution_count": 119,
     "metadata": {},
     "output_type": "execute_result"
    }
   ],
   "source": [
    "df.race.value_counts()"
   ]
  },
  {
   "cell_type": "code",
   "execution_count": 121,
   "metadata": {},
   "outputs": [
    {
     "data": {
      "image/png": "[encoded data removed]",
      "text/plain": [
       "<Figure size 432x288 with 1 Axes>"
      ]
     },
     "metadata": {
      "needs_background": "light"
     },
     "output_type": "display_data"
    }
   ],
   "source": [
    "# Plot race\n",
    "df.race.value_counts().plot(kind=\"bar\")\n",
    "plt.title(\"Race categories distribution\")\n",
    "plt.ylabel(\"category values count\")\n",
    "plt.xlabel(\"categories\")\n",
    "plt.grid()\n",
    "plt.show()"
   ]
  },
  {
   "cell_type": "markdown",
   "metadata": {},
   "source": [
    "White is 85 % of total observations , 9,6% of black , total 5 categories including other"
   ]
  },
  {
   "cell_type": "code",
   "execution_count": 125,
   "metadata": {},
   "outputs": [
    {
     "data": {
      "text/plain": [
       "0.09621207439906074"
      ]
     },
     "execution_count": 125,
     "metadata": {},
     "output_type": "execute_result"
    }
   ],
   "source": [
    "3114/df.shape[0]"
   ]
  },
  {
   "cell_type": "code",
   "execution_count": 16,
   "metadata": {},
   "outputs": [
    {
     "data": {
      "text/plain": [
       "(32366, 13)"
      ]
     },
     "execution_count": 16,
     "metadata": {},
     "output_type": "execute_result"
    }
   ],
   "source": [
    "df.shape"
   ]
  },
  {
   "cell_type": "code",
   "execution_count": 17,
   "metadata": {},
   "outputs": [
    {
     "ename": "AttributeError",
     "evalue": "'DataFrame' object has no attribute 'race'",
     "output_type": "error",
     "traceback": [
      "\u001b[0;31m---------------------------------------------------------------------------\u001b[0m",
      "\u001b[0;31mAttributeError\u001b[0m                            Traceback (most recent call last)",
      "\u001b[0;32m<ipython-input-17-b912b0a51d1c>\u001b[0m in \u001b[0;36m<module>\u001b[0;34m\u001b[0m\n\u001b[0;32m----> 1\u001b[0;31m \u001b[0mmask\u001b[0m \u001b[0;34m=\u001b[0m \u001b[0mdf\u001b[0m\u001b[0;34m.\u001b[0m\u001b[0mrace\u001b[0m \u001b[0;34m==\u001b[0m\u001b[0;34m'Other'\u001b[0m\u001b[0;34m\u001b[0m\u001b[0;34m\u001b[0m\u001b[0m\n\u001b[0m\u001b[1;32m      2\u001b[0m \u001b[0;31m# grouped = df[mask].groupby(\"income_bracket\")\u001b[0m\u001b[0;34m\u001b[0m\u001b[0;34m\u001b[0m\u001b[0;34m\u001b[0m\u001b[0m\n\u001b[1;32m      3\u001b[0m \u001b[0;31m# grouped.head()\u001b[0m\u001b[0;34m\u001b[0m\u001b[0;34m\u001b[0m\u001b[0;34m\u001b[0m\u001b[0m\n\u001b[1;32m      4\u001b[0m \u001b[0mdf\u001b[0m\u001b[0;34m[\u001b[0m\u001b[0mmask\u001b[0m\u001b[0;34m]\u001b[0m\u001b[0;34m\u001b[0m\u001b[0;34m\u001b[0m\u001b[0m\n",
      "\u001b[0;32m~/opt/anaconda3/lib/python3.7/site-packages/pandas/core/generic.py\u001b[0m in \u001b[0;36m__getattr__\u001b[0;34m(self, name)\u001b[0m\n\u001b[1;32m   5177\u001b[0m             \u001b[0;32mif\u001b[0m \u001b[0mself\u001b[0m\u001b[0;34m.\u001b[0m\u001b[0m_info_axis\u001b[0m\u001b[0;34m.\u001b[0m\u001b[0m_can_hold_identifiers_and_holds_name\u001b[0m\u001b[0;34m(\u001b[0m\u001b[0mname\u001b[0m\u001b[0;34m)\u001b[0m\u001b[0;34m:\u001b[0m\u001b[0;34m\u001b[0m\u001b[0;34m\u001b[0m\u001b[0m\n\u001b[1;32m   5178\u001b[0m                 \u001b[0;32mreturn\u001b[0m \u001b[0mself\u001b[0m\u001b[0;34m[\u001b[0m\u001b[0mname\u001b[0m\u001b[0;34m]\u001b[0m\u001b[0;34m\u001b[0m\u001b[0;34m\u001b[0m\u001b[0m\n\u001b[0;32m-> 5179\u001b[0;31m             \u001b[0;32mreturn\u001b[0m \u001b[0mobject\u001b[0m\u001b[0;34m.\u001b[0m\u001b[0m__getattribute__\u001b[0m\u001b[0;34m(\u001b[0m\u001b[0mself\u001b[0m\u001b[0;34m,\u001b[0m \u001b[0mname\u001b[0m\u001b[0;34m)\u001b[0m\u001b[0;34m\u001b[0m\u001b[0;34m\u001b[0m\u001b[0m\n\u001b[0m\u001b[1;32m   5180\u001b[0m \u001b[0;34m\u001b[0m\u001b[0m\n\u001b[1;32m   5181\u001b[0m     \u001b[0;32mdef\u001b[0m \u001b[0m__setattr__\u001b[0m\u001b[0;34m(\u001b[0m\u001b[0mself\u001b[0m\u001b[0;34m,\u001b[0m \u001b[0mname\u001b[0m\u001b[0;34m,\u001b[0m \u001b[0mvalue\u001b[0m\u001b[0;34m)\u001b[0m\u001b[0;34m:\u001b[0m\u001b[0;34m\u001b[0m\u001b[0;34m\u001b[0m\u001b[0m\n",
      "\u001b[0;31mAttributeError\u001b[0m: 'DataFrame' object has no attribute 'race'"
     ]
    }
   ],
   "source": [
    "mask = df.race =='Other'\n",
    "# grouped = df[mask].groupby(\"income_bracket\")\n",
    "# grouped.head()\n",
    "df[mask]"
   ]
  },
  {
   "cell_type": "code",
   "execution_count": 94,
   "metadata": {},
   "outputs": [
    {
     "data": {
      "text/html": [
       "<div>\n",
       "<style scoped>\n",
       "    .dataframe tbody tr th:only-of-type {\n",
       "        vertical-align: middle;\n",
       "    }\n",
       "\n",
       "    .dataframe tbody tr th {\n",
       "        vertical-align: top;\n",
       "    }\n",
       "\n",
       "    .dataframe thead th {\n",
       "        text-align: right;\n",
       "    }\n",
       "</style>\n",
       "<table border=\"1\" class=\"dataframe\">\n",
       "  <thead>\n",
       "    <tr style=\"text-align: right;\">\n",
       "      <th></th>\n",
       "      <th>age</th>\n",
       "      <th>sex</th>\n",
       "      <th>race</th>\n",
       "      <th>marital_status</th>\n",
       "      <th>relationship</th>\n",
       "      <th>functional_weight</th>\n",
       "      <th>education</th>\n",
       "      <th>workclass</th>\n",
       "      <th>occupation</th>\n",
       "      <th>capital_gain</th>\n",
       "      <th>capital_loss</th>\n",
       "      <th>hours_per_week</th>\n",
       "      <th>country_name</th>\n",
       "      <th>income_bracket</th>\n",
       "    </tr>\n",
       "  </thead>\n",
       "  <tbody>\n",
       "    <tr>\n",
       "      <th>111</th>\n",
       "      <td>17</td>\n",
       "      <td>Male</td>\n",
       "      <td>Other</td>\n",
       "      <td>Never-married</td>\n",
       "      <td>Own-child</td>\n",
       "      <td>289405</td>\n",
       "      <td>11th</td>\n",
       "      <td>Private</td>\n",
       "      <td>Machine-op-inspct</td>\n",
       "      <td>0</td>\n",
       "      <td>0</td>\n",
       "      <td>12</td>\n",
       "      <td>United-States</td>\n",
       "      <td>&lt;=50K</td>\n",
       "    </tr>\n",
       "    <tr>\n",
       "      <th>207</th>\n",
       "      <td>17</td>\n",
       "      <td>Male</td>\n",
       "      <td>Other</td>\n",
       "      <td>Never-married</td>\n",
       "      <td>Other-relative</td>\n",
       "      <td>168203</td>\n",
       "      <td>7th-8th</td>\n",
       "      <td>Private</td>\n",
       "      <td>Farming-fishing</td>\n",
       "      <td>0</td>\n",
       "      <td>0</td>\n",
       "      <td>40</td>\n",
       "      <td>Mexico</td>\n",
       "      <td>&lt;=50K</td>\n",
       "    </tr>\n",
       "    <tr>\n",
       "      <th>335</th>\n",
       "      <td>18</td>\n",
       "      <td>Male</td>\n",
       "      <td>Other</td>\n",
       "      <td>Never-married</td>\n",
       "      <td>Own-child</td>\n",
       "      <td>179484</td>\n",
       "      <td>12th</td>\n",
       "      <td>?</td>\n",
       "      <td>?</td>\n",
       "      <td>0</td>\n",
       "      <td>0</td>\n",
       "      <td>40</td>\n",
       "      <td>United-States</td>\n",
       "      <td>&lt;=50K</td>\n",
       "    </tr>\n",
       "    <tr>\n",
       "      <th>432</th>\n",
       "      <td>18</td>\n",
       "      <td>Male</td>\n",
       "      <td>Other</td>\n",
       "      <td>Never-married</td>\n",
       "      <td>Own-child</td>\n",
       "      <td>210828</td>\n",
       "      <td>Some-college</td>\n",
       "      <td>Private</td>\n",
       "      <td>Handlers-cleaners</td>\n",
       "      <td>0</td>\n",
       "      <td>0</td>\n",
       "      <td>30</td>\n",
       "      <td>United-States</td>\n",
       "      <td>&lt;=50K</td>\n",
       "    </tr>\n",
       "    <tr>\n",
       "      <th>776</th>\n",
       "      <td>19</td>\n",
       "      <td>Male</td>\n",
       "      <td>Other</td>\n",
       "      <td>Never-married</td>\n",
       "      <td>Not-in-family</td>\n",
       "      <td>369678</td>\n",
       "      <td>HS-grad</td>\n",
       "      <td>?</td>\n",
       "      <td>?</td>\n",
       "      <td>0</td>\n",
       "      <td>0</td>\n",
       "      <td>30</td>\n",
       "      <td>United-States</td>\n",
       "      <td>&lt;=50K</td>\n",
       "    </tr>\n",
       "    <tr>\n",
       "      <th>...</th>\n",
       "      <td>...</td>\n",
       "      <td>...</td>\n",
       "      <td>...</td>\n",
       "      <td>...</td>\n",
       "      <td>...</td>\n",
       "      <td>...</td>\n",
       "      <td>...</td>\n",
       "      <td>...</td>\n",
       "      <td>...</td>\n",
       "      <td>...</td>\n",
       "      <td>...</td>\n",
       "      <td>...</td>\n",
       "      <td>...</td>\n",
       "      <td>...</td>\n",
       "    </tr>\n",
       "    <tr>\n",
       "      <th>31099</th>\n",
       "      <td>53</td>\n",
       "      <td>Female</td>\n",
       "      <td>Other</td>\n",
       "      <td>Divorced</td>\n",
       "      <td>Other-relative</td>\n",
       "      <td>220640</td>\n",
       "      <td>Bachelors</td>\n",
       "      <td>?</td>\n",
       "      <td>?</td>\n",
       "      <td>0</td>\n",
       "      <td>0</td>\n",
       "      <td>20</td>\n",
       "      <td>United-States</td>\n",
       "      <td>&lt;=50K</td>\n",
       "    </tr>\n",
       "    <tr>\n",
       "      <th>31371</th>\n",
       "      <td>56</td>\n",
       "      <td>Female</td>\n",
       "      <td>Other</td>\n",
       "      <td>Widowed</td>\n",
       "      <td>Unmarried</td>\n",
       "      <td>247119</td>\n",
       "      <td>7th-8th</td>\n",
       "      <td>Private</td>\n",
       "      <td>Machine-op-inspct</td>\n",
       "      <td>0</td>\n",
       "      <td>0</td>\n",
       "      <td>40</td>\n",
       "      <td>Dominican-Republic</td>\n",
       "      <td>&lt;=50K</td>\n",
       "    </tr>\n",
       "    <tr>\n",
       "      <th>31596</th>\n",
       "      <td>58</td>\n",
       "      <td>Female</td>\n",
       "      <td>Other</td>\n",
       "      <td>Widowed</td>\n",
       "      <td>Not-in-family</td>\n",
       "      <td>247276</td>\n",
       "      <td>7th-8th</td>\n",
       "      <td>Private</td>\n",
       "      <td>Other-service</td>\n",
       "      <td>0</td>\n",
       "      <td>0</td>\n",
       "      <td>30</td>\n",
       "      <td>United-States</td>\n",
       "      <td>&lt;=50K</td>\n",
       "    </tr>\n",
       "    <tr>\n",
       "      <th>32203</th>\n",
       "      <td>66</td>\n",
       "      <td>Female</td>\n",
       "      <td>Other</td>\n",
       "      <td>Widowed</td>\n",
       "      <td>Not-in-family</td>\n",
       "      <td>206560</td>\n",
       "      <td>HS-grad</td>\n",
       "      <td>?</td>\n",
       "      <td>?</td>\n",
       "      <td>0</td>\n",
       "      <td>0</td>\n",
       "      <td>35</td>\n",
       "      <td>Puerto-Rico</td>\n",
       "      <td>&lt;=50K</td>\n",
       "    </tr>\n",
       "    <tr>\n",
       "      <th>32464</th>\n",
       "      <td>74</td>\n",
       "      <td>Female</td>\n",
       "      <td>Other</td>\n",
       "      <td>Widowed</td>\n",
       "      <td>Not-in-family</td>\n",
       "      <td>89667</td>\n",
       "      <td>Bachelors</td>\n",
       "      <td>?</td>\n",
       "      <td>?</td>\n",
       "      <td>0</td>\n",
       "      <td>0</td>\n",
       "      <td>35</td>\n",
       "      <td>United-States</td>\n",
       "      <td>&lt;=50K</td>\n",
       "    </tr>\n",
       "  </tbody>\n",
       "</table>\n",
       "<p>270 rows × 14 columns</p>\n",
       "</div>"
      ],
      "text/plain": [
       "       age      sex    race  marital_status     relationship  \\\n",
       "111     17     Male   Other   Never-married        Own-child   \n",
       "207     17     Male   Other   Never-married   Other-relative   \n",
       "335     18     Male   Other   Never-married        Own-child   \n",
       "432     18     Male   Other   Never-married        Own-child   \n",
       "776     19     Male   Other   Never-married    Not-in-family   \n",
       "...    ...      ...     ...             ...              ...   \n",
       "31099   53   Female   Other        Divorced   Other-relative   \n",
       "31371   56   Female   Other         Widowed        Unmarried   \n",
       "31596   58   Female   Other         Widowed    Not-in-family   \n",
       "32203   66   Female   Other         Widowed    Not-in-family   \n",
       "32464   74   Female   Other         Widowed    Not-in-family   \n",
       "\n",
       "       functional_weight      education workclass          occupation  \\\n",
       "111               289405           11th   Private   Machine-op-inspct   \n",
       "207               168203        7th-8th   Private     Farming-fishing   \n",
       "335               179484           12th         ?                   ?   \n",
       "432               210828   Some-college   Private   Handlers-cleaners   \n",
       "776               369678        HS-grad         ?                   ?   \n",
       "...                  ...            ...       ...                 ...   \n",
       "31099             220640      Bachelors         ?                   ?   \n",
       "31371             247119        7th-8th   Private   Machine-op-inspct   \n",
       "31596             247276        7th-8th   Private       Other-service   \n",
       "32203             206560        HS-grad         ?                   ?   \n",
       "32464              89667      Bachelors         ?                   ?   \n",
       "\n",
       "       capital_gain  capital_loss  hours_per_week         country_name  \\\n",
       "111               0             0              12        United-States   \n",
       "207               0             0              40               Mexico   \n",
       "335               0             0              40        United-States   \n",
       "432               0             0              30        United-States   \n",
       "776               0             0              30        United-States   \n",
       "...             ...           ...             ...                  ...   \n",
       "31099             0             0              20        United-States   \n",
       "31371             0             0              40   Dominican-Republic   \n",
       "31596             0             0              30        United-States   \n",
       "32203             0             0              35          Puerto-Rico   \n",
       "32464             0             0              35        United-States   \n",
       "\n",
       "      income_bracket  \n",
       "111            <=50K  \n",
       "207            <=50K  \n",
       "335            <=50K  \n",
       "432            <=50K  \n",
       "776            <=50K  \n",
       "...              ...  \n",
       "31099          <=50K  \n",
       "31371          <=50K  \n",
       "31596          <=50K  \n",
       "32203          <=50K  \n",
       "32464          <=50K  \n",
       "\n",
       "[270 rows x 14 columns]"
      ]
     },
     "execution_count": 94,
     "metadata": {},
     "output_type": "execute_result"
    }
   ],
   "source": [
    "# how many Fare values equal to 0\n",
    "df1 = df[df['race'] == \" Other\"]\n",
    "df1"
   ]
  },
  {
   "cell_type": "code",
   "execution_count": 14,
   "metadata": {},
   "outputs": [
    {
     "data": {
      "text/plain": [
       " <=50K    245\n",
       " >50K      25\n",
       "Name: income_bracket, dtype: int64"
      ]
     },
     "execution_count": 14,
     "metadata": {},
     "output_type": "execute_result"
    }
   ],
   "source": [
    "df1.income_bracket.value_counts()"
   ]
  },
  {
   "cell_type": "code",
   "execution_count": 15,
   "metadata": {},
   "outputs": [
    {
     "ename": "KeyError",
     "evalue": "\"['race'] not in index\"",
     "output_type": "error",
     "traceback": [
      "\u001b[0;31m---------------------------------------------------------------------------\u001b[0m",
      "\u001b[0;31mKeyError\u001b[0m                                  Traceback (most recent call last)",
      "\u001b[0;32m<ipython-input-15-9859ff21ebe8>\u001b[0m in \u001b[0;36m<module>\u001b[0;34m\u001b[0m\n\u001b[1;32m      1\u001b[0m \u001b[0;31m# plot income oper race\u001b[0m\u001b[0;34m\u001b[0m\u001b[0;34m\u001b[0m\u001b[0;34m\u001b[0m\u001b[0m\n\u001b[1;32m      2\u001b[0m \u001b[0;34m\u001b[0m\u001b[0m\n\u001b[0;32m----> 3\u001b[0;31m pt = df[['race','income_bracket']].pivot_table(index='race', columns='income_bracket', \n\u001b[0m\u001b[1;32m      4\u001b[0m                                               aggfunc=len, fill_value=0) \n\u001b[1;32m      5\u001b[0m \u001b[0;34m\u001b[0m\u001b[0m\n",
      "\u001b[0;32m~/opt/anaconda3/lib/python3.7/site-packages/pandas/core/frame.py\u001b[0m in \u001b[0;36m__getitem__\u001b[0;34m(self, key)\u001b[0m\n\u001b[1;32m   2999\u001b[0m             \u001b[0;32mif\u001b[0m \u001b[0mis_iterator\u001b[0m\u001b[0;34m(\u001b[0m\u001b[0mkey\u001b[0m\u001b[0;34m)\u001b[0m\u001b[0;34m:\u001b[0m\u001b[0;34m\u001b[0m\u001b[0;34m\u001b[0m\u001b[0m\n\u001b[1;32m   3000\u001b[0m                 \u001b[0mkey\u001b[0m \u001b[0;34m=\u001b[0m \u001b[0mlist\u001b[0m\u001b[0;34m(\u001b[0m\u001b[0mkey\u001b[0m\u001b[0;34m)\u001b[0m\u001b[0;34m\u001b[0m\u001b[0;34m\u001b[0m\u001b[0m\n\u001b[0;32m-> 3001\u001b[0;31m             \u001b[0mindexer\u001b[0m \u001b[0;34m=\u001b[0m \u001b[0mself\u001b[0m\u001b[0;34m.\u001b[0m\u001b[0mloc\u001b[0m\u001b[0;34m.\u001b[0m\u001b[0m_convert_to_indexer\u001b[0m\u001b[0;34m(\u001b[0m\u001b[0mkey\u001b[0m\u001b[0;34m,\u001b[0m \u001b[0maxis\u001b[0m\u001b[0;34m=\u001b[0m\u001b[0;36m1\u001b[0m\u001b[0;34m,\u001b[0m \u001b[0mraise_missing\u001b[0m\u001b[0;34m=\u001b[0m\u001b[0;32mTrue\u001b[0m\u001b[0;34m)\u001b[0m\u001b[0;34m\u001b[0m\u001b[0;34m\u001b[0m\u001b[0m\n\u001b[0m\u001b[1;32m   3002\u001b[0m \u001b[0;34m\u001b[0m\u001b[0m\n\u001b[1;32m   3003\u001b[0m         \u001b[0;31m# take() does not accept boolean indexers\u001b[0m\u001b[0;34m\u001b[0m\u001b[0;34m\u001b[0m\u001b[0;34m\u001b[0m\u001b[0m\n",
      "\u001b[0;32m~/opt/anaconda3/lib/python3.7/site-packages/pandas/core/indexing.py\u001b[0m in \u001b[0;36m_convert_to_indexer\u001b[0;34m(self, obj, axis, is_setter, raise_missing)\u001b[0m\n\u001b[1;32m   1283\u001b[0m                 \u001b[0;31m# When setting, missing keys are not allowed, even with .loc:\u001b[0m\u001b[0;34m\u001b[0m\u001b[0;34m\u001b[0m\u001b[0;34m\u001b[0m\u001b[0m\n\u001b[1;32m   1284\u001b[0m                 \u001b[0mkwargs\u001b[0m \u001b[0;34m=\u001b[0m \u001b[0;34m{\u001b[0m\u001b[0;34m\"raise_missing\"\u001b[0m\u001b[0;34m:\u001b[0m \u001b[0;32mTrue\u001b[0m \u001b[0;32mif\u001b[0m \u001b[0mis_setter\u001b[0m \u001b[0;32melse\u001b[0m \u001b[0mraise_missing\u001b[0m\u001b[0;34m}\u001b[0m\u001b[0;34m\u001b[0m\u001b[0;34m\u001b[0m\u001b[0m\n\u001b[0;32m-> 1285\u001b[0;31m                 \u001b[0;32mreturn\u001b[0m \u001b[0mself\u001b[0m\u001b[0;34m.\u001b[0m\u001b[0m_get_listlike_indexer\u001b[0m\u001b[0;34m(\u001b[0m\u001b[0mobj\u001b[0m\u001b[0;34m,\u001b[0m \u001b[0maxis\u001b[0m\u001b[0;34m,\u001b[0m \u001b[0;34m**\u001b[0m\u001b[0mkwargs\u001b[0m\u001b[0;34m)\u001b[0m\u001b[0;34m[\u001b[0m\u001b[0;36m1\u001b[0m\u001b[0;34m]\u001b[0m\u001b[0;34m\u001b[0m\u001b[0;34m\u001b[0m\u001b[0m\n\u001b[0m\u001b[1;32m   1286\u001b[0m         \u001b[0;32melse\u001b[0m\u001b[0;34m:\u001b[0m\u001b[0;34m\u001b[0m\u001b[0;34m\u001b[0m\u001b[0m\n\u001b[1;32m   1287\u001b[0m             \u001b[0;32mtry\u001b[0m\u001b[0;34m:\u001b[0m\u001b[0;34m\u001b[0m\u001b[0;34m\u001b[0m\u001b[0m\n",
      "\u001b[0;32m~/opt/anaconda3/lib/python3.7/site-packages/pandas/core/indexing.py\u001b[0m in \u001b[0;36m_get_listlike_indexer\u001b[0;34m(self, key, axis, raise_missing)\u001b[0m\n\u001b[1;32m   1090\u001b[0m \u001b[0;34m\u001b[0m\u001b[0m\n\u001b[1;32m   1091\u001b[0m         self._validate_read_indexer(\n\u001b[0;32m-> 1092\u001b[0;31m             \u001b[0mkeyarr\u001b[0m\u001b[0;34m,\u001b[0m \u001b[0mindexer\u001b[0m\u001b[0;34m,\u001b[0m \u001b[0mo\u001b[0m\u001b[0;34m.\u001b[0m\u001b[0m_get_axis_number\u001b[0m\u001b[0;34m(\u001b[0m\u001b[0maxis\u001b[0m\u001b[0;34m)\u001b[0m\u001b[0;34m,\u001b[0m \u001b[0mraise_missing\u001b[0m\u001b[0;34m=\u001b[0m\u001b[0mraise_missing\u001b[0m\u001b[0;34m\u001b[0m\u001b[0;34m\u001b[0m\u001b[0m\n\u001b[0m\u001b[1;32m   1093\u001b[0m         )\n\u001b[1;32m   1094\u001b[0m         \u001b[0;32mreturn\u001b[0m \u001b[0mkeyarr\u001b[0m\u001b[0;34m,\u001b[0m \u001b[0mindexer\u001b[0m\u001b[0;34m\u001b[0m\u001b[0;34m\u001b[0m\u001b[0m\n",
      "\u001b[0;32m~/opt/anaconda3/lib/python3.7/site-packages/pandas/core/indexing.py\u001b[0m in \u001b[0;36m_validate_read_indexer\u001b[0;34m(self, key, indexer, axis, raise_missing)\u001b[0m\n\u001b[1;32m   1183\u001b[0m             \u001b[0;32mif\u001b[0m \u001b[0;32mnot\u001b[0m \u001b[0;34m(\u001b[0m\u001b[0mself\u001b[0m\u001b[0;34m.\u001b[0m\u001b[0mname\u001b[0m \u001b[0;34m==\u001b[0m \u001b[0;34m\"loc\"\u001b[0m \u001b[0;32mand\u001b[0m \u001b[0;32mnot\u001b[0m \u001b[0mraise_missing\u001b[0m\u001b[0;34m)\u001b[0m\u001b[0;34m:\u001b[0m\u001b[0;34m\u001b[0m\u001b[0;34m\u001b[0m\u001b[0m\n\u001b[1;32m   1184\u001b[0m                 \u001b[0mnot_found\u001b[0m \u001b[0;34m=\u001b[0m \u001b[0mlist\u001b[0m\u001b[0;34m(\u001b[0m\u001b[0mset\u001b[0m\u001b[0;34m(\u001b[0m\u001b[0mkey\u001b[0m\u001b[0;34m)\u001b[0m \u001b[0;34m-\u001b[0m \u001b[0mset\u001b[0m\u001b[0;34m(\u001b[0m\u001b[0max\u001b[0m\u001b[0;34m)\u001b[0m\u001b[0;34m)\u001b[0m\u001b[0;34m\u001b[0m\u001b[0;34m\u001b[0m\u001b[0m\n\u001b[0;32m-> 1185\u001b[0;31m                 \u001b[0;32mraise\u001b[0m \u001b[0mKeyError\u001b[0m\u001b[0;34m(\u001b[0m\u001b[0;34m\"{} not in index\"\u001b[0m\u001b[0;34m.\u001b[0m\u001b[0mformat\u001b[0m\u001b[0;34m(\u001b[0m\u001b[0mnot_found\u001b[0m\u001b[0;34m)\u001b[0m\u001b[0;34m)\u001b[0m\u001b[0;34m\u001b[0m\u001b[0;34m\u001b[0m\u001b[0m\n\u001b[0m\u001b[1;32m   1186\u001b[0m \u001b[0;34m\u001b[0m\u001b[0m\n\u001b[1;32m   1187\u001b[0m             \u001b[0;31m# we skip the warning on Categorical/Interval\u001b[0m\u001b[0;34m\u001b[0m\u001b[0;34m\u001b[0m\u001b[0;34m\u001b[0m\u001b[0m\n",
      "\u001b[0;31mKeyError\u001b[0m: \"['race'] not in index\""
     ]
    }
   ],
   "source": [
    "# plot income oper race \n",
    "\n",
    "pt = df[['race','income_bracket']].pivot_table(index='race', columns='income_bracket', \n",
    "                                              aggfunc=len, fill_value=0) \n",
    "\n",
    "pt.plot.bar()"
   ]
  },
  {
   "cell_type": "markdown",
   "metadata": {},
   "source": [
    "Race to drop. White is 85% . The target distribution between white is related to averal target distribution \n"
   ]
  },
  {
   "cell_type": "markdown",
   "metadata": {},
   "source": [
    "# marital_status"
   ]
  },
  {
   "cell_type": "code",
   "execution_count": 18,
   "metadata": {},
   "outputs": [
    {
     "data": {
      "text/plain": [
       " Married-civ-spouse       14878\n",
       " Never-married            10658\n",
       " Divorced                  4436\n",
       " Separated                 1023\n",
       " Widowed                    934\n",
       " Married-spouse-absent      414\n",
       " Married-AF-spouse           23\n",
       "Name: marital_status, dtype: int64"
      ]
     },
     "execution_count": 18,
     "metadata": {},
     "output_type": "execute_result"
    }
   ],
   "source": [
    "df.marital_status.value_counts()"
   ]
  },
  {
   "cell_type": "code",
   "execution_count": 19,
   "metadata": {},
   "outputs": [
    {
     "data": {
      "text/plain": [
       "<matplotlib.axes._subplots.AxesSubplot at 0x116886210>"
      ]
     },
     "execution_count": 19,
     "metadata": {},
     "output_type": "execute_result"
    },
    {
     "data": {
      "image/png": "[encoded data removed]",
      "text/plain": [
       "<Figure size 432x288 with 1 Axes>"
      ]
     },
     "metadata": {
      "needs_background": "light"
     },
     "output_type": "display_data"
    }
   ],
   "source": [
    "# plot income per marital status\n",
    "\n",
    "pt = df[['marital_status','income_bracket']].pivot_table(index='marital_status', columns='income_bracket', \n",
    "                                              aggfunc=len, fill_value=0) \n",
    "\n",
    "pt.plot.bar()"
   ]
  },
  {
   "cell_type": "markdown",
   "metadata": {},
   "source": [
    "change 7 categories to 4 ( inclue in other)"
   ]
  },
  {
   "cell_type": "code",
   "execution_count": 178,
   "metadata": {},
   "outputs": [
    {
     "data": {
      "text/plain": [
       "marital_status\n",
       " Married-AF-spouse           23\n",
       " Married-spouse-absent      418\n",
       " Widowed                    993\n",
       " Separated                 1025\n",
       " Divorced                  4443\n",
       " Never-married            10683\n",
       " Married-civ-spouse       14976\n",
       "dtype: int64"
      ]
     },
     "execution_count": 178,
     "metadata": {},
     "output_type": "execute_result"
    }
   ],
   "source": [
    "df.groupby('marital_status').size().sort_values()"
   ]
  },
  {
   "cell_type": "code",
   "execution_count": 66,
   "metadata": {},
   "outputs": [
    {
     "name": "stdout",
     "output_type": "stream",
     "text": [
      "[' Married-AF-spouse', ' Married-spouse-absent', ' Separated', ' Widowed']\n"
     ]
    }
   ],
   "source": [
    "small_groups = pd.Series(df.groupby('marital_status').size())\n",
    "small_groups = small_groups[small_groups < len(df['marital_status']) * 0.04]\n",
    "small_groups_list = list(small_groups.index)\n",
    "print(small_groups_list)"
   ]
  },
  {
   "cell_type": "code",
   "execution_count": 67,
   "metadata": {},
   "outputs": [
    {
     "data": {
      "text/plain": [
       "marital_status\n",
       " Divorced               4436\n",
       " Married-civ-spouse    14878\n",
       " Never-married         10658\n",
       "Other                   2394\n",
       "dtype: int64"
      ]
     },
     "execution_count": 67,
     "metadata": {},
     "output_type": "execute_result"
    }
   ],
   "source": [
    "# replace small statuse groups by \"Other\"\n",
    "ind_list = df['marital_status'].apply(lambda x: x in small_groups_list)\n",
    "df.loc[ind_list, 'marital_status'] = 'Other'\n",
    "\n",
    "df.groupby('marital_status').size()"
   ]
  },
  {
   "cell_type": "code",
   "execution_count": 68,
   "metadata": {},
   "outputs": [
    {
     "data": {
      "text/plain": [
       "<matplotlib.axes._subplots.AxesSubplot at 0x1a1ce28fd0>"
      ]
     },
     "execution_count": 68,
     "metadata": {},
     "output_type": "execute_result"
    },
    {
     "data": {
      "image/png": "[encoded data removed]",
      "text/plain": [
       "<Figure size 432x288 with 1 Axes>"
      ]
     },
     "metadata": {
      "needs_background": "light"
     },
     "output_type": "display_data"
    }
   ],
   "source": [
    "# plot \n",
    "\n",
    "pt = df[['marital_status','income_bracket']].pivot_table(index='marital_status', columns='income_bracket', \n",
    "                                              aggfunc=len, fill_value=0) \n",
    "\n",
    "pt.plot.bar()"
   ]
  },
  {
   "cell_type": "markdown",
   "metadata": {},
   "source": [
    "# Relationship \n",
    "\n"
   ]
  },
  {
   "cell_type": "code",
   "execution_count": 240,
   "metadata": {},
   "outputs": [
    {
     "data": {
      "text/plain": [
       " Husband           13193\n",
       " Not-in-family      8305\n",
       " Own-child          5068\n",
       " Unmarried          3446\n",
       " Wife               1568\n",
       " Other-relative      981\n",
       "Name: relationship, dtype: int64"
      ]
     },
     "execution_count": 240,
     "metadata": {},
     "output_type": "execute_result"
    }
   ],
   "source": [
    "df.relationship.value_counts()"
   ]
  },
  {
   "cell_type": "code",
   "execution_count": 182,
   "metadata": {},
   "outputs": [
    {
     "data": {
      "text/plain": [
       "<matplotlib.axes._subplots.AxesSubplot at 0x1a236cc7d0>"
      ]
     },
     "execution_count": 182,
     "metadata": {},
     "output_type": "execute_result"
    },
    {
     "data": {
      "image/png": "[encoded data removed]",
      "text/plain": [
       "<Figure size 432x288 with 1 Axes>"
      ]
     },
     "metadata": {
      "needs_background": "light"
     },
     "output_type": "display_data"
    }
   ],
   "source": [
    "# plot income per relationship\n",
    "\n",
    "pt = df[['relationship','income_bracket']].pivot_table(index='relationship', columns='income_bracket', \n",
    "                                              aggfunc=len, fill_value=0) \n",
    "\n",
    "pt.plot.bar()"
   ]
  },
  {
   "cell_type": "markdown",
   "metadata": {},
   "source": [
    "People who have husband- wife have +- equal distribution of target . Other <=50 significant impact\n",
    "\n",
    "To keep husband- wife + combine other categories to others "
   ]
  },
  {
   "cell_type": "code",
   "execution_count": 139,
   "metadata": {},
   "outputs": [
    {
     "data": {
      "text/plain": [
       "relationship\n",
       " Other-relative      978\n",
       " Wife               1563\n",
       " Unmarried          3431\n",
       " Own-child          5062\n",
       " Not-in-family      8231\n",
       " Husband           13101\n",
       "dtype: int64"
      ]
     },
     "execution_count": 139,
     "metadata": {},
     "output_type": "execute_result"
    }
   ],
   "source": [
    "df.groupby('relationship').size().sort_values()"
   ]
  },
  {
   "cell_type": "code",
   "execution_count": 69,
   "metadata": {},
   "outputs": [
    {
     "data": {
      "text/plain": [
       "Other       17702\n",
       " Husband    13101\n",
       " Wife        1563\n",
       "Name: relationship, dtype: int64"
      ]
     },
     "execution_count": 69,
     "metadata": {},
     "output_type": "execute_result"
    }
   ],
   "source": [
    "# Rename columns to Other\n",
    "df.loc[df['relationship'] == ' Other-relative' , 'relationship'] = 'Other'\n",
    "df.loc[df['relationship'] == ' Unmarried' , 'relationship'] = 'Other'\n",
    "df.loc[df['relationship'] == ' Own-child' , 'relationship'] = 'Other'\n",
    "df.loc[df['relationship'] == ' Not-in-family' , 'relationship'] = 'Other'\n",
    "\n",
    "df['relationship'].value_counts()"
   ]
  },
  {
   "cell_type": "code",
   "execution_count": 70,
   "metadata": {},
   "outputs": [
    {
     "data": {
      "text/plain": [
       "<matplotlib.axes._subplots.AxesSubplot at 0x1a1bc156d0>"
      ]
     },
     "execution_count": 70,
     "metadata": {},
     "output_type": "execute_result"
    },
    {
     "data": {
      "image/png": "[encoded data removed]",
      "text/plain": [
       "<Figure size 432x288 with 1 Axes>"
      ]
     },
     "metadata": {
      "needs_background": "light"
     },
     "output_type": "display_data"
    }
   ],
   "source": [
    "# plot income per relationship\n",
    "\n",
    "pt = df[['relationship','income_bracket']].pivot_table(index='relationship', columns='income_bracket', \n",
    "                                              aggfunc=len, fill_value=0) \n",
    "\n",
    "pt.plot.bar()"
   ]
  },
  {
   "cell_type": "markdown",
   "metadata": {},
   "source": [
    "keep husband, wife , other"
   ]
  },
  {
   "cell_type": "markdown",
   "metadata": {},
   "source": [
    "# functional_weight - numerical"
   ]
  },
  {
   "cell_type": "code",
   "execution_count": 241,
   "metadata": {},
   "outputs": [
    {
     "data": {
      "text/plain": [
       "<matplotlib.axes._subplots.AxesSubplot at 0x1a22a288d0>"
      ]
     },
     "execution_count": 241,
     "metadata": {},
     "output_type": "execute_result"
    },
    {
     "data": {
      "image/png": "[encoded data removed]",
      "text/plain": [
       "<Figure size 432x288 with 1 Axes>"
      ]
     },
     "metadata": {
      "needs_background": "light"
     },
     "output_type": "display_data"
    }
   ],
   "source": [
    "df.functional_weight.plot()"
   ]
  },
  {
   "cell_type": "code",
   "execution_count": 345,
   "metadata": {},
   "outputs": [
    {
     "data": {
      "text/plain": [
       "count    32208.000000\n",
       "mean         0.001573\n",
       "std          1.000993\n",
       "min         -1.681631\n",
       "25%         -0.681483\n",
       "50%         -0.105988\n",
       "75%          0.451534\n",
       "max         12.268563\n",
       "Name: functional_weight, dtype: float64"
      ]
     },
     "execution_count": 345,
     "metadata": {},
     "output_type": "execute_result"
    }
   ],
   "source": [
    "df.functional_weight.describe()"
   ]
  },
  {
   "cell_type": "code",
   "execution_count": 346,
   "metadata": {},
   "outputs": [
    {
     "data": {
      "text/plain": [
       "-0.632576    13\n",
       " 0.129890    13\n",
       "-0.242433    13\n",
       "-0.723975    12\n",
       "-0.650454    12\n",
       "             ..\n",
       "-0.056414     1\n",
       " 2.486317     1\n",
       " 1.491019     1\n",
       "-0.689981     1\n",
       " 1.511740     1\n",
       "Name: functional_weight, Length: 21422, dtype: int64"
      ]
     },
     "execution_count": 346,
     "metadata": {},
     "output_type": "execute_result"
    }
   ],
   "source": [
    "df.functional_weight.value_counts()"
   ]
  },
  {
   "cell_type": "markdown",
   "metadata": {},
   "source": [
    "### Starndart Scaller"
   ]
  },
  {
   "cell_type": "code",
   "execution_count": 25,
   "metadata": {},
   "outputs": [],
   "source": [
    "# # apply standartization on the data\n",
    "# # from sklearn.preprocessing import StandardScaler\n",
    "\n",
    "# scaler = StandardScaler()\n",
    "# df.functional_weight = scaler.fit_transform(df.functional_weight.values.reshape(-1, 1))"
   ]
  },
  {
   "cell_type": "markdown",
   "metadata": {},
   "source": [
    "# Education   ???"
   ]
  },
  {
   "cell_type": "code",
   "execution_count": 37,
   "metadata": {},
   "outputs": [
    {
     "data": {
      "text/plain": [
       " HS-grad         10439\n",
       " Some-college     7266\n",
       " Bachelors        5330\n",
       " Masters          1709\n",
       " Assoc-voc        1376\n",
       " 11th             1170\n",
       " Assoc-acdm       1063\n",
       " 10th              929\n",
       " 7th-8th           623\n",
       " Prof-school       568\n",
       " 9th               510\n",
       " 12th              432\n",
       " Doctorate         408\n",
       " 5th-6th           328\n",
       " 1st-4th           164\n",
       " Preschool          51\n",
       "Name: education, dtype: int64"
      ]
     },
     "execution_count": 37,
     "metadata": {},
     "output_type": "execute_result"
    }
   ],
   "source": [
    "df.education.value_counts()"
   ]
  },
  {
   "cell_type": "code",
   "execution_count": 186,
   "metadata": {},
   "outputs": [
    {
     "data": {
      "text/plain": [
       "<matplotlib.axes._subplots.AxesSubplot at 0x1a24092390>"
      ]
     },
     "execution_count": 186,
     "metadata": {},
     "output_type": "execute_result"
    },
    {
     "data": {
      "image/png": "[encoded data removed]",
      "text/plain": [
       "<Figure size 432x288 with 1 Axes>"
      ]
     },
     "metadata": {
      "needs_background": "light"
     },
     "output_type": "display_data"
    }
   ],
   "source": [
    "# plot income per education\n",
    "\n",
    "pt = df[['education','income_bracket']].pivot_table(index='education', columns='income_bracket', \n",
    "                                              aggfunc=len, fill_value=0) \n",
    "\n",
    "pt.plot.bar()"
   ]
  },
  {
   "cell_type": "code",
   "execution_count": 71,
   "metadata": {},
   "outputs": [
    {
     "data": {
      "text/plain": [
       "Other           13912\n",
       " HS-grad        10439\n",
       " Bachelors       5330\n",
       " Masters         1709\n",
       " Prof-school      568\n",
       " Doctorate        408\n",
       "Name: education, dtype: int64"
      ]
     },
     "execution_count": 71,
     "metadata": {},
     "output_type": "execute_result"
    }
   ],
   "source": [
    "# Combine columns to Other\n",
    "df.loc[df['education'] == ' Preschool' , 'education'] = 'Other'\n",
    "df.loc[df['education'] == ' 1st-4th' , 'education'] = 'Other'\n",
    "df.loc[df['education'] == ' 5th-6th' , 'education'] = 'Other'\n",
    "df.loc[df['education'] == ' 7th-8th' , 'education'] = 'Other'\n",
    "\n",
    "df.loc[df['education'] == ' 9th' , 'education'] = 'Other'\n",
    "df.loc[df['education'] == ' 10th' , 'education'] = 'Other'\n",
    "df.loc[df['education'] == ' 11th' , 'education'] = 'Other'\n",
    "df.loc[df['education'] == ' 12th' , 'education'] = 'Other'\n",
    "df.loc[df['education'] == ' Assoc-acdm' , 'education'] = 'Other'\n",
    "df.loc[df['education'] == ' Assoc-voc' , 'education'] = 'Other'\n",
    "df.loc[df['education'] == ' Some-college' , 'education'] = 'Other'\n",
    "\n",
    "df['education'].value_counts()"
   ]
  },
  {
   "cell_type": "code",
   "execution_count": 72,
   "metadata": {},
   "outputs": [
    {
     "data": {
      "text/plain": [
       "<matplotlib.axes._subplots.AxesSubplot at 0x1a1a447690>"
      ]
     },
     "execution_count": 72,
     "metadata": {},
     "output_type": "execute_result"
    },
    {
     "data": {
      "image/png": "[encoded data removed]",
      "text/plain": [
       "<Figure size 432x288 with 1 Axes>"
      ]
     },
     "metadata": {
      "needs_background": "light"
     },
     "output_type": "display_data"
    }
   ],
   "source": [
    "# plot income per education\n",
    "\n",
    "pt = df[['education','income_bracket']].pivot_table(index='education', columns='income_bracket', \n",
    "                                              aggfunc=len, fill_value=0) \n",
    "\n",
    "pt.plot.bar()"
   ]
  },
  {
   "cell_type": "markdown",
   "metadata": {},
   "source": [
    "combine 10 categories to 1 Other = college and below"
   ]
  },
  {
   "cell_type": "code",
   "execution_count": 193,
   "metadata": {},
   "outputs": [
    {
     "data": {
      "text/html": [
       "<div>\n",
       "<style scoped>\n",
       "    .dataframe tbody tr th:only-of-type {\n",
       "        vertical-align: middle;\n",
       "    }\n",
       "\n",
       "    .dataframe tbody tr th {\n",
       "        vertical-align: top;\n",
       "    }\n",
       "\n",
       "    .dataframe thead th {\n",
       "        text-align: right;\n",
       "    }\n",
       "</style>\n",
       "<table border=\"1\" class=\"dataframe\">\n",
       "  <thead>\n",
       "    <tr style=\"text-align: right;\">\n",
       "      <th></th>\n",
       "      <th>age</th>\n",
       "      <th>sex</th>\n",
       "      <th>marital_status</th>\n",
       "      <th>relationship</th>\n",
       "      <th>functional_weight</th>\n",
       "      <th>education</th>\n",
       "      <th>workclass</th>\n",
       "      <th>occupation</th>\n",
       "      <th>capital_gain</th>\n",
       "      <th>capital_loss</th>\n",
       "      <th>hours_per_week</th>\n",
       "      <th>country_name</th>\n",
       "      <th>income_bracket</th>\n",
       "    </tr>\n",
       "  </thead>\n",
       "  <tbody>\n",
       "    <tr>\n",
       "      <th>0</th>\n",
       "      <td>17</td>\n",
       "      <td>Male</td>\n",
       "      <td>Married-civ-spouse</td>\n",
       "      <td>Husband</td>\n",
       "      <td>0.297026</td>\n",
       "      <td>Other</td>\n",
       "      <td>Private</td>\n",
       "      <td>Other-service</td>\n",
       "      <td>0</td>\n",
       "      <td>0</td>\n",
       "      <td>40</td>\n",
       "      <td>United-States</td>\n",
       "      <td>&lt;=50K</td>\n",
       "    </tr>\n",
       "    <tr>\n",
       "      <th>1</th>\n",
       "      <td>17</td>\n",
       "      <td>Male</td>\n",
       "      <td>Never-married</td>\n",
       "      <td>Other</td>\n",
       "      <td>0.014037</td>\n",
       "      <td>Other</td>\n",
       "      <td>Private</td>\n",
       "      <td>Other-service</td>\n",
       "      <td>1055</td>\n",
       "      <td>0</td>\n",
       "      <td>24</td>\n",
       "      <td>United-States</td>\n",
       "      <td>&lt;=50K</td>\n",
       "    </tr>\n",
       "    <tr>\n",
       "      <th>2</th>\n",
       "      <td>17</td>\n",
       "      <td>Male</td>\n",
       "      <td>Never-married</td>\n",
       "      <td>Other</td>\n",
       "      <td>-1.493670</td>\n",
       "      <td>Other</td>\n",
       "      <td>Local-gov</td>\n",
       "      <td>Other-service</td>\n",
       "      <td>0</td>\n",
       "      <td>0</td>\n",
       "      <td>9</td>\n",
       "      <td>United-States</td>\n",
       "      <td>&lt;=50K</td>\n",
       "    </tr>\n",
       "    <tr>\n",
       "      <th>3</th>\n",
       "      <td>17</td>\n",
       "      <td>Male</td>\n",
       "      <td>Never-married</td>\n",
       "      <td>Other</td>\n",
       "      <td>-0.594755</td>\n",
       "      <td>Other</td>\n",
       "      <td>?</td>\n",
       "      <td>?</td>\n",
       "      <td>0</td>\n",
       "      <td>0</td>\n",
       "      <td>40</td>\n",
       "      <td>United-States</td>\n",
       "      <td>&lt;=50K</td>\n",
       "    </tr>\n",
       "    <tr>\n",
       "      <th>4</th>\n",
       "      <td>17</td>\n",
       "      <td>Male</td>\n",
       "      <td>Never-married</td>\n",
       "      <td>Other</td>\n",
       "      <td>-0.533683</td>\n",
       "      <td>Other</td>\n",
       "      <td>Private</td>\n",
       "      <td>Other-service</td>\n",
       "      <td>0</td>\n",
       "      <td>0</td>\n",
       "      <td>26</td>\n",
       "      <td>United-States</td>\n",
       "      <td>&lt;=50K</td>\n",
       "    </tr>\n",
       "    <tr>\n",
       "      <th>...</th>\n",
       "      <td>...</td>\n",
       "      <td>...</td>\n",
       "      <td>...</td>\n",
       "      <td>...</td>\n",
       "      <td>...</td>\n",
       "      <td>...</td>\n",
       "      <td>...</td>\n",
       "      <td>...</td>\n",
       "      <td>...</td>\n",
       "      <td>...</td>\n",
       "      <td>...</td>\n",
       "      <td>...</td>\n",
       "      <td>...</td>\n",
       "    </tr>\n",
       "    <tr>\n",
       "      <th>32556</th>\n",
       "      <td>90</td>\n",
       "      <td>Female</td>\n",
       "      <td>Other</td>\n",
       "      <td>Other</td>\n",
       "      <td>-0.222034</td>\n",
       "      <td>Other</td>\n",
       "      <td>?</td>\n",
       "      <td>?</td>\n",
       "      <td>0</td>\n",
       "      <td>0</td>\n",
       "      <td>40</td>\n",
       "      <td>United-States</td>\n",
       "      <td>&lt;=50K</td>\n",
       "    </tr>\n",
       "    <tr>\n",
       "      <th>32557</th>\n",
       "      <td>90</td>\n",
       "      <td>Female</td>\n",
       "      <td>Other</td>\n",
       "      <td>Other</td>\n",
       "      <td>-0.135809</td>\n",
       "      <td>Other</td>\n",
       "      <td>?</td>\n",
       "      <td>?</td>\n",
       "      <td>0</td>\n",
       "      <td>0</td>\n",
       "      <td>15</td>\n",
       "      <td>United-States</td>\n",
       "      <td>&lt;=50K</td>\n",
       "    </tr>\n",
       "    <tr>\n",
       "      <th>32558</th>\n",
       "      <td>90</td>\n",
       "      <td>Female</td>\n",
       "      <td>Never-married</td>\n",
       "      <td>Other</td>\n",
       "      <td>-0.499869</td>\n",
       "      <td>HS-grad</td>\n",
       "      <td>Private</td>\n",
       "      <td>Other-service</td>\n",
       "      <td>0</td>\n",
       "      <td>0</td>\n",
       "      <td>40</td>\n",
       "      <td>United-States</td>\n",
       "      <td>&lt;=50K</td>\n",
       "    </tr>\n",
       "    <tr>\n",
       "      <th>32559</th>\n",
       "      <td>90</td>\n",
       "      <td>Female</td>\n",
       "      <td>Other</td>\n",
       "      <td>Other</td>\n",
       "      <td>-1.067997</td>\n",
       "      <td>HS-grad</td>\n",
       "      <td>?</td>\n",
       "      <td>?</td>\n",
       "      <td>0</td>\n",
       "      <td>4356</td>\n",
       "      <td>40</td>\n",
       "      <td>United-States</td>\n",
       "      <td>&lt;=50K</td>\n",
       "    </tr>\n",
       "    <tr>\n",
       "      <th>32560</th>\n",
       "      <td>90</td>\n",
       "      <td>Female</td>\n",
       "      <td>Other</td>\n",
       "      <td>Other</td>\n",
       "      <td>0.632275</td>\n",
       "      <td>Bachelors</td>\n",
       "      <td>?</td>\n",
       "      <td>?</td>\n",
       "      <td>991</td>\n",
       "      <td>0</td>\n",
       "      <td>10</td>\n",
       "      <td>United-States</td>\n",
       "      <td>&lt;=50K</td>\n",
       "    </tr>\n",
       "  </tbody>\n",
       "</table>\n",
       "<p>32561 rows × 13 columns</p>\n",
       "</div>"
      ],
      "text/plain": [
       "       age      sex       marital_status relationship  functional_weight  \\\n",
       "0       17     Male   Married-civ-spouse      Husband           0.297026   \n",
       "1       17     Male        Never-married        Other           0.014037   \n",
       "2       17     Male        Never-married        Other          -1.493670   \n",
       "3       17     Male        Never-married        Other          -0.594755   \n",
       "4       17     Male        Never-married        Other          -0.533683   \n",
       "...    ...      ...                  ...          ...                ...   \n",
       "32556   90   Female                Other        Other          -0.222034   \n",
       "32557   90   Female                Other        Other          -0.135809   \n",
       "32558   90   Female        Never-married        Other          -0.499869   \n",
       "32559   90   Female                Other        Other          -1.067997   \n",
       "32560   90   Female                Other        Other           0.632275   \n",
       "\n",
       "        education   workclass      occupation  capital_gain  capital_loss  \\\n",
       "0           Other     Private   Other-service             0             0   \n",
       "1           Other     Private   Other-service          1055             0   \n",
       "2           Other   Local-gov   Other-service             0             0   \n",
       "3           Other           ?               ?             0             0   \n",
       "4           Other     Private   Other-service             0             0   \n",
       "...           ...         ...             ...           ...           ...   \n",
       "32556       Other           ?               ?             0             0   \n",
       "32557       Other           ?               ?             0             0   \n",
       "32558     HS-grad     Private   Other-service             0             0   \n",
       "32559     HS-grad           ?               ?             0          4356   \n",
       "32560   Bachelors           ?               ?           991             0   \n",
       "\n",
       "       hours_per_week    country_name income_bracket  \n",
       "0                  40   United-States          <=50K  \n",
       "1                  24   United-States          <=50K  \n",
       "2                   9   United-States          <=50K  \n",
       "3                  40   United-States          <=50K  \n",
       "4                  26   United-States          <=50K  \n",
       "...               ...             ...            ...  \n",
       "32556              40   United-States          <=50K  \n",
       "32557              15   United-States          <=50K  \n",
       "32558              40   United-States          <=50K  \n",
       "32559              40   United-States          <=50K  \n",
       "32560              10   United-States          <=50K  \n",
       "\n",
       "[32561 rows x 13 columns]"
      ]
     },
     "execution_count": 193,
     "metadata": {},
     "output_type": "execute_result"
    }
   ],
   "source": [
    "df"
   ]
  },
  {
   "cell_type": "markdown",
   "metadata": {},
   "source": [
    "# workclass"
   ]
  },
  {
   "cell_type": "code",
   "execution_count": 200,
   "metadata": {},
   "outputs": [
    {
     "data": {
      "text/plain": [
       " Private             24532\n",
       " Self-emp-not-inc     2541\n",
       " Local-gov            2093\n",
       " State-gov            1298\n",
       " Self-emp-inc         1116\n",
       " Federal-gov           960\n",
       " Without-pay            14\n",
       " Never-worked            7\n",
       "Name: workclass, dtype: int64"
      ]
     },
     "execution_count": 200,
     "metadata": {},
     "output_type": "execute_result"
    }
   ],
   "source": [
    "df.workclass.value_counts()"
   ]
  },
  {
   "cell_type": "code",
   "execution_count": 28,
   "metadata": {},
   "outputs": [
    {
     "data": {
      "text/plain": [
       "<matplotlib.axes._subplots.AxesSubplot at 0x116752950>"
      ]
     },
     "execution_count": 28,
     "metadata": {},
     "output_type": "execute_result"
    },
    {
     "data": {
      "image/png": "[encoded data removed]",
      "text/plain": [
       "<Figure size 432x288 with 1 Axes>"
      ]
     },
     "metadata": {
      "needs_background": "light"
     },
     "output_type": "display_data"
    }
   ],
   "source": [
    "# plot income per workclass\n",
    "\n",
    "pt = df[['workclass','income_bracket']].pivot_table(index='workclass', columns='income_bracket', \n",
    "                                              aggfunc=len, fill_value=0) \n",
    "\n",
    "pt.plot.bar()"
   ]
  },
  {
   "cell_type": "markdown",
   "metadata": {},
   "source": [
    "1783 observations with ? value. Rename to most common Privat"
   ]
  },
  {
   "cell_type": "code",
   "execution_count": 73,
   "metadata": {},
   "outputs": [],
   "source": [
    "\n",
    "# Rename all \"?\" to Privat\n",
    "df.loc[df['workclass'] == ' ?' , 'workclass'] = ' Private'"
   ]
  },
  {
   "cell_type": "markdown",
   "metadata": {},
   "source": [
    "Combine categories in government; without pay; self emploeyd\n",
    "\n"
   ]
  },
  {
   "cell_type": "code",
   "execution_count": 74,
   "metadata": {},
   "outputs": [],
   "source": [
    "# Combining categories\n",
    "df.loc[df['workclass'] == ' Never-worked' , 'workclass'] = ' Without-pay'\n",
    "\n",
    "df.loc[df['workclass'] == ' Federal-gov' , 'workclass'] = ' Gov'\n",
    "df.loc[df['workclass'] == ' State-gov' , 'workclass'] = ' Gov'\n",
    "df.loc[df['workclass'] == ' Local-gov' , 'workclass'] = ' Gov'\n",
    "\n",
    "df.loc[df['workclass'] == ' Self-emp-not-inc' , 'workclass'] = ' Self-emp-inc'\n",
    "\n"
   ]
  },
  {
   "cell_type": "code",
   "execution_count": 31,
   "metadata": {},
   "outputs": [
    {
     "data": {
      "text/plain": [
       " Private         24401\n",
       " Gov              4336\n",
       " Self-emp-inc     3608\n",
       " Without-pay        21\n",
       "Name: workclass, dtype: int64"
      ]
     },
     "execution_count": 31,
     "metadata": {},
     "output_type": "execute_result"
    }
   ],
   "source": [
    "df.workclass.value_counts()"
   ]
  },
  {
   "cell_type": "code",
   "execution_count": 75,
   "metadata": {},
   "outputs": [
    {
     "data": {
      "text/plain": [
       "<matplotlib.axes._subplots.AxesSubplot at 0x1a1a447590>"
      ]
     },
     "execution_count": 75,
     "metadata": {},
     "output_type": "execute_result"
    },
    {
     "data": {
      "image/png": "[encoded data removed]",
      "text/plain": [
       "<Figure size 432x288 with 1 Axes>"
      ]
     },
     "metadata": {
      "needs_background": "light"
     },
     "output_type": "display_data"
    }
   ],
   "source": [
    "# plot income per worclass\n",
    "\n",
    "pt = df[['workclass','income_bracket']].pivot_table(index='workclass', columns='income_bracket', \n",
    "                                              aggfunc=len, fill_value=0) \n",
    "\n",
    "pt.plot.bar()"
   ]
  },
  {
   "cell_type": "markdown",
   "metadata": {},
   "source": [
    "# occupation"
   ]
  },
  {
   "cell_type": "code",
   "execution_count": 214,
   "metadata": {},
   "outputs": [
    {
     "data": {
      "text/plain": [
       " Prof-specialty       4140\n",
       " Craft-repair         4099\n",
       " Exec-managerial      4066\n",
       " Adm-clerical         3770\n",
       " Sales                3650\n",
       " Other-service        3295\n",
       " Machine-op-inspct    2002\n",
       " ?                    1843\n",
       " Transport-moving     1597\n",
       " Handlers-cleaners    1370\n",
       " Farming-fishing       994\n",
       " Tech-support          928\n",
       " Protective-serv       649\n",
       " Priv-house-serv       149\n",
       " Armed-Forces            9\n",
       "Name: occupation, dtype: int64"
      ]
     },
     "execution_count": 214,
     "metadata": {},
     "output_type": "execute_result"
    }
   ],
   "source": [
    "df.occupation.value_counts()"
   ]
  },
  {
   "cell_type": "code",
   "execution_count": 32,
   "metadata": {},
   "outputs": [
    {
     "data": {
      "text/plain": [
       "<matplotlib.axes._subplots.AxesSubplot at 0x1a1c256a50>"
      ]
     },
     "execution_count": 32,
     "metadata": {},
     "output_type": "execute_result"
    },
    {
     "data": {
      "image/png": "[encoded data removed]",
      "text/plain": [
       "<Figure size 432x288 with 1 Axes>"
      ]
     },
     "metadata": {
      "needs_background": "light"
     },
     "output_type": "display_data"
    }
   ],
   "source": [
    "# plot income per category\n",
    "pt = df[['occupation','income_bracket']].pivot_table(index='occupation', columns='income_bracket', \n",
    "                                              aggfunc=len, fill_value=0) \n",
    "\n",
    "pt.plot.bar()"
   ]
  },
  {
   "cell_type": "markdown",
   "metadata": {},
   "source": [
    "? value replace by the most the same target distribution amoug top 5 categories"
   ]
  },
  {
   "cell_type": "code",
   "execution_count": 76,
   "metadata": {},
   "outputs": [],
   "source": [
    "df.loc[df['occupation'] == ' ?' , 'occupation'] = ' Adm-clerical'"
   ]
  },
  {
   "cell_type": "code",
   "execution_count": 77,
   "metadata": {},
   "outputs": [
    {
     "data": {
      "text/plain": [
       " Adm-clerical         5543\n",
       " Prof-specialty       4119\n",
       " Craft-repair         4091\n",
       " Exec-managerial      4035\n",
       " Sales                3631\n",
       " Other-service        3280\n",
       " Machine-op-inspct    1996\n",
       " Transport-moving     1594\n",
       " Handlers-cleaners    1367\n",
       " Farming-fishing       982\n",
       " Tech-support          928\n",
       " Protective-serv       647\n",
       " Priv-house-serv       144\n",
       " Armed-Forces            9\n",
       "Name: occupation, dtype: int64"
      ]
     },
     "execution_count": 77,
     "metadata": {},
     "output_type": "execute_result"
    }
   ],
   "source": [
    "df.occupation.value_counts()"
   ]
  },
  {
   "cell_type": "code",
   "execution_count": 78,
   "metadata": {},
   "outputs": [
    {
     "data": {
      "text/plain": [
       "<matplotlib.axes._subplots.AxesSubplot at 0x1a1bd28bd0>"
      ]
     },
     "execution_count": 78,
     "metadata": {},
     "output_type": "execute_result"
    },
    {
     "data": {
      "image/png": "[encoded data removed]",
      "text/plain": [
       "<Figure size 432x288 with 1 Axes>"
      ]
     },
     "metadata": {
      "needs_background": "light"
     },
     "output_type": "display_data"
    }
   ],
   "source": [
    "# plot income per category\n",
    "pt = df[['occupation','income_bracket']].pivot_table(index='occupation', columns='income_bracket', \n",
    "                                              aggfunc=len, fill_value=0) \n",
    "\n",
    "pt.plot.bar()"
   ]
  },
  {
   "cell_type": "markdown",
   "metadata": {},
   "source": [
    "### Simple Imputer"
   ]
  },
  {
   "cell_type": "code",
   "execution_count": null,
   "metadata": {},
   "outputs": [],
   "source": [
    "# from sklearn.impute import SimpleImputer\n",
    "# imp = SimpleImputer(missing_values='NaN', strategy='mean', axis=0)\n",
    "\n",
    "# imp.fit(X)\n",
    "# X = pd.DataFrame(data= imp.transform(X), columns=X.columns)"
   ]
  },
  {
   "cell_type": "markdown",
   "metadata": {},
   "source": [
    "# Country_name"
   ]
  },
  {
   "cell_type": "code",
   "execution_count": 219,
   "metadata": {},
   "outputs": [
    {
     "data": {
      "text/plain": [
       " United-States                 29170\n",
       " Mexico                          643\n",
       " ?                               583\n",
       " Philippines                     198\n",
       " Germany                         137\n",
       " Canada                          121\n",
       " Puerto-Rico                     114\n",
       " El-Salvador                     106\n",
       " India                           100\n",
       " Cuba                             95\n",
       " England                          90\n",
       " Jamaica                          81\n",
       " South                            80\n",
       " China                            75\n",
       " Italy                            73\n",
       " Dominican-Republic               70\n",
       " Vietnam                          67\n",
       " Guatemala                        64\n",
       " Japan                            62\n",
       " Poland                           60\n",
       " Columbia                         59\n",
       " Taiwan                           51\n",
       " Haiti                            44\n",
       " Iran                             43\n",
       " Portugal                         37\n",
       " Nicaragua                        34\n",
       " Peru                             31\n",
       " Greece                           29\n",
       " France                           29\n",
       " Ecuador                          28\n",
       " Ireland                          24\n",
       " Hong                             20\n",
       " Trinadad&Tobago                  19\n",
       " Cambodia                         19\n",
       " Laos                             18\n",
       " Thailand                         18\n",
       " Yugoslavia                       16\n",
       " Outlying-US(Guam-USVI-etc)       14\n",
       " Hungary                          13\n",
       " Honduras                         13\n",
       " Scotland                         12\n",
       " Holand-Netherlands                1\n",
       "Name: country_name, dtype: int64"
      ]
     },
     "execution_count": 219,
     "metadata": {},
     "output_type": "execute_result"
    }
   ],
   "source": [
    "df.country_name.value_counts()"
   ]
  },
  {
   "cell_type": "code",
   "execution_count": 221,
   "metadata": {},
   "outputs": [
    {
     "data": {
      "image/png": "[encoded data removed]",
      "text/plain": [
       "<Figure size 432x288 with 1 Axes>"
      ]
     },
     "metadata": {
      "needs_background": "light"
     },
     "output_type": "display_data"
    }
   ],
   "source": [
    "# Plot country name\n",
    "df.country_name.value_counts().plot(kind=\"bar\")\n",
    "plt.title(\"Country name categories distribution\")\n",
    "plt.ylabel(\"category values count\")\n",
    "plt.xlabel(\"categories\")\n",
    "plt.grid()\n",
    "plt.show()"
   ]
  },
  {
   "cell_type": "markdown",
   "metadata": {},
   "source": [
    "Separate to 2 group : US and other ( US - 29170 observations or 90% of total observations)"
   ]
  },
  {
   "cell_type": "code",
   "execution_count": 79,
   "metadata": {},
   "outputs": [],
   "source": [
    "df['country_name'] = [' United-States' if x ==' United-States' else 'Other' for x in df['country_name']]"
   ]
  },
  {
   "cell_type": "code",
   "execution_count": 36,
   "metadata": {},
   "outputs": [
    {
     "data": {
      "text/plain": [
       " United-States    28996\n",
       "Other              3370\n",
       "Name: country_name, dtype: int64"
      ]
     },
     "execution_count": 36,
     "metadata": {},
     "output_type": "execute_result"
    }
   ],
   "source": [
    "df.country_name.value_counts()"
   ]
  },
  {
   "cell_type": "code",
   "execution_count": 80,
   "metadata": {},
   "outputs": [
    {
     "data": {
      "image/png": "[encoded data removed]",
      "text/plain": [
       "<Figure size 432x288 with 1 Axes>"
      ]
     },
     "metadata": {
      "needs_background": "light"
     },
     "output_type": "display_data"
    }
   ],
   "source": [
    "# Plot country name\n",
    "df.country_name.value_counts().plot(kind=\"bar\")\n",
    "plt.title(\"Country name categories distribution\")\n",
    "plt.ylabel(\"category values count\")\n",
    "plt.xlabel(\"categories\")\n",
    "plt.grid()\n",
    "plt.show()"
   ]
  },
  {
   "cell_type": "markdown",
   "metadata": {},
   "source": [
    "# Plot all numerical features"
   ]
  },
  {
   "cell_type": "code",
   "execution_count": 297,
   "metadata": {},
   "outputs": [
    {
     "data": {
      "image/png": "[encoded data removed]",
      "text/plain": [
       "<Figure size 864x864 with 6 Axes>"
      ]
     },
     "metadata": {
      "needs_background": "light"
     },
     "output_type": "display_data"
    }
   ],
   "source": [
    "# Plot the category\n",
    "\n",
    "num_features = df.dtypes[df.dtypes != 'object']\n",
    "df[list(num_features.index)].hist(figsize = (12,12));"
   ]
  },
  {
   "cell_type": "markdown",
   "metadata": {},
   "source": [
    "# capital_gain and capital_loss analysis "
   ]
  },
  {
   "cell_type": "code",
   "execution_count": 224,
   "metadata": {},
   "outputs": [
    {
     "data": {
      "text/plain": [
       "0        29849\n",
       "15024      347\n",
       "7688       284\n",
       "7298       246\n",
       "99999      159\n",
       "         ...  \n",
       "4931         1\n",
       "1455         1\n",
       "6097         1\n",
       "22040        1\n",
       "1111         1\n",
       "Name: capital_gain, Length: 119, dtype: int64"
      ]
     },
     "execution_count": 224,
     "metadata": {},
     "output_type": "execute_result"
    }
   ],
   "source": [
    "df.capital_gain.value_counts()"
   ]
  },
  {
   "cell_type": "code",
   "execution_count": 240,
   "metadata": {},
   "outputs": [
    {
     "data": {
      "text/plain": [
       "0       31042\n",
       "1902      202\n",
       "1977      168\n",
       "1887      159\n",
       "1848       51\n",
       "        ...  \n",
       "1411        1\n",
       "1539        1\n",
       "2472        1\n",
       "1944        1\n",
       "2201        1\n",
       "Name: capital_loss, Length: 92, dtype: int64"
      ]
     },
     "execution_count": 240,
     "metadata": {},
     "output_type": "execute_result"
    }
   ],
   "source": [
    "df.capital_loss.value_counts()"
   ]
  },
  {
   "cell_type": "code",
   "execution_count": 268,
   "metadata": {},
   "outputs": [
    {
     "data": {
      "text/html": [
       "<div>\n",
       "<style scoped>\n",
       "    .dataframe tbody tr th:only-of-type {\n",
       "        vertical-align: middle;\n",
       "    }\n",
       "\n",
       "    .dataframe tbody tr th {\n",
       "        vertical-align: top;\n",
       "    }\n",
       "\n",
       "    .dataframe thead th {\n",
       "        text-align: right;\n",
       "    }\n",
       "</style>\n",
       "<table border=\"1\" class=\"dataframe\">\n",
       "  <thead>\n",
       "    <tr style=\"text-align: right;\">\n",
       "      <th></th>\n",
       "      <th>age</th>\n",
       "      <th>functional_weight</th>\n",
       "      <th>capital_gain</th>\n",
       "      <th>capital_loss</th>\n",
       "      <th>hours_per_week</th>\n",
       "    </tr>\n",
       "  </thead>\n",
       "  <tbody>\n",
       "    <tr>\n",
       "      <th>count</th>\n",
       "      <td>2553.000000</td>\n",
       "      <td>2553.000000</td>\n",
       "      <td>2553.000000</td>\n",
       "      <td>2553.0</td>\n",
       "      <td>2553.000000</td>\n",
       "    </tr>\n",
       "    <tr>\n",
       "      <th>mean</th>\n",
       "      <td>43.870349</td>\n",
       "      <td>-0.018970</td>\n",
       "      <td>7516.444575</td>\n",
       "      <td>0.0</td>\n",
       "      <td>43.118684</td>\n",
       "    </tr>\n",
       "    <tr>\n",
       "      <th>std</th>\n",
       "      <td>13.390214</td>\n",
       "      <td>0.980586</td>\n",
       "      <td>5581.898066</td>\n",
       "      <td>0.0</td>\n",
       "      <td>12.087051</td>\n",
       "    </tr>\n",
       "    <tr>\n",
       "      <th>min</th>\n",
       "      <td>17.000000</td>\n",
       "      <td>-1.615149</td>\n",
       "      <td>114.000000</td>\n",
       "      <td>0.0</td>\n",
       "      <td>1.000000</td>\n",
       "    </tr>\n",
       "    <tr>\n",
       "      <th>25%</th>\n",
       "      <td>34.000000</td>\n",
       "      <td>-0.682326</td>\n",
       "      <td>3325.000000</td>\n",
       "      <td>0.0</td>\n",
       "      <td>40.000000</td>\n",
       "    </tr>\n",
       "    <tr>\n",
       "      <th>50%</th>\n",
       "      <td>42.000000</td>\n",
       "      <td>-0.131081</td>\n",
       "      <td>6514.000000</td>\n",
       "      <td>0.0</td>\n",
       "      <td>40.000000</td>\n",
       "    </tr>\n",
       "    <tr>\n",
       "      <th>75%</th>\n",
       "      <td>52.000000</td>\n",
       "      <td>0.442050</td>\n",
       "      <td>8614.000000</td>\n",
       "      <td>0.0</td>\n",
       "      <td>50.000000</td>\n",
       "    </tr>\n",
       "    <tr>\n",
       "      <th>max</th>\n",
       "      <td>90.000000</td>\n",
       "      <td>7.991064</td>\n",
       "      <td>41310.000000</td>\n",
       "      <td>0.0</td>\n",
       "      <td>99.000000</td>\n",
       "    </tr>\n",
       "  </tbody>\n",
       "</table>\n",
       "</div>"
      ],
      "text/plain": [
       "               age  functional_weight  capital_gain  capital_loss  \\\n",
       "count  2553.000000        2553.000000   2553.000000        2553.0   \n",
       "mean     43.870349          -0.018970   7516.444575           0.0   \n",
       "std      13.390214           0.980586   5581.898066           0.0   \n",
       "min      17.000000          -1.615149    114.000000           0.0   \n",
       "25%      34.000000          -0.682326   3325.000000           0.0   \n",
       "50%      42.000000          -0.131081   6514.000000           0.0   \n",
       "75%      52.000000           0.442050   8614.000000           0.0   \n",
       "max      90.000000           7.991064  41310.000000           0.0   \n",
       "\n",
       "       hours_per_week  \n",
       "count     2553.000000  \n",
       "mean        43.118684  \n",
       "std         12.087051  \n",
       "min          1.000000  \n",
       "25%         40.000000  \n",
       "50%         40.000000  \n",
       "75%         50.000000  \n",
       "max         99.000000  "
      ]
     },
     "execution_count": 268,
     "metadata": {},
     "output_type": "execute_result"
    }
   ],
   "source": [
    "df.loc[df['capital_gain'] > 0,:].describe()"
   ]
  },
  {
   "cell_type": "code",
   "execution_count": 245,
   "metadata": {},
   "outputs": [
    {
     "data": {
      "text/plain": [
       "(0.9167101747489328, 0.9533490986149074)"
      ]
     },
     "execution_count": 245,
     "metadata": {},
     "output_type": "execute_result"
    }
   ],
   "source": [
    "29849/32561 , 31042/32561"
   ]
  },
  {
   "cell_type": "markdown",
   "metadata": {},
   "source": [
    "92% of gain and 95% of loss are 0 value. MAx gain - 99999, Max loss - 4356. Need more investigation "
   ]
  },
  {
   "cell_type": "markdown",
   "metadata": {},
   "source": []
  },
  {
   "cell_type": "markdown",
   "metadata": {},
   "source": [
    "Lets investigate gain and loos > 0 \n"
   ]
  },
  {
   "cell_type": "code",
   "execution_count": 247,
   "metadata": {},
   "outputs": [
    {
     "data": {
      "text/plain": [
       "((1519, 13), (2712, 13))"
      ]
     },
     "execution_count": 247,
     "metadata": {},
     "output_type": "execute_result"
    }
   ],
   "source": [
    "\n",
    "capital_loss_df = df[df['capital_loss']>0]\n",
    "capital_gain_df = df[df['capital_gain']>0]\n",
    "\n",
    "capital_loss_df.shape, capital_gain_df.shape\n"
   ]
  },
  {
   "cell_type": "markdown",
   "metadata": {},
   "source": [
    "1519 observagion with gain  0 and 2712 with loss > 0"
   ]
  },
  {
   "cell_type": "code",
   "execution_count": 250,
   "metadata": {},
   "outputs": [
    {
     "data": {
      "text/plain": [
       "(28330, 13)"
      ]
     },
     "execution_count": 250,
     "metadata": {},
     "output_type": "execute_result"
    }
   ],
   "source": [
    "\n",
    "# Number of observation where gain and loss both are zero:\n",
    "      \n",
    "df[(df['capital_loss'] == 0) & (df['capital_gain'] == 0)].shape"
   ]
  },
  {
   "cell_type": "code",
   "execution_count": 251,
   "metadata": {},
   "outputs": [
    {
     "data": {
      "text/plain": [
       "0.8700592733638401"
      ]
     },
     "execution_count": 251,
     "metadata": {},
     "output_type": "execute_result"
    }
   ],
   "source": [
    "28330/32561"
   ]
  },
  {
   "cell_type": "markdown",
   "metadata": {},
   "source": [
    "87% of observation where gain and loss both are zero"
   ]
  },
  {
   "cell_type": "code",
   "execution_count": 259,
   "metadata": {},
   "outputs": [
    {
     "data": {
      "text/plain": [
       "(159, 13)"
      ]
     },
     "execution_count": 259,
     "metadata": {},
     "output_type": "execute_result"
    }
   ],
   "source": [
    "# Number of observation with max gain 99999:\n",
    "df.loc[df['capital_gain'] == 99999].shape\n"
   ]
  },
  {
   "cell_type": "code",
   "execution_count": 260,
   "metadata": {},
   "outputs": [
    {
     "data": {
      "text/plain": [
       " >50K    159\n",
       "Name: income_bracket, dtype: int64"
      ]
     },
     "execution_count": 260,
     "metadata": {},
     "output_type": "execute_result"
    }
   ],
   "source": [
    "# Number of observation with max gain 99999 and target >=50K\n",
    "df.loc[df['capital_gain'] == 99999]['income_bracket'].value_counts()"
   ]
  },
  {
   "cell_type": "markdown",
   "metadata": {},
   "source": [
    "Income of the people with gain =  max 99999 is >= 50K, so they are outliers and should be excluded"
   ]
  },
  {
   "cell_type": "code",
   "execution_count": 81,
   "metadata": {},
   "outputs": [],
   "source": [
    "# Drop outliers ( 159 observation with gain = 99999)\n",
    "\n",
    "# df.drop(df[df['age'] > 76].index , inplace=True)\n",
    "df.drop(df[df['capital_gain'] == 99999].index, inplace=True)"
   ]
  },
  {
   "cell_type": "code",
   "execution_count": 39,
   "metadata": {},
   "outputs": [
    {
     "data": {
      "text/plain": [
       "(32208, 13)"
      ]
     },
     "execution_count": 39,
     "metadata": {},
     "output_type": "execute_result"
    }
   ],
   "source": [
    "df.shape"
   ]
  },
  {
   "cell_type": "code",
   "execution_count": 294,
   "metadata": {},
   "outputs": [
    {
     "data": {
      "text/html": [
       "<div>\n",
       "<style scoped>\n",
       "    .dataframe tbody tr th:only-of-type {\n",
       "        vertical-align: middle;\n",
       "    }\n",
       "\n",
       "    .dataframe tbody tr th {\n",
       "        vertical-align: top;\n",
       "    }\n",
       "\n",
       "    .dataframe thead th {\n",
       "        text-align: right;\n",
       "    }\n",
       "</style>\n",
       "<table border=\"1\" class=\"dataframe\">\n",
       "  <thead>\n",
       "    <tr style=\"text-align: right;\">\n",
       "      <th></th>\n",
       "      <th>age</th>\n",
       "      <th>functional_weight</th>\n",
       "      <th>capital_gain</th>\n",
       "      <th>capital_loss</th>\n",
       "      <th>hours_per_week</th>\n",
       "    </tr>\n",
       "  </thead>\n",
       "  <tbody>\n",
       "    <tr>\n",
       "      <th>count</th>\n",
       "      <td>1519.000000</td>\n",
       "      <td>1519.000000</td>\n",
       "      <td>1519.0</td>\n",
       "      <td>1519.000000</td>\n",
       "      <td>1519.000000</td>\n",
       "    </tr>\n",
       "    <tr>\n",
       "      <th>mean</th>\n",
       "      <td>41.697828</td>\n",
       "      <td>-0.040602</td>\n",
       "      <td>0.0</td>\n",
       "      <td>1871.428571</td>\n",
       "      <td>43.252798</td>\n",
       "    </tr>\n",
       "    <tr>\n",
       "      <th>std</th>\n",
       "      <td>12.625609</td>\n",
       "      <td>0.924899</td>\n",
       "      <td>0.0</td>\n",
       "      <td>376.571535</td>\n",
       "      <td>12.247258</td>\n",
       "    </tr>\n",
       "    <tr>\n",
       "      <th>min</th>\n",
       "      <td>17.000000</td>\n",
       "      <td>-1.599507</td>\n",
       "      <td>0.0</td>\n",
       "      <td>155.000000</td>\n",
       "      <td>1.000000</td>\n",
       "    </tr>\n",
       "    <tr>\n",
       "      <th>25%</th>\n",
       "      <td>32.000000</td>\n",
       "      <td>-0.671961</td>\n",
       "      <td>0.0</td>\n",
       "      <td>1672.000000</td>\n",
       "      <td>40.000000</td>\n",
       "    </tr>\n",
       "    <tr>\n",
       "      <th>50%</th>\n",
       "      <td>41.000000</td>\n",
       "      <td>-0.138982</td>\n",
       "      <td>0.0</td>\n",
       "      <td>1887.000000</td>\n",
       "      <td>40.000000</td>\n",
       "    </tr>\n",
       "    <tr>\n",
       "      <th>75%</th>\n",
       "      <td>50.000000</td>\n",
       "      <td>0.371518</td>\n",
       "      <td>0.0</td>\n",
       "      <td>1977.000000</td>\n",
       "      <td>50.000000</td>\n",
       "    </tr>\n",
       "    <tr>\n",
       "      <th>max</th>\n",
       "      <td>90.000000</td>\n",
       "      <td>5.940136</td>\n",
       "      <td>0.0</td>\n",
       "      <td>4356.000000</td>\n",
       "      <td>99.000000</td>\n",
       "    </tr>\n",
       "  </tbody>\n",
       "</table>\n",
       "</div>"
      ],
      "text/plain": [
       "               age  functional_weight  capital_gain  capital_loss  \\\n",
       "count  1519.000000        1519.000000        1519.0   1519.000000   \n",
       "mean     41.697828          -0.040602           0.0   1871.428571   \n",
       "std      12.625609           0.924899           0.0    376.571535   \n",
       "min      17.000000          -1.599507           0.0    155.000000   \n",
       "25%      32.000000          -0.671961           0.0   1672.000000   \n",
       "50%      41.000000          -0.138982           0.0   1887.000000   \n",
       "75%      50.000000           0.371518           0.0   1977.000000   \n",
       "max      90.000000           5.940136           0.0   4356.000000   \n",
       "\n",
       "       hours_per_week  \n",
       "count     1519.000000  \n",
       "mean        43.252798  \n",
       "std         12.247258  \n",
       "min          1.000000  \n",
       "25%         40.000000  \n",
       "50%         40.000000  \n",
       "75%         50.000000  \n",
       "max         99.000000  "
      ]
     },
     "execution_count": 294,
     "metadata": {},
     "output_type": "execute_result"
    }
   ],
   "source": [
    "df.loc[df['capital_loss'] > 0,:].describe()"
   ]
  },
  {
   "cell_type": "code",
   "execution_count": 295,
   "metadata": {},
   "outputs": [
    {
     "data": {
      "text/plain": [
       "age                  1519\n",
       "sex                  1519\n",
       "marital_status       1519\n",
       "relationship         1519\n",
       "functional_weight    1519\n",
       "education            1519\n",
       "workclass            1519\n",
       "occupation           1519\n",
       "capital_gain         1519\n",
       "capital_loss         1519\n",
       "hours_per_week       1519\n",
       "country_name         1519\n",
       "income_bracket       1519\n",
       "dtype: int64"
      ]
     },
     "execution_count": 295,
     "metadata": {},
     "output_type": "execute_result"
    }
   ],
   "source": [
    " df.loc[df['capital_loss'] > 0,:].count()"
   ]
  },
  {
   "cell_type": "markdown",
   "metadata": {},
   "source": [
    "1519 people have loss above 0. Max loss 4356, mean - 1871"
   ]
  },
  {
   "cell_type": "code",
   "execution_count": 82,
   "metadata": {},
   "outputs": [
    {
     "data": {
      "image/png": "[encoded data removed]",
      "text/plain": [
       "<Figure size 1872x576 with 1 Axes>"
      ]
     },
     "metadata": {
      "needs_background": "light"
     },
     "output_type": "display_data"
    }
   ],
   "source": [
    "# plot ctital loss per age \n",
    "\n",
    "fig = plt.figure(figsize = (26,8))\n",
    "sns.stripplot('age', 'capital_loss', data = df,\n",
    "         jitter = 0.2);\n",
    "plt.xlabel('Age',fontsize = 12);\n",
    "plt.ylabel('Capital Gain',fontsize = 12);\n"
   ]
  },
  {
   "cell_type": "code",
   "execution_count": 332,
   "metadata": {},
   "outputs": [
    {
     "data": {
      "text/plain": [
       "age                  9\n",
       "sex                  9\n",
       "marital_status       9\n",
       "relationship         9\n",
       "functional_weight    9\n",
       "education            9\n",
       "workclass            9\n",
       "occupation           9\n",
       "capital_gain         9\n",
       "capital_loss         9\n",
       "hours_per_week       9\n",
       "country_name         9\n",
       "income_bracket       9\n",
       "dtype: int64"
      ]
     },
     "execution_count": 332,
     "metadata": {},
     "output_type": "execute_result"
    }
   ],
   "source": [
    "df.loc[df['capital_loss'] > 3000,:].count()"
   ]
  },
  {
   "cell_type": "markdown",
   "metadata": {},
   "source": [
    "11 0bservation with capital loss > 3000 .8 with <=50K income, 3 with >50K. Will drop outliers"
   ]
  },
  {
   "cell_type": "code",
   "execution_count": 333,
   "metadata": {},
   "outputs": [
    {
     "data": {
      "text/plain": [
       " <=50K    6\n",
       " >50K     3\n",
       "Name: income_bracket, dtype: int64"
      ]
     },
     "execution_count": 333,
     "metadata": {},
     "output_type": "execute_result"
    }
   ],
   "source": [
    "df.loc[df['capital_loss'] > 3000,:]['income_bracket'].value_counts()"
   ]
  },
  {
   "cell_type": "code",
   "execution_count": 334,
   "metadata": {},
   "outputs": [],
   "source": [
    "df.drop(df[df['age'] > 76].index , inplace=True)"
   ]
  },
  {
   "cell_type": "code",
   "execution_count": 335,
   "metadata": {},
   "outputs": [
    {
     "data": {
      "text/plain": [
       "(32208, 13)"
      ]
     },
     "execution_count": 335,
     "metadata": {},
     "output_type": "execute_result"
    }
   ],
   "source": [
    "df.shape"
   ]
  },
  {
   "cell_type": "markdown",
   "metadata": {},
   "source": [
    "# hours_per_week"
   ]
  },
  {
   "cell_type": "code",
   "execution_count": 336,
   "metadata": {},
   "outputs": [
    {
     "data": {
      "text/plain": [
       "count    32208.000000\n",
       "mean        40.471808\n",
       "std         12.255721\n",
       "min          1.000000\n",
       "25%         40.000000\n",
       "50%         40.000000\n",
       "75%         45.000000\n",
       "max         99.000000\n",
       "Name: hours_per_week, dtype: float64"
      ]
     },
     "execution_count": 336,
     "metadata": {},
     "output_type": "execute_result"
    }
   ],
   "source": [
    "df.hours_per_week.describe()"
   ]
  },
  {
   "cell_type": "code",
   "execution_count": 41,
   "metadata": {},
   "outputs": [
    {
     "data": {
      "text/plain": [
       " <=50K    59\n",
       " >50K     25\n",
       "Name: income_bracket, dtype: int64"
      ]
     },
     "execution_count": 41,
     "metadata": {},
     "output_type": "execute_result"
    }
   ],
   "source": [
    "df.loc[df['hours_per_week'] ==99]['income_bracket'].value_counts()"
   ]
  },
  {
   "cell_type": "markdown",
   "metadata": {},
   "source": [
    "To keep values with max hours per week"
   ]
  },
  {
   "cell_type": "code",
   "execution_count": 343,
   "metadata": {},
   "outputs": [
    {
     "data": {
      "image/png": "[encoded data removed]",
      "text/plain": [
       "<Figure size 1872x576 with 1 Axes>"
      ]
     },
     "metadata": {
      "needs_background": "light"
     },
     "output_type": "display_data"
    }
   ],
   "source": [
    "# plot ctital loss per age \n",
    "\n",
    "fig = plt.figure(figsize = (26,8))\n",
    "sns.stripplot('hours_per_week', 'capital_gain', data = df,\n",
    "         jitter = 0.2);\n",
    "\n",
    "plt.title('Capital gain vs hours per week', fontsize=16)\n",
    "plt.xlabel('hours_per_week',fontsize = 12);\n",
    "plt.ylabel('capital_gain',fontsize = 12);\n"
   ]
  },
  {
   "cell_type": "markdown",
   "metadata": {},
   "source": [
    "Hours per week from 0 to 99. Mean 40. there are several outliers of capital gain > 3900 within people who work 20-50 hours per week"
   ]
  },
  {
   "cell_type": "code",
   "execution_count": null,
   "metadata": {},
   "outputs": [],
   "source": []
  },
  {
   "cell_type": "markdown",
   "metadata": {},
   "source": [
    "# Correlation"
   ]
  },
  {
   "cell_type": "code",
   "execution_count": 292,
   "metadata": {},
   "outputs": [
    {
     "data": {
      "text/plain": [
       "<matplotlib.axes._subplots.AxesSubplot at 0x1a23b5c9d0>"
      ]
     },
     "execution_count": 292,
     "metadata": {},
     "output_type": "execute_result"
    },
    {
     "data": {
      "image/png": "[encoded data removed]",
      "text/plain": [
       "<Figure size 864x432 with 2 Axes>"
      ]
     },
     "metadata": {
      "needs_background": "light"
     },
     "output_type": "display_data"
    }
   ],
   "source": [
    "\n",
    "fig = plt.figure(figsize = (12,6))\n",
    "\n",
    "sns.heatmap(df.corr(),annot = True,square = True)\n"
   ]
  },
  {
   "cell_type": "markdown",
   "metadata": {},
   "source": [
    "Strong correlation between gain and hours per week, age and hours per week , negative correlation weight and age"
   ]
  },
  {
   "cell_type": "markdown",
   "metadata": {},
   "source": [
    "# Function to dummy all categorial features "
   ]
  },
  {
   "cell_type": "code",
   "execution_count": 83,
   "metadata": {},
   "outputs": [
    {
     "data": {
      "text/plain": [
       "['sex',\n",
       " 'marital_status',\n",
       " 'relationship',\n",
       " 'education',\n",
       " 'workclass',\n",
       " 'occupation',\n",
       " 'country_name']"
      ]
     },
     "execution_count": 83,
     "metadata": {},
     "output_type": "execute_result"
    }
   ],
   "source": [
    "categorical_features"
   ]
  },
  {
   "cell_type": "code",
   "execution_count": 84,
   "metadata": {},
   "outputs": [],
   "source": [
    "def get_dummy (df, categorical_features):\n",
    "    for x in categorical_features:\n",
    "        dummies = pd.get_dummies(df[x], prefix=x, dummy_na=False)\n",
    "        df = df.drop(x, 1)\n",
    "        df = pd.concat([df, dummies], axis=1)\n",
    "    return df\n",
    "    "
   ]
  },
  {
   "cell_type": "code",
   "execution_count": 85,
   "metadata": {},
   "outputs": [],
   "source": [
    "df = get_dummy(df, categorical_features )"
   ]
  },
  {
   "cell_type": "code",
   "execution_count": 86,
   "metadata": {},
   "outputs": [
    {
     "data": {
      "text/html": [
       "<div>\n",
       "<style scoped>\n",
       "    .dataframe tbody tr th:only-of-type {\n",
       "        vertical-align: middle;\n",
       "    }\n",
       "\n",
       "    .dataframe tbody tr th {\n",
       "        vertical-align: top;\n",
       "    }\n",
       "\n",
       "    .dataframe thead th {\n",
       "        text-align: right;\n",
       "    }\n",
       "</style>\n",
       "<table border=\"1\" class=\"dataframe\">\n",
       "  <thead>\n",
       "    <tr style=\"text-align: right;\">\n",
       "      <th></th>\n",
       "      <th>age</th>\n",
       "      <th>functional_weight</th>\n",
       "      <th>capital_gain</th>\n",
       "      <th>capital_loss</th>\n",
       "      <th>hours_per_week</th>\n",
       "      <th>income_bracket</th>\n",
       "      <th>sex_ Female</th>\n",
       "      <th>sex_ Male</th>\n",
       "      <th>marital_status_ Divorced</th>\n",
       "      <th>marital_status_ Married-civ-spouse</th>\n",
       "      <th>...</th>\n",
       "      <th>occupation_ Machine-op-inspct</th>\n",
       "      <th>occupation_ Other-service</th>\n",
       "      <th>occupation_ Priv-house-serv</th>\n",
       "      <th>occupation_ Prof-specialty</th>\n",
       "      <th>occupation_ Protective-serv</th>\n",
       "      <th>occupation_ Sales</th>\n",
       "      <th>occupation_ Tech-support</th>\n",
       "      <th>occupation_ Transport-moving</th>\n",
       "      <th>country_name_ United-States</th>\n",
       "      <th>country_name_Other</th>\n",
       "    </tr>\n",
       "  </thead>\n",
       "  <tbody>\n",
       "    <tr>\n",
       "      <th>0</th>\n",
       "      <td>17</td>\n",
       "      <td>221129</td>\n",
       "      <td>0</td>\n",
       "      <td>0</td>\n",
       "      <td>40</td>\n",
       "      <td>&lt;=50K</td>\n",
       "      <td>0</td>\n",
       "      <td>1</td>\n",
       "      <td>0</td>\n",
       "      <td>1</td>\n",
       "      <td>...</td>\n",
       "      <td>0</td>\n",
       "      <td>1</td>\n",
       "      <td>0</td>\n",
       "      <td>0</td>\n",
       "      <td>0</td>\n",
       "      <td>0</td>\n",
       "      <td>0</td>\n",
       "      <td>0</td>\n",
       "      <td>1</td>\n",
       "      <td>0</td>\n",
       "    </tr>\n",
       "    <tr>\n",
       "      <th>1</th>\n",
       "      <td>17</td>\n",
       "      <td>191260</td>\n",
       "      <td>1055</td>\n",
       "      <td>0</td>\n",
       "      <td>24</td>\n",
       "      <td>&lt;=50K</td>\n",
       "      <td>0</td>\n",
       "      <td>1</td>\n",
       "      <td>0</td>\n",
       "      <td>0</td>\n",
       "      <td>...</td>\n",
       "      <td>0</td>\n",
       "      <td>1</td>\n",
       "      <td>0</td>\n",
       "      <td>0</td>\n",
       "      <td>0</td>\n",
       "      <td>0</td>\n",
       "      <td>0</td>\n",
       "      <td>0</td>\n",
       "      <td>1</td>\n",
       "      <td>0</td>\n",
       "    </tr>\n",
       "    <tr>\n",
       "      <th>2</th>\n",
       "      <td>17</td>\n",
       "      <td>32124</td>\n",
       "      <td>0</td>\n",
       "      <td>0</td>\n",
       "      <td>9</td>\n",
       "      <td>&lt;=50K</td>\n",
       "      <td>0</td>\n",
       "      <td>1</td>\n",
       "      <td>0</td>\n",
       "      <td>0</td>\n",
       "      <td>...</td>\n",
       "      <td>0</td>\n",
       "      <td>1</td>\n",
       "      <td>0</td>\n",
       "      <td>0</td>\n",
       "      <td>0</td>\n",
       "      <td>0</td>\n",
       "      <td>0</td>\n",
       "      <td>0</td>\n",
       "      <td>1</td>\n",
       "      <td>0</td>\n",
       "    </tr>\n",
       "    <tr>\n",
       "      <th>3</th>\n",
       "      <td>17</td>\n",
       "      <td>127003</td>\n",
       "      <td>0</td>\n",
       "      <td>0</td>\n",
       "      <td>40</td>\n",
       "      <td>&lt;=50K</td>\n",
       "      <td>0</td>\n",
       "      <td>1</td>\n",
       "      <td>0</td>\n",
       "      <td>0</td>\n",
       "      <td>...</td>\n",
       "      <td>0</td>\n",
       "      <td>0</td>\n",
       "      <td>0</td>\n",
       "      <td>0</td>\n",
       "      <td>0</td>\n",
       "      <td>0</td>\n",
       "      <td>0</td>\n",
       "      <td>0</td>\n",
       "      <td>1</td>\n",
       "      <td>0</td>\n",
       "    </tr>\n",
       "    <tr>\n",
       "      <th>4</th>\n",
       "      <td>17</td>\n",
       "      <td>133449</td>\n",
       "      <td>0</td>\n",
       "      <td>0</td>\n",
       "      <td>26</td>\n",
       "      <td>&lt;=50K</td>\n",
       "      <td>0</td>\n",
       "      <td>1</td>\n",
       "      <td>0</td>\n",
       "      <td>0</td>\n",
       "      <td>...</td>\n",
       "      <td>0</td>\n",
       "      <td>1</td>\n",
       "      <td>0</td>\n",
       "      <td>0</td>\n",
       "      <td>0</td>\n",
       "      <td>0</td>\n",
       "      <td>0</td>\n",
       "      <td>0</td>\n",
       "      <td>1</td>\n",
       "      <td>0</td>\n",
       "    </tr>\n",
       "    <tr>\n",
       "      <th>...</th>\n",
       "      <td>...</td>\n",
       "      <td>...</td>\n",
       "      <td>...</td>\n",
       "      <td>...</td>\n",
       "      <td>...</td>\n",
       "      <td>...</td>\n",
       "      <td>...</td>\n",
       "      <td>...</td>\n",
       "      <td>...</td>\n",
       "      <td>...</td>\n",
       "      <td>...</td>\n",
       "      <td>...</td>\n",
       "      <td>...</td>\n",
       "      <td>...</td>\n",
       "      <td>...</td>\n",
       "      <td>...</td>\n",
       "      <td>...</td>\n",
       "      <td>...</td>\n",
       "      <td>...</td>\n",
       "      <td>...</td>\n",
       "      <td>...</td>\n",
       "    </tr>\n",
       "    <tr>\n",
       "      <th>32497</th>\n",
       "      <td>76</td>\n",
       "      <td>25319</td>\n",
       "      <td>0</td>\n",
       "      <td>0</td>\n",
       "      <td>15</td>\n",
       "      <td>&lt;=50K</td>\n",
       "      <td>1</td>\n",
       "      <td>0</td>\n",
       "      <td>0</td>\n",
       "      <td>0</td>\n",
       "      <td>...</td>\n",
       "      <td>0</td>\n",
       "      <td>0</td>\n",
       "      <td>0</td>\n",
       "      <td>1</td>\n",
       "      <td>0</td>\n",
       "      <td>0</td>\n",
       "      <td>0</td>\n",
       "      <td>0</td>\n",
       "      <td>1</td>\n",
       "      <td>0</td>\n",
       "    </tr>\n",
       "    <tr>\n",
       "      <th>32498</th>\n",
       "      <td>76</td>\n",
       "      <td>278938</td>\n",
       "      <td>0</td>\n",
       "      <td>0</td>\n",
       "      <td>20</td>\n",
       "      <td>&lt;=50K</td>\n",
       "      <td>1</td>\n",
       "      <td>0</td>\n",
       "      <td>0</td>\n",
       "      <td>0</td>\n",
       "      <td>...</td>\n",
       "      <td>0</td>\n",
       "      <td>0</td>\n",
       "      <td>0</td>\n",
       "      <td>1</td>\n",
       "      <td>0</td>\n",
       "      <td>0</td>\n",
       "      <td>0</td>\n",
       "      <td>0</td>\n",
       "      <td>1</td>\n",
       "      <td>0</td>\n",
       "    </tr>\n",
       "    <tr>\n",
       "      <th>32499</th>\n",
       "      <td>76</td>\n",
       "      <td>98695</td>\n",
       "      <td>0</td>\n",
       "      <td>0</td>\n",
       "      <td>20</td>\n",
       "      <td>&lt;=50K</td>\n",
       "      <td>1</td>\n",
       "      <td>0</td>\n",
       "      <td>1</td>\n",
       "      <td>0</td>\n",
       "      <td>...</td>\n",
       "      <td>0</td>\n",
       "      <td>0</td>\n",
       "      <td>0</td>\n",
       "      <td>0</td>\n",
       "      <td>0</td>\n",
       "      <td>0</td>\n",
       "      <td>0</td>\n",
       "      <td>0</td>\n",
       "      <td>1</td>\n",
       "      <td>0</td>\n",
       "    </tr>\n",
       "    <tr>\n",
       "      <th>32500</th>\n",
       "      <td>76</td>\n",
       "      <td>169133</td>\n",
       "      <td>0</td>\n",
       "      <td>0</td>\n",
       "      <td>30</td>\n",
       "      <td>&lt;=50K</td>\n",
       "      <td>1</td>\n",
       "      <td>0</td>\n",
       "      <td>0</td>\n",
       "      <td>0</td>\n",
       "      <td>...</td>\n",
       "      <td>0</td>\n",
       "      <td>0</td>\n",
       "      <td>0</td>\n",
       "      <td>0</td>\n",
       "      <td>0</td>\n",
       "      <td>0</td>\n",
       "      <td>0</td>\n",
       "      <td>0</td>\n",
       "      <td>1</td>\n",
       "      <td>0</td>\n",
       "    </tr>\n",
       "    <tr>\n",
       "      <th>32501</th>\n",
       "      <td>76</td>\n",
       "      <td>201986</td>\n",
       "      <td>0</td>\n",
       "      <td>0</td>\n",
       "      <td>16</td>\n",
       "      <td>&lt;=50K</td>\n",
       "      <td>1</td>\n",
       "      <td>0</td>\n",
       "      <td>0</td>\n",
       "      <td>0</td>\n",
       "      <td>...</td>\n",
       "      <td>0</td>\n",
       "      <td>0</td>\n",
       "      <td>0</td>\n",
       "      <td>0</td>\n",
       "      <td>0</td>\n",
       "      <td>0</td>\n",
       "      <td>0</td>\n",
       "      <td>0</td>\n",
       "      <td>1</td>\n",
       "      <td>0</td>\n",
       "    </tr>\n",
       "  </tbody>\n",
       "</table>\n",
       "<p>32208 rows × 41 columns</p>\n",
       "</div>"
      ],
      "text/plain": [
       "       age  functional_weight  capital_gain  capital_loss  hours_per_week  \\\n",
       "0       17             221129             0             0              40   \n",
       "1       17             191260          1055             0              24   \n",
       "2       17              32124             0             0               9   \n",
       "3       17             127003             0             0              40   \n",
       "4       17             133449             0             0              26   \n",
       "...    ...                ...           ...           ...             ...   \n",
       "32497   76              25319             0             0              15   \n",
       "32498   76             278938             0             0              20   \n",
       "32499   76              98695             0             0              20   \n",
       "32500   76             169133             0             0              30   \n",
       "32501   76             201986             0             0              16   \n",
       "\n",
       "      income_bracket  sex_ Female  sex_ Male  marital_status_ Divorced  \\\n",
       "0              <=50K            0          1                         0   \n",
       "1              <=50K            0          1                         0   \n",
       "2              <=50K            0          1                         0   \n",
       "3              <=50K            0          1                         0   \n",
       "4              <=50K            0          1                         0   \n",
       "...              ...          ...        ...                       ...   \n",
       "32497          <=50K            1          0                         0   \n",
       "32498          <=50K            1          0                         0   \n",
       "32499          <=50K            1          0                         1   \n",
       "32500          <=50K            1          0                         0   \n",
       "32501          <=50K            1          0                         0   \n",
       "\n",
       "       marital_status_ Married-civ-spouse  ...  occupation_ Machine-op-inspct  \\\n",
       "0                                       1  ...                              0   \n",
       "1                                       0  ...                              0   \n",
       "2                                       0  ...                              0   \n",
       "3                                       0  ...                              0   \n",
       "4                                       0  ...                              0   \n",
       "...                                   ...  ...                            ...   \n",
       "32497                                   0  ...                              0   \n",
       "32498                                   0  ...                              0   \n",
       "32499                                   0  ...                              0   \n",
       "32500                                   0  ...                              0   \n",
       "32501                                   0  ...                              0   \n",
       "\n",
       "       occupation_ Other-service  occupation_ Priv-house-serv  \\\n",
       "0                              1                            0   \n",
       "1                              1                            0   \n",
       "2                              1                            0   \n",
       "3                              0                            0   \n",
       "4                              1                            0   \n",
       "...                          ...                          ...   \n",
       "32497                          0                            0   \n",
       "32498                          0                            0   \n",
       "32499                          0                            0   \n",
       "32500                          0                            0   \n",
       "32501                          0                            0   \n",
       "\n",
       "       occupation_ Prof-specialty  occupation_ Protective-serv  \\\n",
       "0                               0                            0   \n",
       "1                               0                            0   \n",
       "2                               0                            0   \n",
       "3                               0                            0   \n",
       "4                               0                            0   \n",
       "...                           ...                          ...   \n",
       "32497                           1                            0   \n",
       "32498                           1                            0   \n",
       "32499                           0                            0   \n",
       "32500                           0                            0   \n",
       "32501                           0                            0   \n",
       "\n",
       "       occupation_ Sales  occupation_ Tech-support  \\\n",
       "0                      0                         0   \n",
       "1                      0                         0   \n",
       "2                      0                         0   \n",
       "3                      0                         0   \n",
       "4                      0                         0   \n",
       "...                  ...                       ...   \n",
       "32497                  0                         0   \n",
       "32498                  0                         0   \n",
       "32499                  0                         0   \n",
       "32500                  0                         0   \n",
       "32501                  0                         0   \n",
       "\n",
       "       occupation_ Transport-moving  country_name_ United-States  \\\n",
       "0                                 0                            1   \n",
       "1                                 0                            1   \n",
       "2                                 0                            1   \n",
       "3                                 0                            1   \n",
       "4                                 0                            1   \n",
       "...                             ...                          ...   \n",
       "32497                             0                            1   \n",
       "32498                             0                            1   \n",
       "32499                             0                            1   \n",
       "32500                             0                            1   \n",
       "32501                             0                            1   \n",
       "\n",
       "       country_name_Other  \n",
       "0                       0  \n",
       "1                       0  \n",
       "2                       0  \n",
       "3                       0  \n",
       "4                       0  \n",
       "...                   ...  \n",
       "32497                   0  \n",
       "32498                   0  \n",
       "32499                   0  \n",
       "32500                   0  \n",
       "32501                   0  \n",
       "\n",
       "[32208 rows x 41 columns]"
      ]
     },
     "execution_count": 86,
     "metadata": {},
     "output_type": "execute_result"
    }
   ],
   "source": [
    "df"
   ]
  },
  {
   "cell_type": "markdown",
   "metadata": {},
   "source": [
    "# Standart Scaller "
   ]
  },
  {
   "cell_type": "code",
   "execution_count": 94,
   "metadata": {},
   "outputs": [],
   "source": [
    "# apply standartization on the data\n",
    "# from sklearn.preprocessing import StandardScaler\n",
    "\n",
    "col_to_scale = ['age', 'capital_gain', 'capital_loss', 'hours_per_week' ]\n",
    "\n",
    "scaler = StandardScaler()\n",
    "\n",
    "df.age = scaler.fit_transform(df.age.values.reshape(-1, 1))\n",
    "\n",
    "df.capital_gain = scaler.fit_transform(df.capital_gain.values.reshape(-1, 1))\n",
    "df.capital_loss = scaler.fit_transform(df.capital_loss.values.reshape(-1, 1))\n",
    "df.hours_per_week = scaler.fit_transform(df.hours_per_week.values.reshape(-1, 1))\n",
    "df.functional_weight = scaler.fit_transform(df.functional_weight.values.reshape(-1, 1))\n",
    "\n",
    "\n"
   ]
  },
  {
   "cell_type": "code",
   "execution_count": 88,
   "metadata": {},
   "outputs": [
    {
     "data": {
      "text/plain": [
       " <=50K    24560\n",
       " >50K      7648\n",
       "Name: income_bracket, dtype: int64"
      ]
     },
     "execution_count": 88,
     "metadata": {},
     "output_type": "execute_result"
    }
   ],
   "source": [
    "df.income_bracket.value_counts()"
   ]
  },
  {
   "cell_type": "markdown",
   "metadata": {},
   "source": [
    "# Target  Encoding"
   ]
  },
  {
   "cell_type": "code",
   "execution_count": 89,
   "metadata": {},
   "outputs": [],
   "source": [
    "# Assign to target 0 if <=50K and 1 if > 50K\n",
    "\n",
    "df['income_bracket'] = [0 if x == ' <=50K' else 1 for x in df['income_bracket']]\n",
    "\n",
    "# X = df.drop('income_bracket', 1)\n",
    "# y = df.income_bracket"
   ]
  },
  {
   "cell_type": "code",
   "execution_count": 96,
   "metadata": {},
   "outputs": [
    {
     "data": {
      "text/plain": [
       "0    24560\n",
       "1     7648\n",
       "Name: income_bracket, dtype: int64"
      ]
     },
     "execution_count": 96,
     "metadata": {},
     "output_type": "execute_result"
    }
   ],
   "source": [
    "df.income_bracket.value_counts()"
   ]
  },
  {
   "cell_type": "code",
   "execution_count": 95,
   "metadata": {},
   "outputs": [
    {
     "data": {
      "text/html": [
       "<div>\n",
       "<style scoped>\n",
       "    .dataframe tbody tr th:only-of-type {\n",
       "        vertical-align: middle;\n",
       "    }\n",
       "\n",
       "    .dataframe tbody tr th {\n",
       "        vertical-align: top;\n",
       "    }\n",
       "\n",
       "    .dataframe thead th {\n",
       "        text-align: right;\n",
       "    }\n",
       "</style>\n",
       "<table border=\"1\" class=\"dataframe\">\n",
       "  <thead>\n",
       "    <tr style=\"text-align: right;\">\n",
       "      <th></th>\n",
       "      <th>age</th>\n",
       "      <th>functional_weight</th>\n",
       "      <th>capital_gain</th>\n",
       "      <th>capital_loss</th>\n",
       "      <th>hours_per_week</th>\n",
       "      <th>income_bracket</th>\n",
       "      <th>sex_ Female</th>\n",
       "      <th>sex_ Male</th>\n",
       "      <th>marital_status_ Divorced</th>\n",
       "      <th>marital_status_ Married-civ-spouse</th>\n",
       "      <th>...</th>\n",
       "      <th>occupation_ Machine-op-inspct</th>\n",
       "      <th>occupation_ Other-service</th>\n",
       "      <th>occupation_ Priv-house-serv</th>\n",
       "      <th>occupation_ Prof-specialty</th>\n",
       "      <th>occupation_ Protective-serv</th>\n",
       "      <th>occupation_ Sales</th>\n",
       "      <th>occupation_ Tech-support</th>\n",
       "      <th>occupation_ Transport-moving</th>\n",
       "      <th>country_name_ United-States</th>\n",
       "      <th>country_name_Other</th>\n",
       "    </tr>\n",
       "  </thead>\n",
       "  <tbody>\n",
       "    <tr>\n",
       "      <th>0</th>\n",
       "      <td>-1.606277</td>\n",
       "      <td>0.295164</td>\n",
       "      <td>-0.230925</td>\n",
       "      <td>-0.217452</td>\n",
       "      <td>-0.038498</td>\n",
       "      <td>0</td>\n",
       "      <td>0</td>\n",
       "      <td>1</td>\n",
       "      <td>0</td>\n",
       "      <td>1</td>\n",
       "      <td>...</td>\n",
       "      <td>0</td>\n",
       "      <td>1</td>\n",
       "      <td>0</td>\n",
       "      <td>0</td>\n",
       "      <td>0</td>\n",
       "      <td>0</td>\n",
       "      <td>0</td>\n",
       "      <td>0</td>\n",
       "      <td>1</td>\n",
       "      <td>0</td>\n",
       "    </tr>\n",
       "    <tr>\n",
       "      <th>1</th>\n",
       "      <td>-1.606277</td>\n",
       "      <td>0.012452</td>\n",
       "      <td>0.183088</td>\n",
       "      <td>-0.217452</td>\n",
       "      <td>-1.344031</td>\n",
       "      <td>0</td>\n",
       "      <td>0</td>\n",
       "      <td>1</td>\n",
       "      <td>0</td>\n",
       "      <td>0</td>\n",
       "      <td>...</td>\n",
       "      <td>0</td>\n",
       "      <td>1</td>\n",
       "      <td>0</td>\n",
       "      <td>0</td>\n",
       "      <td>0</td>\n",
       "      <td>0</td>\n",
       "      <td>0</td>\n",
       "      <td>0</td>\n",
       "      <td>1</td>\n",
       "      <td>0</td>\n",
       "    </tr>\n",
       "    <tr>\n",
       "      <th>2</th>\n",
       "      <td>-1.606277</td>\n",
       "      <td>-1.493783</td>\n",
       "      <td>-0.230925</td>\n",
       "      <td>-0.217452</td>\n",
       "      <td>-2.567968</td>\n",
       "      <td>0</td>\n",
       "      <td>0</td>\n",
       "      <td>1</td>\n",
       "      <td>0</td>\n",
       "      <td>0</td>\n",
       "      <td>...</td>\n",
       "      <td>0</td>\n",
       "      <td>1</td>\n",
       "      <td>0</td>\n",
       "      <td>0</td>\n",
       "      <td>0</td>\n",
       "      <td>0</td>\n",
       "      <td>0</td>\n",
       "      <td>0</td>\n",
       "      <td>1</td>\n",
       "      <td>0</td>\n",
       "    </tr>\n",
       "    <tr>\n",
       "      <th>3</th>\n",
       "      <td>-1.606277</td>\n",
       "      <td>-0.595746</td>\n",
       "      <td>-0.230925</td>\n",
       "      <td>-0.217452</td>\n",
       "      <td>-0.038498</td>\n",
       "      <td>0</td>\n",
       "      <td>0</td>\n",
       "      <td>1</td>\n",
       "      <td>0</td>\n",
       "      <td>0</td>\n",
       "      <td>...</td>\n",
       "      <td>0</td>\n",
       "      <td>0</td>\n",
       "      <td>0</td>\n",
       "      <td>0</td>\n",
       "      <td>0</td>\n",
       "      <td>0</td>\n",
       "      <td>0</td>\n",
       "      <td>0</td>\n",
       "      <td>1</td>\n",
       "      <td>0</td>\n",
       "    </tr>\n",
       "    <tr>\n",
       "      <th>4</th>\n",
       "      <td>-1.606277</td>\n",
       "      <td>-0.534734</td>\n",
       "      <td>-0.230925</td>\n",
       "      <td>-0.217452</td>\n",
       "      <td>-1.180839</td>\n",
       "      <td>0</td>\n",
       "      <td>0</td>\n",
       "      <td>1</td>\n",
       "      <td>0</td>\n",
       "      <td>0</td>\n",
       "      <td>...</td>\n",
       "      <td>0</td>\n",
       "      <td>1</td>\n",
       "      <td>0</td>\n",
       "      <td>0</td>\n",
       "      <td>0</td>\n",
       "      <td>0</td>\n",
       "      <td>0</td>\n",
       "      <td>0</td>\n",
       "      <td>1</td>\n",
       "      <td>0</td>\n",
       "    </tr>\n",
       "    <tr>\n",
       "      <th>...</th>\n",
       "      <td>...</td>\n",
       "      <td>...</td>\n",
       "      <td>...</td>\n",
       "      <td>...</td>\n",
       "      <td>...</td>\n",
       "      <td>...</td>\n",
       "      <td>...</td>\n",
       "      <td>...</td>\n",
       "      <td>...</td>\n",
       "      <td>...</td>\n",
       "      <td>...</td>\n",
       "      <td>...</td>\n",
       "      <td>...</td>\n",
       "      <td>...</td>\n",
       "      <td>...</td>\n",
       "      <td>...</td>\n",
       "      <td>...</td>\n",
       "      <td>...</td>\n",
       "      <td>...</td>\n",
       "      <td>...</td>\n",
       "      <td>...</td>\n",
       "    </tr>\n",
       "    <tr>\n",
       "      <th>32497</th>\n",
       "      <td>2.847134</td>\n",
       "      <td>-1.558193</td>\n",
       "      <td>-0.230925</td>\n",
       "      <td>-0.217452</td>\n",
       "      <td>-2.078393</td>\n",
       "      <td>0</td>\n",
       "      <td>1</td>\n",
       "      <td>0</td>\n",
       "      <td>0</td>\n",
       "      <td>0</td>\n",
       "      <td>...</td>\n",
       "      <td>0</td>\n",
       "      <td>0</td>\n",
       "      <td>0</td>\n",
       "      <td>1</td>\n",
       "      <td>0</td>\n",
       "      <td>0</td>\n",
       "      <td>0</td>\n",
       "      <td>0</td>\n",
       "      <td>1</td>\n",
       "      <td>0</td>\n",
       "    </tr>\n",
       "    <tr>\n",
       "      <th>32498</th>\n",
       "      <td>2.847134</td>\n",
       "      <td>0.842331</td>\n",
       "      <td>-0.230925</td>\n",
       "      <td>-0.217452</td>\n",
       "      <td>-1.670414</td>\n",
       "      <td>0</td>\n",
       "      <td>1</td>\n",
       "      <td>0</td>\n",
       "      <td>0</td>\n",
       "      <td>0</td>\n",
       "      <td>...</td>\n",
       "      <td>0</td>\n",
       "      <td>0</td>\n",
       "      <td>0</td>\n",
       "      <td>1</td>\n",
       "      <td>0</td>\n",
       "      <td>0</td>\n",
       "      <td>0</td>\n",
       "      <td>0</td>\n",
       "      <td>1</td>\n",
       "      <td>0</td>\n",
       "    </tr>\n",
       "    <tr>\n",
       "      <th>32499</th>\n",
       "      <td>2.847134</td>\n",
       "      <td>-0.863683</td>\n",
       "      <td>-0.230925</td>\n",
       "      <td>-0.217452</td>\n",
       "      <td>-1.670414</td>\n",
       "      <td>0</td>\n",
       "      <td>1</td>\n",
       "      <td>0</td>\n",
       "      <td>1</td>\n",
       "      <td>0</td>\n",
       "      <td>...</td>\n",
       "      <td>0</td>\n",
       "      <td>0</td>\n",
       "      <td>0</td>\n",
       "      <td>0</td>\n",
       "      <td>0</td>\n",
       "      <td>0</td>\n",
       "      <td>0</td>\n",
       "      <td>0</td>\n",
       "      <td>1</td>\n",
       "      <td>0</td>\n",
       "    </tr>\n",
       "    <tr>\n",
       "      <th>32500</th>\n",
       "      <td>2.847134</td>\n",
       "      <td>-0.196982</td>\n",
       "      <td>-0.230925</td>\n",
       "      <td>-0.217452</td>\n",
       "      <td>-0.854456</td>\n",
       "      <td>0</td>\n",
       "      <td>1</td>\n",
       "      <td>0</td>\n",
       "      <td>0</td>\n",
       "      <td>0</td>\n",
       "      <td>...</td>\n",
       "      <td>0</td>\n",
       "      <td>0</td>\n",
       "      <td>0</td>\n",
       "      <td>0</td>\n",
       "      <td>0</td>\n",
       "      <td>0</td>\n",
       "      <td>0</td>\n",
       "      <td>0</td>\n",
       "      <td>1</td>\n",
       "      <td>0</td>\n",
       "    </tr>\n",
       "    <tr>\n",
       "      <th>32501</th>\n",
       "      <td>2.847134</td>\n",
       "      <td>0.113974</td>\n",
       "      <td>-0.230925</td>\n",
       "      <td>-0.217452</td>\n",
       "      <td>-1.996797</td>\n",
       "      <td>0</td>\n",
       "      <td>1</td>\n",
       "      <td>0</td>\n",
       "      <td>0</td>\n",
       "      <td>0</td>\n",
       "      <td>...</td>\n",
       "      <td>0</td>\n",
       "      <td>0</td>\n",
       "      <td>0</td>\n",
       "      <td>0</td>\n",
       "      <td>0</td>\n",
       "      <td>0</td>\n",
       "      <td>0</td>\n",
       "      <td>0</td>\n",
       "      <td>1</td>\n",
       "      <td>0</td>\n",
       "    </tr>\n",
       "  </tbody>\n",
       "</table>\n",
       "<p>32208 rows × 41 columns</p>\n",
       "</div>"
      ],
      "text/plain": [
       "            age  functional_weight  capital_gain  capital_loss  \\\n",
       "0     -1.606277           0.295164     -0.230925     -0.217452   \n",
       "1     -1.606277           0.012452      0.183088     -0.217452   \n",
       "2     -1.606277          -1.493783     -0.230925     -0.217452   \n",
       "3     -1.606277          -0.595746     -0.230925     -0.217452   \n",
       "4     -1.606277          -0.534734     -0.230925     -0.217452   \n",
       "...         ...                ...           ...           ...   \n",
       "32497  2.847134          -1.558193     -0.230925     -0.217452   \n",
       "32498  2.847134           0.842331     -0.230925     -0.217452   \n",
       "32499  2.847134          -0.863683     -0.230925     -0.217452   \n",
       "32500  2.847134          -0.196982     -0.230925     -0.217452   \n",
       "32501  2.847134           0.113974     -0.230925     -0.217452   \n",
       "\n",
       "       hours_per_week  income_bracket  sex_ Female  sex_ Male  \\\n",
       "0           -0.038498               0            0          1   \n",
       "1           -1.344031               0            0          1   \n",
       "2           -2.567968               0            0          1   \n",
       "3           -0.038498               0            0          1   \n",
       "4           -1.180839               0            0          1   \n",
       "...               ...             ...          ...        ...   \n",
       "32497       -2.078393               0            1          0   \n",
       "32498       -1.670414               0            1          0   \n",
       "32499       -1.670414               0            1          0   \n",
       "32500       -0.854456               0            1          0   \n",
       "32501       -1.996797               0            1          0   \n",
       "\n",
       "       marital_status_ Divorced  marital_status_ Married-civ-spouse  ...  \\\n",
       "0                             0                                   1  ...   \n",
       "1                             0                                   0  ...   \n",
       "2                             0                                   0  ...   \n",
       "3                             0                                   0  ...   \n",
       "4                             0                                   0  ...   \n",
       "...                         ...                                 ...  ...   \n",
       "32497                         0                                   0  ...   \n",
       "32498                         0                                   0  ...   \n",
       "32499                         1                                   0  ...   \n",
       "32500                         0                                   0  ...   \n",
       "32501                         0                                   0  ...   \n",
       "\n",
       "       occupation_ Machine-op-inspct  occupation_ Other-service  \\\n",
       "0                                  0                          1   \n",
       "1                                  0                          1   \n",
       "2                                  0                          1   \n",
       "3                                  0                          0   \n",
       "4                                  0                          1   \n",
       "...                              ...                        ...   \n",
       "32497                              0                          0   \n",
       "32498                              0                          0   \n",
       "32499                              0                          0   \n",
       "32500                              0                          0   \n",
       "32501                              0                          0   \n",
       "\n",
       "       occupation_ Priv-house-serv  occupation_ Prof-specialty  \\\n",
       "0                                0                           0   \n",
       "1                                0                           0   \n",
       "2                                0                           0   \n",
       "3                                0                           0   \n",
       "4                                0                           0   \n",
       "...                            ...                         ...   \n",
       "32497                            0                           1   \n",
       "32498                            0                           1   \n",
       "32499                            0                           0   \n",
       "32500                            0                           0   \n",
       "32501                            0                           0   \n",
       "\n",
       "       occupation_ Protective-serv  occupation_ Sales  \\\n",
       "0                                0                  0   \n",
       "1                                0                  0   \n",
       "2                                0                  0   \n",
       "3                                0                  0   \n",
       "4                                0                  0   \n",
       "...                            ...                ...   \n",
       "32497                            0                  0   \n",
       "32498                            0                  0   \n",
       "32499                            0                  0   \n",
       "32500                            0                  0   \n",
       "32501                            0                  0   \n",
       "\n",
       "       occupation_ Tech-support  occupation_ Transport-moving  \\\n",
       "0                             0                             0   \n",
       "1                             0                             0   \n",
       "2                             0                             0   \n",
       "3                             0                             0   \n",
       "4                             0                             0   \n",
       "...                         ...                           ...   \n",
       "32497                         0                             0   \n",
       "32498                         0                             0   \n",
       "32499                         0                             0   \n",
       "32500                         0                             0   \n",
       "32501                         0                             0   \n",
       "\n",
       "       country_name_ United-States  country_name_Other  \n",
       "0                                1                   0  \n",
       "1                                1                   0  \n",
       "2                                1                   0  \n",
       "3                                1                   0  \n",
       "4                                1                   0  \n",
       "...                            ...                 ...  \n",
       "32497                            1                   0  \n",
       "32498                            1                   0  \n",
       "32499                            1                   0  \n",
       "32500                            1                   0  \n",
       "32501                            1                   0  \n",
       "\n",
       "[32208 rows x 41 columns]"
      ]
     },
     "execution_count": 95,
     "metadata": {},
     "output_type": "execute_result"
    }
   ],
   "source": [
    "df"
   ]
  },
  {
   "cell_type": "markdown",
   "metadata": {},
   "source": [
    "# Write the final file to csv"
   ]
  },
  {
   "cell_type": "code",
   "execution_count": 97,
   "metadata": {},
   "outputs": [],
   "source": [
    "df.to_csv('df_out.csv')"
   ]
  },
  {
   "cell_type": "code",
   "execution_count": null,
   "metadata": {},
   "outputs": [],
   "source": []
  }
 ],
 "metadata": {
  "kernelspec": {
   "display_name": "Python 3",
   "language": "python",
   "name": "python3"
  },
  "language_info": {
   "codemirror_mode": {
    "name": "ipython",
    "version": 3
   },
   "file_extension": ".py",
   "mimetype": "text/x-python",
   "name": "python",
   "nbconvert_exporter": "python",
   "pygments_lexer": "ipython3",
   "version": "3.7.4"
  }
 },
 "nbformat": 4,
 "nbformat_minor": 2
}
