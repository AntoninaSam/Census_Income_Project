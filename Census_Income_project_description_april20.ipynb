{
 "cells": [
  {
   "cell_type": "markdown",
   "metadata": {},
   "source": [
    "# Final Project _ Census_Income_groupC"
   ]
  },
  {
   "cell_type": "markdown",
   "metadata": {},
   "source": [
    "### Team members\n",
    "\n",
    "- Oleg Kuzyutkin \n",
    "- Antonina Samusenko\n",
    "- Sergii Kozoriezov"
   ]
  },
  {
   "cell_type": "markdown",
   "metadata": {},
   "source": [
    "### Project Description"
   ]
  },
  {
   "cell_type": "markdown",
   "metadata": {},
   "source": [
    "age: Age\n",
    "\n",
    "workclass: Nature of employment\n",
    "\n",
    "functional_weight: Sample weight of the individual from the original Census data. How likely they were to be included in this dataset, based on their demographic characteristics vs. whole-population estimates.\n",
    "\n",
    "education: Level of education completed\n",
    "\n",
    "education_num: Estimated years of education completed based on the value of the education field.\n",
    "\n",
    "marital_status: Marital status\n",
    "\n",
    "occupation: Occupation category\n",
    "\n",
    "relationship: Relationship to the household\n",
    "\n",
    "race: Race\n",
    "\n",
    "sex: Gender\n",
    "\n",
    "capital_gain: Amount of capital gains\n",
    "\n",
    "capital_loss: Amount of capital loss\n",
    "\n",
    "hours_per_week: Hours worked per week\n",
    "\n",
    "native_country: Country of birth\n",
    "\n",
    "income_bracket: Either \">50K\" or \"<=50K\" based on income.\n"
   ]
  },
  {
   "cell_type": "markdown",
   "metadata": {},
   "source": [
    "## Task "
   ]
  },
  {
   "cell_type": "markdown",
   "metadata": {},
   "source": [
    "Predict how much the person is likely to get paid based on his background by training a binary classification model.\n",
    "The target variable income_bracket means: What is the annual income of a person? >50K or <=50K."
   ]
  },
  {
   "cell_type": "code",
   "execution_count": null,
   "metadata": {},
   "outputs": [],
   "source": []
  }
 ],
 "metadata": {
  "kernelspec": {
   "display_name": "Python 3",
   "language": "python",
   "name": "python3"
  },
  "language_info": {
   "codemirror_mode": {
    "name": "ipython",
    "version": 3
   },
   "file_extension": ".py",
   "mimetype": "text/x-python",
   "name": "python",
   "nbconvert_exporter": "python",
   "pygments_lexer": "ipython3",
   "version": "3.7.4"
  }
 },
 "nbformat": 4,
 "nbformat_minor": 2
}
