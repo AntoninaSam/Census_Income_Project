{
 "cells": [
  {
   "cell_type": "code",
   "execution_count": 1,
   "metadata": {},
   "outputs": [
    {
     "name": "stderr",
     "output_type": "stream",
     "text": [
      "/opt/anaconda3/lib/python3.7/site-packages/statsmodels/tools/_testing.py:19: FutureWarning: pandas.util.testing is deprecated. Use the functions in the public API at pandas.testing instead.\n",
      "  import pandas.util.testing as tm\n"
     ]
    }
   ],
   "source": [
    "import pandas as pd\n",
    "import numpy as np\n",
    "import matplotlib.pyplot as plt\n",
    "import seaborn as sns\n",
    "from sklearn.preprocessing import LabelEncoder, OneHotEncoder"
   ]
  },
  {
   "cell_type": "code",
   "execution_count": 2,
   "metadata": {},
   "outputs": [],
   "source": [
    "from sklearn.model_selection import train_test_split\n",
    "from sklearn import tree\n",
    "from sklearn.ensemble import BaggingClassifier, BaggingRegressor, RandomForestClassifier\n",
    "from sklearn.metrics import roc_curve, auc, accuracy_score, f1_score, roc_auc_score\n",
    "from sklearn.model_selection import GridSearchCV"
   ]
  },
  {
   "cell_type": "code",
   "execution_count": 3,
   "metadata": {},
   "outputs": [],
   "source": [
    "from sklearn.preprocessing import PowerTransformer"
   ]
  },
  {
   "cell_type": "code",
   "execution_count": 4,
   "metadata": {},
   "outputs": [
    {
     "data": {
      "text/html": [
       "<div>\n",
       "<style scoped>\n",
       "    .dataframe tbody tr th:only-of-type {\n",
       "        vertical-align: middle;\n",
       "    }\n",
       "\n",
       "    .dataframe tbody tr th {\n",
       "        vertical-align: top;\n",
       "    }\n",
       "\n",
       "    .dataframe thead th {\n",
       "        text-align: right;\n",
       "    }\n",
       "</style>\n",
       "<table border=\"1\" class=\"dataframe\">\n",
       "  <thead>\n",
       "    <tr style=\"text-align: right;\">\n",
       "      <th></th>\n",
       "      <th>id</th>\n",
       "      <th>age</th>\n",
       "      <th>sex</th>\n",
       "      <th>race</th>\n",
       "      <th>marital_status</th>\n",
       "      <th>relationship_label</th>\n",
       "      <th>relationship</th>\n",
       "      <th>functional_weight</th>\n",
       "      <th>education</th>\n",
       "      <th>education_num</th>\n",
       "      <th>workclass</th>\n",
       "      <th>occupation</th>\n",
       "      <th>capital_gain</th>\n",
       "      <th>capital_loss</th>\n",
       "      <th>hours_per_week</th>\n",
       "      <th>native_country</th>\n",
       "      <th>country_name</th>\n",
       "      <th>target</th>\n",
       "    </tr>\n",
       "  </thead>\n",
       "  <tbody>\n",
       "    <tr>\n",
       "      <th>0</th>\n",
       "      <td>1623</td>\n",
       "      <td>17</td>\n",
       "      <td>Male</td>\n",
       "      <td>White</td>\n",
       "      <td>Married-civ-spouse</td>\n",
       "      <td>0</td>\n",
       "      <td>Husband</td>\n",
       "      <td>221129</td>\n",
       "      <td>9th</td>\n",
       "      <td>5</td>\n",
       "      <td>Private</td>\n",
       "      <td>Other-service</td>\n",
       "      <td>0</td>\n",
       "      <td>0</td>\n",
       "      <td>40</td>\n",
       "      <td>39</td>\n",
       "      <td>United-States</td>\n",
       "      <td>&lt;=50K</td>\n",
       "    </tr>\n",
       "  </tbody>\n",
       "</table>\n",
       "</div>"
      ],
      "text/plain": [
       "     id  age    sex    race       marital_status  relationship_label  \\\n",
       "0  1623   17   Male   White   Married-civ-spouse                   0   \n",
       "\n",
       "  relationship  functional_weight education  education_num workclass  \\\n",
       "0      Husband             221129       9th              5   Private   \n",
       "\n",
       "       occupation  capital_gain  capital_loss  hours_per_week  native_country  \\\n",
       "0   Other-service             0             0              40              39   \n",
       "\n",
       "     country_name  target  \n",
       "0   United-States   <=50K  "
      ]
     },
     "execution_count": 4,
     "metadata": {},
     "output_type": "execute_result"
    }
   ],
   "source": [
    "df = pd.read_csv('census_income.csv')\n",
    "df.head(1)"
   ]
  },
  {
   "cell_type": "code",
   "execution_count": 5,
   "metadata": {},
   "outputs": [
    {
     "data": {
      "text/html": [
       "<div>\n",
       "<style scoped>\n",
       "    .dataframe tbody tr th:only-of-type {\n",
       "        vertical-align: middle;\n",
       "    }\n",
       "\n",
       "    .dataframe tbody tr th {\n",
       "        vertical-align: top;\n",
       "    }\n",
       "\n",
       "    .dataframe thead th {\n",
       "        text-align: right;\n",
       "    }\n",
       "</style>\n",
       "<table border=\"1\" class=\"dataframe\">\n",
       "  <thead>\n",
       "    <tr style=\"text-align: right;\">\n",
       "      <th></th>\n",
       "      <th>age</th>\n",
       "      <th>sex</th>\n",
       "      <th>race</th>\n",
       "      <th>marital_status</th>\n",
       "      <th>relationship_label</th>\n",
       "      <th>functional_weight</th>\n",
       "      <th>education</th>\n",
       "      <th>education_num</th>\n",
       "      <th>workclass</th>\n",
       "      <th>occupation</th>\n",
       "      <th>capital_gain</th>\n",
       "      <th>capital_loss</th>\n",
       "      <th>hours_per_week</th>\n",
       "      <th>native_country</th>\n",
       "      <th>target</th>\n",
       "    </tr>\n",
       "  </thead>\n",
       "  <tbody>\n",
       "    <tr>\n",
       "      <th>0</th>\n",
       "      <td>17</td>\n",
       "      <td>Male</td>\n",
       "      <td>White</td>\n",
       "      <td>Married-civ-spouse</td>\n",
       "      <td>0</td>\n",
       "      <td>221129</td>\n",
       "      <td>9th</td>\n",
       "      <td>5</td>\n",
       "      <td>Private</td>\n",
       "      <td>Other-service</td>\n",
       "      <td>0</td>\n",
       "      <td>0</td>\n",
       "      <td>40</td>\n",
       "      <td>39</td>\n",
       "      <td>&lt;=50K</td>\n",
       "    </tr>\n",
       "  </tbody>\n",
       "</table>\n",
       "</div>"
      ],
      "text/plain": [
       "   age    sex    race       marital_status  relationship_label  \\\n",
       "0   17   Male   White   Married-civ-spouse                   0   \n",
       "\n",
       "   functional_weight education  education_num workclass      occupation  \\\n",
       "0             221129       9th              5   Private   Other-service   \n",
       "\n",
       "   capital_gain  capital_loss  hours_per_week  native_country  target  \n",
       "0             0             0              40              39   <=50K  "
      ]
     },
     "execution_count": 5,
     "metadata": {},
     "output_type": "execute_result"
    }
   ],
   "source": [
    "columns_to_drop = ['id', 'relationship', 'country_name']\n",
    "df.drop(columns_to_drop, axis = 1, inplace = True)\n",
    "df.head(1)"
   ]
  },
  {
   "cell_type": "code",
   "execution_count": null,
   "metadata": {},
   "outputs": [],
   "source": []
  },
  {
   "cell_type": "markdown",
   "metadata": {},
   "source": [
    "#  Label Encoder for all categorical features\n",
    "\n",
    "## RobustScaler"
   ]
  },
  {
   "cell_type": "code",
   "execution_count": 6,
   "metadata": {},
   "outputs": [
    {
     "data": {
      "text/html": [
       "<div>\n",
       "<style scoped>\n",
       "    .dataframe tbody tr th:only-of-type {\n",
       "        vertical-align: middle;\n",
       "    }\n",
       "\n",
       "    .dataframe tbody tr th {\n",
       "        vertical-align: top;\n",
       "    }\n",
       "\n",
       "    .dataframe thead th {\n",
       "        text-align: right;\n",
       "    }\n",
       "</style>\n",
       "<table border=\"1\" class=\"dataframe\">\n",
       "  <thead>\n",
       "    <tr style=\"text-align: right;\">\n",
       "      <th></th>\n",
       "      <th>age</th>\n",
       "      <th>sex</th>\n",
       "      <th>race</th>\n",
       "      <th>marital_status</th>\n",
       "      <th>relationship_label</th>\n",
       "      <th>functional_weight</th>\n",
       "      <th>education</th>\n",
       "      <th>education_num</th>\n",
       "      <th>workclass</th>\n",
       "      <th>occupation</th>\n",
       "      <th>capital_gain</th>\n",
       "      <th>capital_loss</th>\n",
       "      <th>hours_per_week</th>\n",
       "      <th>native_country</th>\n",
       "      <th>target</th>\n",
       "    </tr>\n",
       "  </thead>\n",
       "  <tbody>\n",
       "    <tr>\n",
       "      <th>0</th>\n",
       "      <td>17</td>\n",
       "      <td>1</td>\n",
       "      <td>4</td>\n",
       "      <td>2</td>\n",
       "      <td>0</td>\n",
       "      <td>221129</td>\n",
       "      <td>6</td>\n",
       "      <td>5</td>\n",
       "      <td>4</td>\n",
       "      <td>8</td>\n",
       "      <td>0</td>\n",
       "      <td>0</td>\n",
       "      <td>40</td>\n",
       "      <td>39</td>\n",
       "      <td>0</td>\n",
       "    </tr>\n",
       "    <tr>\n",
       "      <th>1</th>\n",
       "      <td>17</td>\n",
       "      <td>1</td>\n",
       "      <td>4</td>\n",
       "      <td>4</td>\n",
       "      <td>3</td>\n",
       "      <td>191260</td>\n",
       "      <td>6</td>\n",
       "      <td>5</td>\n",
       "      <td>4</td>\n",
       "      <td>8</td>\n",
       "      <td>1055</td>\n",
       "      <td>0</td>\n",
       "      <td>24</td>\n",
       "      <td>39</td>\n",
       "      <td>0</td>\n",
       "    </tr>\n",
       "    <tr>\n",
       "      <th>2</th>\n",
       "      <td>17</td>\n",
       "      <td>1</td>\n",
       "      <td>2</td>\n",
       "      <td>4</td>\n",
       "      <td>3</td>\n",
       "      <td>32124</td>\n",
       "      <td>6</td>\n",
       "      <td>5</td>\n",
       "      <td>2</td>\n",
       "      <td>8</td>\n",
       "      <td>0</td>\n",
       "      <td>0</td>\n",
       "      <td>9</td>\n",
       "      <td>39</td>\n",
       "      <td>0</td>\n",
       "    </tr>\n",
       "  </tbody>\n",
       "</table>\n",
       "</div>"
      ],
      "text/plain": [
       "   age  sex  race  marital_status  relationship_label  functional_weight  \\\n",
       "0   17    1     4               2                   0             221129   \n",
       "1   17    1     4               4                   3             191260   \n",
       "2   17    1     2               4                   3              32124   \n",
       "\n",
       "   education  education_num  workclass  occupation  capital_gain  \\\n",
       "0          6              5          4           8             0   \n",
       "1          6              5          4           8          1055   \n",
       "2          6              5          2           8             0   \n",
       "\n",
       "   capital_loss  hours_per_week  native_country  target  \n",
       "0             0              40              39       0  \n",
       "1             0              24              39       0  \n",
       "2             0               9              39       0  "
      ]
     },
     "execution_count": 6,
     "metadata": {},
     "output_type": "execute_result"
    }
   ],
   "source": [
    "le = LabelEncoder()\n",
    "column_for_label = ['target', 'sex','race','marital_status','education','workclass','occupation']\n",
    "for c in column_for_label:\n",
    "    df[c] = le.fit_transform(df[c]) # transorming feature\n",
    "df.head(3)"
   ]
  },
  {
   "cell_type": "code",
   "execution_count": 7,
   "metadata": {},
   "outputs": [
    {
     "data": {
      "text/html": [
       "<div>\n",
       "<style scoped>\n",
       "    .dataframe tbody tr th:only-of-type {\n",
       "        vertical-align: middle;\n",
       "    }\n",
       "\n",
       "    .dataframe tbody tr th {\n",
       "        vertical-align: top;\n",
       "    }\n",
       "\n",
       "    .dataframe thead th {\n",
       "        text-align: right;\n",
       "    }\n",
       "</style>\n",
       "<table border=\"1\" class=\"dataframe\">\n",
       "  <thead>\n",
       "    <tr style=\"text-align: right;\">\n",
       "      <th></th>\n",
       "      <th>age</th>\n",
       "      <th>sex</th>\n",
       "      <th>race</th>\n",
       "      <th>marital_status</th>\n",
       "      <th>relationship_label</th>\n",
       "      <th>functional_weight</th>\n",
       "      <th>education</th>\n",
       "      <th>education_num</th>\n",
       "      <th>workclass</th>\n",
       "      <th>occupation</th>\n",
       "      <th>capital_gain</th>\n",
       "      <th>capital_loss</th>\n",
       "      <th>hours_per_week</th>\n",
       "      <th>native_country</th>\n",
       "      <th>target</th>\n",
       "    </tr>\n",
       "  </thead>\n",
       "  <tbody>\n",
       "    <tr>\n",
       "      <th>count</th>\n",
       "      <td>32561.000000</td>\n",
       "      <td>32561.000000</td>\n",
       "      <td>32561.000000</td>\n",
       "      <td>32561.000000</td>\n",
       "      <td>32561.000000</td>\n",
       "      <td>3.256100e+04</td>\n",
       "      <td>32561.000000</td>\n",
       "      <td>32561.000000</td>\n",
       "      <td>32561.000000</td>\n",
       "      <td>32561.000000</td>\n",
       "      <td>32561.000000</td>\n",
       "      <td>32561.000000</td>\n",
       "      <td>32561.000000</td>\n",
       "      <td>32561.000000</td>\n",
       "      <td>32561.000000</td>\n",
       "    </tr>\n",
       "    <tr>\n",
       "      <th>mean</th>\n",
       "      <td>38.581647</td>\n",
       "      <td>0.669205</td>\n",
       "      <td>3.665858</td>\n",
       "      <td>2.611836</td>\n",
       "      <td>1.446362</td>\n",
       "      <td>1.897784e+05</td>\n",
       "      <td>10.298210</td>\n",
       "      <td>10.080679</td>\n",
       "      <td>3.868892</td>\n",
       "      <td>6.572740</td>\n",
       "      <td>1077.648844</td>\n",
       "      <td>87.303830</td>\n",
       "      <td>40.437456</td>\n",
       "      <td>36.718866</td>\n",
       "      <td>0.240810</td>\n",
       "    </tr>\n",
       "    <tr>\n",
       "      <th>std</th>\n",
       "      <td>13.640433</td>\n",
       "      <td>0.470506</td>\n",
       "      <td>0.848806</td>\n",
       "      <td>1.506222</td>\n",
       "      <td>1.606771</td>\n",
       "      <td>1.055500e+05</td>\n",
       "      <td>3.870264</td>\n",
       "      <td>2.572720</td>\n",
       "      <td>1.455960</td>\n",
       "      <td>4.228857</td>\n",
       "      <td>7385.292085</td>\n",
       "      <td>402.960219</td>\n",
       "      <td>12.347429</td>\n",
       "      <td>7.823782</td>\n",
       "      <td>0.427581</td>\n",
       "    </tr>\n",
       "    <tr>\n",
       "      <th>min</th>\n",
       "      <td>17.000000</td>\n",
       "      <td>0.000000</td>\n",
       "      <td>0.000000</td>\n",
       "      <td>0.000000</td>\n",
       "      <td>0.000000</td>\n",
       "      <td>1.228500e+04</td>\n",
       "      <td>0.000000</td>\n",
       "      <td>1.000000</td>\n",
       "      <td>0.000000</td>\n",
       "      <td>0.000000</td>\n",
       "      <td>0.000000</td>\n",
       "      <td>0.000000</td>\n",
       "      <td>1.000000</td>\n",
       "      <td>0.000000</td>\n",
       "      <td>0.000000</td>\n",
       "    </tr>\n",
       "    <tr>\n",
       "      <th>25%</th>\n",
       "      <td>28.000000</td>\n",
       "      <td>0.000000</td>\n",
       "      <td>4.000000</td>\n",
       "      <td>2.000000</td>\n",
       "      <td>0.000000</td>\n",
       "      <td>1.178270e+05</td>\n",
       "      <td>9.000000</td>\n",
       "      <td>9.000000</td>\n",
       "      <td>4.000000</td>\n",
       "      <td>3.000000</td>\n",
       "      <td>0.000000</td>\n",
       "      <td>0.000000</td>\n",
       "      <td>40.000000</td>\n",
       "      <td>39.000000</td>\n",
       "      <td>0.000000</td>\n",
       "    </tr>\n",
       "    <tr>\n",
       "      <th>50%</th>\n",
       "      <td>37.000000</td>\n",
       "      <td>1.000000</td>\n",
       "      <td>4.000000</td>\n",
       "      <td>2.000000</td>\n",
       "      <td>1.000000</td>\n",
       "      <td>1.783560e+05</td>\n",
       "      <td>11.000000</td>\n",
       "      <td>10.000000</td>\n",
       "      <td>4.000000</td>\n",
       "      <td>7.000000</td>\n",
       "      <td>0.000000</td>\n",
       "      <td>0.000000</td>\n",
       "      <td>40.000000</td>\n",
       "      <td>39.000000</td>\n",
       "      <td>0.000000</td>\n",
       "    </tr>\n",
       "    <tr>\n",
       "      <th>75%</th>\n",
       "      <td>48.000000</td>\n",
       "      <td>1.000000</td>\n",
       "      <td>4.000000</td>\n",
       "      <td>4.000000</td>\n",
       "      <td>3.000000</td>\n",
       "      <td>2.370510e+05</td>\n",
       "      <td>12.000000</td>\n",
       "      <td>12.000000</td>\n",
       "      <td>4.000000</td>\n",
       "      <td>10.000000</td>\n",
       "      <td>0.000000</td>\n",
       "      <td>0.000000</td>\n",
       "      <td>45.000000</td>\n",
       "      <td>39.000000</td>\n",
       "      <td>0.000000</td>\n",
       "    </tr>\n",
       "    <tr>\n",
       "      <th>max</th>\n",
       "      <td>90.000000</td>\n",
       "      <td>1.000000</td>\n",
       "      <td>4.000000</td>\n",
       "      <td>6.000000</td>\n",
       "      <td>5.000000</td>\n",
       "      <td>1.484705e+06</td>\n",
       "      <td>15.000000</td>\n",
       "      <td>16.000000</td>\n",
       "      <td>8.000000</td>\n",
       "      <td>14.000000</td>\n",
       "      <td>99999.000000</td>\n",
       "      <td>4356.000000</td>\n",
       "      <td>99.000000</td>\n",
       "      <td>41.000000</td>\n",
       "      <td>1.000000</td>\n",
       "    </tr>\n",
       "  </tbody>\n",
       "</table>\n",
       "</div>"
      ],
      "text/plain": [
       "                age           sex          race  marital_status  \\\n",
       "count  32561.000000  32561.000000  32561.000000    32561.000000   \n",
       "mean      38.581647      0.669205      3.665858        2.611836   \n",
       "std       13.640433      0.470506      0.848806        1.506222   \n",
       "min       17.000000      0.000000      0.000000        0.000000   \n",
       "25%       28.000000      0.000000      4.000000        2.000000   \n",
       "50%       37.000000      1.000000      4.000000        2.000000   \n",
       "75%       48.000000      1.000000      4.000000        4.000000   \n",
       "max       90.000000      1.000000      4.000000        6.000000   \n",
       "\n",
       "       relationship_label  functional_weight     education  education_num  \\\n",
       "count        32561.000000       3.256100e+04  32561.000000   32561.000000   \n",
       "mean             1.446362       1.897784e+05     10.298210      10.080679   \n",
       "std              1.606771       1.055500e+05      3.870264       2.572720   \n",
       "min              0.000000       1.228500e+04      0.000000       1.000000   \n",
       "25%              0.000000       1.178270e+05      9.000000       9.000000   \n",
       "50%              1.000000       1.783560e+05     11.000000      10.000000   \n",
       "75%              3.000000       2.370510e+05     12.000000      12.000000   \n",
       "max              5.000000       1.484705e+06     15.000000      16.000000   \n",
       "\n",
       "          workclass    occupation  capital_gain  capital_loss  hours_per_week  \\\n",
       "count  32561.000000  32561.000000  32561.000000  32561.000000    32561.000000   \n",
       "mean       3.868892      6.572740   1077.648844     87.303830       40.437456   \n",
       "std        1.455960      4.228857   7385.292085    402.960219       12.347429   \n",
       "min        0.000000      0.000000      0.000000      0.000000        1.000000   \n",
       "25%        4.000000      3.000000      0.000000      0.000000       40.000000   \n",
       "50%        4.000000      7.000000      0.000000      0.000000       40.000000   \n",
       "75%        4.000000     10.000000      0.000000      0.000000       45.000000   \n",
       "max        8.000000     14.000000  99999.000000   4356.000000       99.000000   \n",
       "\n",
       "       native_country        target  \n",
       "count    32561.000000  32561.000000  \n",
       "mean        36.718866      0.240810  \n",
       "std          7.823782      0.427581  \n",
       "min          0.000000      0.000000  \n",
       "25%         39.000000      0.000000  \n",
       "50%         39.000000      0.000000  \n",
       "75%         39.000000      0.000000  \n",
       "max         41.000000      1.000000  "
      ]
     },
     "execution_count": 7,
     "metadata": {},
     "output_type": "execute_result"
    }
   ],
   "source": [
    "df.describe()"
   ]
  },
  {
   "cell_type": "code",
   "execution_count": 8,
   "metadata": {},
   "outputs": [
    {
     "data": {
      "text/html": [
       "<div>\n",
       "<style scoped>\n",
       "    .dataframe tbody tr th:only-of-type {\n",
       "        vertical-align: middle;\n",
       "    }\n",
       "\n",
       "    .dataframe tbody tr th {\n",
       "        vertical-align: top;\n",
       "    }\n",
       "\n",
       "    .dataframe thead th {\n",
       "        text-align: right;\n",
       "    }\n",
       "</style>\n",
       "<table border=\"1\" class=\"dataframe\">\n",
       "  <thead>\n",
       "    <tr style=\"text-align: right;\">\n",
       "      <th></th>\n",
       "      <th>age</th>\n",
       "      <th>sex</th>\n",
       "      <th>race</th>\n",
       "      <th>marital_status</th>\n",
       "      <th>relationship_label</th>\n",
       "      <th>functional_weight</th>\n",
       "      <th>education</th>\n",
       "      <th>education_num</th>\n",
       "      <th>workclass</th>\n",
       "      <th>occupation</th>\n",
       "      <th>capital_gain</th>\n",
       "      <th>capital_loss</th>\n",
       "      <th>hours_per_week</th>\n",
       "      <th>native_country</th>\n",
       "      <th>target</th>\n",
       "    </tr>\n",
       "  </thead>\n",
       "  <tbody>\n",
       "  </tbody>\n",
       "</table>\n",
       "</div>"
      ],
      "text/plain": [
       "Empty DataFrame\n",
       "Columns: [age, sex, race, marital_status, relationship_label, functional_weight, education, education_num, workclass, occupation, capital_gain, capital_loss, hours_per_week, native_country, target]\n",
       "Index: []"
      ]
     },
     "execution_count": 8,
     "metadata": {},
     "output_type": "execute_result"
    }
   ],
   "source": [
    "data_features_rs = df.iloc[:, : ]\n",
    "data_features_rs.head(0)"
   ]
  },
  {
   "cell_type": "code",
   "execution_count": 9,
   "metadata": {},
   "outputs": [],
   "source": [
    "# Since we are dealing with distances, you need to make sure that all data is on the same scale\n",
    "\n",
    "from sklearn.preprocessing import RobustScaler\n",
    "\n",
    "scaler = RobustScaler()\n",
    "scaled_df = pd.DataFrame(\n",
    "    data=scaler.fit_transform(data_features_rs), \n",
    "    columns=data_features_rs.columns\n",
    ")"
   ]
  },
  {
   "cell_type": "code",
   "execution_count": null,
   "metadata": {},
   "outputs": [],
   "source": []
  },
  {
   "cell_type": "code",
   "execution_count": 10,
   "metadata": {},
   "outputs": [
    {
     "data": {
      "text/html": [
       "<div>\n",
       "<style scoped>\n",
       "    .dataframe tbody tr th:only-of-type {\n",
       "        vertical-align: middle;\n",
       "    }\n",
       "\n",
       "    .dataframe tbody tr th {\n",
       "        vertical-align: top;\n",
       "    }\n",
       "\n",
       "    .dataframe thead th {\n",
       "        text-align: right;\n",
       "    }\n",
       "</style>\n",
       "<table border=\"1\" class=\"dataframe\">\n",
       "  <thead>\n",
       "    <tr style=\"text-align: right;\">\n",
       "      <th></th>\n",
       "      <th>age</th>\n",
       "      <th>sex</th>\n",
       "      <th>race</th>\n",
       "      <th>marital_status</th>\n",
       "      <th>relationship_label</th>\n",
       "      <th>functional_weight</th>\n",
       "      <th>education</th>\n",
       "      <th>education_num</th>\n",
       "      <th>workclass</th>\n",
       "      <th>occupation</th>\n",
       "      <th>capital_gain</th>\n",
       "      <th>capital_loss</th>\n",
       "      <th>hours_per_week</th>\n",
       "      <th>native_country</th>\n",
       "      <th>target</th>\n",
       "    </tr>\n",
       "  </thead>\n",
       "  <tbody>\n",
       "    <tr>\n",
       "      <th>count</th>\n",
       "      <td>32561.000000</td>\n",
       "      <td>32561.000000</td>\n",
       "      <td>32561.000000</td>\n",
       "      <td>32561.000000</td>\n",
       "      <td>32561.000000</td>\n",
       "      <td>32561.000000</td>\n",
       "      <td>32561.000000</td>\n",
       "      <td>32561.000000</td>\n",
       "      <td>32561.000000</td>\n",
       "      <td>32561.000000</td>\n",
       "      <td>32561.000000</td>\n",
       "      <td>32561.000000</td>\n",
       "      <td>32561.000000</td>\n",
       "      <td>32561.000000</td>\n",
       "      <td>32561.000000</td>\n",
       "    </tr>\n",
       "    <tr>\n",
       "      <th>mean</th>\n",
       "      <td>0.079082</td>\n",
       "      <td>-0.330795</td>\n",
       "      <td>-0.334142</td>\n",
       "      <td>0.305918</td>\n",
       "      <td>0.148787</td>\n",
       "      <td>0.095806</td>\n",
       "      <td>-0.233930</td>\n",
       "      <td>0.026893</td>\n",
       "      <td>-0.131108</td>\n",
       "      <td>-0.061037</td>\n",
       "      <td>1077.648844</td>\n",
       "      <td>87.303830</td>\n",
       "      <td>0.087491</td>\n",
       "      <td>-2.281134</td>\n",
       "      <td>0.240810</td>\n",
       "    </tr>\n",
       "    <tr>\n",
       "      <th>std</th>\n",
       "      <td>0.682022</td>\n",
       "      <td>0.470506</td>\n",
       "      <td>0.848806</td>\n",
       "      <td>0.753111</td>\n",
       "      <td>0.535590</td>\n",
       "      <td>0.885308</td>\n",
       "      <td>1.290088</td>\n",
       "      <td>0.857573</td>\n",
       "      <td>1.455960</td>\n",
       "      <td>0.604122</td>\n",
       "      <td>7385.292085</td>\n",
       "      <td>402.960219</td>\n",
       "      <td>2.469486</td>\n",
       "      <td>7.823782</td>\n",
       "      <td>0.427581</td>\n",
       "    </tr>\n",
       "    <tr>\n",
       "      <th>min</th>\n",
       "      <td>-1.000000</td>\n",
       "      <td>-1.000000</td>\n",
       "      <td>-4.000000</td>\n",
       "      <td>-1.000000</td>\n",
       "      <td>-0.333333</td>\n",
       "      <td>-1.392933</td>\n",
       "      <td>-3.666667</td>\n",
       "      <td>-3.000000</td>\n",
       "      <td>-4.000000</td>\n",
       "      <td>-1.000000</td>\n",
       "      <td>0.000000</td>\n",
       "      <td>0.000000</td>\n",
       "      <td>-7.800000</td>\n",
       "      <td>-39.000000</td>\n",
       "      <td>0.000000</td>\n",
       "    </tr>\n",
       "    <tr>\n",
       "      <th>25%</th>\n",
       "      <td>-0.450000</td>\n",
       "      <td>-1.000000</td>\n",
       "      <td>0.000000</td>\n",
       "      <td>0.000000</td>\n",
       "      <td>-0.333333</td>\n",
       "      <td>-0.507691</td>\n",
       "      <td>-0.666667</td>\n",
       "      <td>-0.333333</td>\n",
       "      <td>0.000000</td>\n",
       "      <td>-0.571429</td>\n",
       "      <td>0.000000</td>\n",
       "      <td>0.000000</td>\n",
       "      <td>0.000000</td>\n",
       "      <td>0.000000</td>\n",
       "      <td>0.000000</td>\n",
       "    </tr>\n",
       "    <tr>\n",
       "      <th>50%</th>\n",
       "      <td>0.000000</td>\n",
       "      <td>0.000000</td>\n",
       "      <td>0.000000</td>\n",
       "      <td>0.000000</td>\n",
       "      <td>0.000000</td>\n",
       "      <td>0.000000</td>\n",
       "      <td>0.000000</td>\n",
       "      <td>0.000000</td>\n",
       "      <td>0.000000</td>\n",
       "      <td>0.000000</td>\n",
       "      <td>0.000000</td>\n",
       "      <td>0.000000</td>\n",
       "      <td>0.000000</td>\n",
       "      <td>0.000000</td>\n",
       "      <td>0.000000</td>\n",
       "    </tr>\n",
       "    <tr>\n",
       "      <th>75%</th>\n",
       "      <td>0.550000</td>\n",
       "      <td>0.000000</td>\n",
       "      <td>0.000000</td>\n",
       "      <td>1.000000</td>\n",
       "      <td>0.666667</td>\n",
       "      <td>0.492309</td>\n",
       "      <td>0.333333</td>\n",
       "      <td>0.666667</td>\n",
       "      <td>0.000000</td>\n",
       "      <td>0.428571</td>\n",
       "      <td>0.000000</td>\n",
       "      <td>0.000000</td>\n",
       "      <td>1.000000</td>\n",
       "      <td>0.000000</td>\n",
       "      <td>0.000000</td>\n",
       "    </tr>\n",
       "    <tr>\n",
       "      <th>max</th>\n",
       "      <td>2.650000</td>\n",
       "      <td>0.000000</td>\n",
       "      <td>0.000000</td>\n",
       "      <td>2.000000</td>\n",
       "      <td>1.333333</td>\n",
       "      <td>10.957098</td>\n",
       "      <td>1.333333</td>\n",
       "      <td>2.000000</td>\n",
       "      <td>4.000000</td>\n",
       "      <td>1.000000</td>\n",
       "      <td>99999.000000</td>\n",
       "      <td>4356.000000</td>\n",
       "      <td>11.800000</td>\n",
       "      <td>2.000000</td>\n",
       "      <td>1.000000</td>\n",
       "    </tr>\n",
       "  </tbody>\n",
       "</table>\n",
       "</div>"
      ],
      "text/plain": [
       "                age           sex          race  marital_status  \\\n",
       "count  32561.000000  32561.000000  32561.000000    32561.000000   \n",
       "mean       0.079082     -0.330795     -0.334142        0.305918   \n",
       "std        0.682022      0.470506      0.848806        0.753111   \n",
       "min       -1.000000     -1.000000     -4.000000       -1.000000   \n",
       "25%       -0.450000     -1.000000      0.000000        0.000000   \n",
       "50%        0.000000      0.000000      0.000000        0.000000   \n",
       "75%        0.550000      0.000000      0.000000        1.000000   \n",
       "max        2.650000      0.000000      0.000000        2.000000   \n",
       "\n",
       "       relationship_label  functional_weight     education  education_num  \\\n",
       "count        32561.000000       32561.000000  32561.000000   32561.000000   \n",
       "mean             0.148787           0.095806     -0.233930       0.026893   \n",
       "std              0.535590           0.885308      1.290088       0.857573   \n",
       "min             -0.333333          -1.392933     -3.666667      -3.000000   \n",
       "25%             -0.333333          -0.507691     -0.666667      -0.333333   \n",
       "50%              0.000000           0.000000      0.000000       0.000000   \n",
       "75%              0.666667           0.492309      0.333333       0.666667   \n",
       "max              1.333333          10.957098      1.333333       2.000000   \n",
       "\n",
       "          workclass    occupation  capital_gain  capital_loss  hours_per_week  \\\n",
       "count  32561.000000  32561.000000  32561.000000  32561.000000    32561.000000   \n",
       "mean      -0.131108     -0.061037   1077.648844     87.303830        0.087491   \n",
       "std        1.455960      0.604122   7385.292085    402.960219        2.469486   \n",
       "min       -4.000000     -1.000000      0.000000      0.000000       -7.800000   \n",
       "25%        0.000000     -0.571429      0.000000      0.000000        0.000000   \n",
       "50%        0.000000      0.000000      0.000000      0.000000        0.000000   \n",
       "75%        0.000000      0.428571      0.000000      0.000000        1.000000   \n",
       "max        4.000000      1.000000  99999.000000   4356.000000       11.800000   \n",
       "\n",
       "       native_country        target  \n",
       "count    32561.000000  32561.000000  \n",
       "mean        -2.281134      0.240810  \n",
       "std          7.823782      0.427581  \n",
       "min        -39.000000      0.000000  \n",
       "25%          0.000000      0.000000  \n",
       "50%          0.000000      0.000000  \n",
       "75%          0.000000      0.000000  \n",
       "max          2.000000      1.000000  "
      ]
     },
     "execution_count": 10,
     "metadata": {},
     "output_type": "execute_result"
    }
   ],
   "source": [
    "scaled_df.describe()"
   ]
  },
  {
   "cell_type": "markdown",
   "metadata": {},
   "source": [
    "### Divide data on two sets "
   ]
  },
  {
   "cell_type": "code",
   "execution_count": 11,
   "metadata": {},
   "outputs": [],
   "source": [
    "data, validation_data = train_test_split(\n",
    "    scaled_df,\n",
    "    test_size=0.10,\n",
    "    random_state=42) # 'data' use for train,  'validation_data' use for validatoin models "
   ]
  },
  {
   "cell_type": "code",
   "execution_count": 12,
   "metadata": {},
   "outputs": [],
   "source": [
    "data.to_csv('my_data_for_clining.csv', index=False) # save as csv file\n",
    "validation_data.to_csv('my_data_for_validation_models.csv', index=False)"
   ]
  },
  {
   "cell_type": "markdown",
   "metadata": {},
   "source": [
    "# **EDA**"
   ]
  },
  {
   "cell_type": "code",
   "execution_count": null,
   "metadata": {},
   "outputs": [],
   "source": [
    "data.hist(figsize=(14, 10));"
   ]
  },
  {
   "cell_type": "code",
   "execution_count": null,
   "metadata": {},
   "outputs": [],
   "source": [
    "plt.figure(figsize=(10,10))\n",
    "\n",
    "corr_matrix = data.corr()\n",
    "lower = corr_matrix.where(np.tril(np.ones(corr_matrix.shape), k=-1).astype(np.bool))\n",
    "\n",
    "sns.heatmap(lower, annot=True, fmt='.2f', cbar=False, center=0);"
   ]
  },
  {
   "cell_type": "code",
   "execution_count": null,
   "metadata": {},
   "outputs": [],
   "source": [
    "high_corr = [\n",
    "    column for column in lower.columns if any((lower[column] > 0.6)|(lower[column] < -0.6))\n",
    "]\n",
    "high_corr"
   ]
  },
  {
   "cell_type": "markdown",
   "metadata": {},
   "source": [
    "####  We don't have features with high Correlation at Target and with each other."
   ]
  },
  {
   "cell_type": "code",
   "execution_count": null,
   "metadata": {},
   "outputs": [],
   "source": [
    "other_features = [col for col in df.columns if col not in high_corr and col!='target']"
   ]
  },
  {
   "cell_type": "code",
   "execution_count": null,
   "metadata": {},
   "outputs": [],
   "source": [
    "sns.pairplot(df[other_features]);"
   ]
  },
  {
   "cell_type": "markdown",
   "metadata": {},
   "source": [
    "## **Simplest methods**"
   ]
  },
  {
   "cell_type": "markdown",
   "metadata": {},
   "source": [
    "### **3-sigmas** "
   ]
  },
  {
   "cell_type": "code",
   "execution_count": null,
   "metadata": {},
   "outputs": [],
   "source": [
    "def outlier_std(data, col, threshold=3):\n",
    "    mean = data[col].mean()\n",
    "    std = data[col].std()\n",
    "    up_bound = mean + threshold * std\n",
    "    low_bound = mean - threshold * std\n",
    "    anomalies = pd.concat([data[col]>up_bound, data[col]<low_bound], axis=1).any(1)\n",
    "    return anomalies, up_bound, low_bound"
   ]
  },
  {
   "cell_type": "code",
   "execution_count": null,
   "metadata": {},
   "outputs": [],
   "source": [
    "def get_column_outliers(data, columns=None, function=outlier_std, threshold=3):\n",
    "    if columns:\n",
    "        columns_to_check = columns\n",
    "    else:\n",
    "        columns_to_check = data.columns\n",
    "        \n",
    "    outliers = pd.Series(data=[False]*len(data), index=data_features.index, name='is_outlier')\n",
    "    comparison_table = {}\n",
    "    for column in columns_to_check:\n",
    "        anomalies, upper_bound, lower_bound = function(data, column, threshold=threshold)\n",
    "        comparison_table[column] = [upper_bound, lower_bound, sum(anomalies), 100*sum(anomalies)/len(anomalies)]\n",
    "        outliers[anomalies[anomalies].index] = True\n",
    "    \n",
    "    comparison_table = pd.DataFrame(comparison_table).T\n",
    "    comparison_table.columns=['upper_bound', 'lower_bound', 'anomalies_count', 'anomalies_percentage']\n",
    "    \n",
    "    return comparison_table, outliers\n",
    "\n",
    "def anomalies_report(outliers):\n",
    "    print(\"Total number of outliers: {}\\nPercentage of outliers:   {:.2f}%\".format(\n",
    "            sum(outliers), 100*sum(outliers)/len(outliers)))    "
   ]
  },
  {
   "cell_type": "code",
   "execution_count": null,
   "metadata": {},
   "outputs": [],
   "source": [
    "data_features = data.iloc[:, : -1]\n",
    "data_features.head(1)"
   ]
  },
  {
   "cell_type": "code",
   "execution_count": null,
   "metadata": {},
   "outputs": [],
   "source": [
    "comparison_table, std_outliers = get_column_outliers(data)\n",
    "anomalies_report(std_outliers)"
   ]
  },
  {
   "cell_type": "code",
   "execution_count": null,
   "metadata": {},
   "outputs": [],
   "source": [
    "comparison_table"
   ]
  },
  {
   "cell_type": "code",
   "execution_count": null,
   "metadata": {},
   "outputs": [],
   "source": [
    "# # For vizualization , if need:\n",
    "\n",
    "# labeled_data = data_features.copy()\n",
    "# labeled_data['is_outlier'] = std_outliers\n",
    "\n",
    "# sns.pairplot(data=labeled_data, vars = other_features,\n",
    "#              hue='is_outlier', hue_order=[1, 0],\n",
    "#              markers=['x', 'o'],  palette='bright');"
   ]
  },
  {
   "cell_type": "markdown",
   "metadata": {},
   "source": [
    "### **Interquartile deviation**"
   ]
  },
  {
   "cell_type": "code",
   "execution_count": null,
   "metadata": {},
   "outputs": [],
   "source": [
    "def outlier_iqr(data, col, threshold=3):\n",
    "    IQR = data[col].quantile(0.75) - data[col].quantile(0.25)\n",
    "    up_bound = data[col].quantile(0.75) + (IQR * threshold)\n",
    "    low_bound = data[col].quantile(0.25) - (IQR * threshold)\n",
    "    anomalies = pd.concat([data[col]>up_bound, data[col]<low_bound], axis=1).any(1)\n",
    "    return anomalies, up_bound, low_bound"
   ]
  },
  {
   "cell_type": "code",
   "execution_count": null,
   "metadata": {},
   "outputs": [],
   "source": [
    "comparison_table, iqr_outliers = get_column_outliers(data_features, function=outlier_iqr)\n",
    "anomalies_report(iqr_outliers)"
   ]
  },
  {
   "cell_type": "code",
   "execution_count": null,
   "metadata": {},
   "outputs": [],
   "source": []
  },
  {
   "cell_type": "markdown",
   "metadata": {},
   "source": [
    "## **Clusterization**"
   ]
  },
  {
   "cell_type": "markdown",
   "metadata": {},
   "source": [
    "### **Distance-based** "
   ]
  },
  {
   "cell_type": "code",
   "execution_count": null,
   "metadata": {},
   "outputs": [],
   "source": [
    "from sklearn.base import BaseEstimator\n",
    "from scipy.spatial.distance import cdist\n",
    "from sklearn.preprocessing import RobustScaler\n",
    "\n",
    "class DistanceOutliers(BaseEstimator):\n",
    "    \"\"\"\n",
    "    Distance based outlier detector model\n",
    "    \n",
    "    Fit method calculates centroid of training samples and\n",
    "    using `metric` get distances from centroid to train samples.\n",
    "    Having distances - we calculate `threshold` based on `percentile`.\n",
    "    \n",
    "    Predict method uses `threshold` and `metric` to determine, whether\n",
    "    distance to sample from centroid is too large -> outlier.\n",
    "    \n",
    "    -----------\n",
    "    Parameters:\n",
    "    \n",
    "    - metric: string, default - euclidean\n",
    "        metric to use for distance calculation (see scipy.spatial.distance.cdist)\n",
    "        \n",
    "    - percentile: float in range [0, 100]\n",
    "        hyperparameter which sets the threshold for anomalies\n",
    "    \"\"\"\n",
    "    def __init__(self, metric='euclidean', percentile=90):\n",
    "        self.metric = metric\n",
    "        self.percentile = percentile\n",
    "        \n",
    "    def fit(self, X):\n",
    "        self.centroid = np.mean(X, axis=0).values.reshape(-1, 1).T\n",
    "        distances_train = cdist(self.centroid, X, metric=self.metric).reshape(-1)\n",
    "        self.threshold = np.percentile(distances_train, self.percentile)\n",
    "        \n",
    "    def predict(self, X):\n",
    "        distances = cdist(self.centroid, X, metric=self.metric).reshape(-1)\n",
    "        predictions = (distances > self.threshold).astype(int)\n",
    "        return predictions"
   ]
  },
  {
   "cell_type": "code",
   "execution_count": null,
   "metadata": {},
   "outputs": [],
   "source": [
    "# # Since we are dealing with distances, you need to make sure that all data is on the same scale\n",
    "\n",
    "# from sklearn.preprocessing import RobustScaler\n",
    "\n",
    "# scaler = RobustScaler()\n",
    "# scaled_data = pd.DataFrame(\n",
    "#     data=scaler.fit_transform(data_features), \n",
    "#     columns=data_features.columns\n",
    "# )"
   ]
  },
  {
   "cell_type": "code",
   "execution_count": null,
   "metadata": {},
   "outputs": [],
   "source": [
    "from sklearn.manifold import TSNE\n",
    "tsne = TSNE(perplexity=50)\n",
    "tsne_transformed = tsne.fit_transform(data)\n",
    "\n",
    "plt.figure(figsize=(10, 10))\n",
    "plt.scatter(tsne_transformed[:, 0], tsne_transformed[:, 1]);"
   ]
  },
  {
   "cell_type": "code",
   "execution_count": null,
   "metadata": {},
   "outputs": [],
   "source": [
    "euclidian_model = DistanceOutliers(metric='euclidean', percentile=90)\n",
    "euclidian_model.fit(data)\n",
    "euclidian_outliers = euclidian_model.predict(data)\n",
    "anomalies_report(euclidian_outliers)"
   ]
  },
  {
   "cell_type": "code",
   "execution_count": null,
   "metadata": {},
   "outputs": [],
   "source": [
    "plt.figure(figsize=(10, 10))\n",
    "plt.scatter(tsne_transformed[:, 0], tsne_transformed[:, 1], c=euclidian_outliers);"
   ]
  },
  {
   "cell_type": "code",
   "execution_count": null,
   "metadata": {},
   "outputs": [],
   "source": [
    "citiblock_model = DistanceOutliers(metric='cityblock', percentile=90)\n",
    "citiblock_model.fit(data)\n",
    "cityblock_outliers = citiblock_model.predict(data)\n",
    "anomalies_report(cityblock_outliers)\n",
    "\n",
    "\n",
    "plt.figure(figsize=(10, 10))\n",
    "plt.scatter(tsne_transformed[:, 0], tsne_transformed[:, 1], c=cityblock_outliers);"
   ]
  },
  {
   "cell_type": "markdown",
   "metadata": {},
   "source": [
    "### **Density-based**\n",
    "\n",
    "\n",
    "#### **DBSCAN**"
   ]
  },
  {
   "cell_type": "code",
   "execution_count": null,
   "metadata": {},
   "outputs": [],
   "source": [
    "from sklearn.cluster import DBSCAN\n",
    "\n",
    "outlier_percentage = 1.\n",
    "\n",
    "num_clusters = []\n",
    "anomaly_percentage = []\n",
    "\n",
    "eps = 0.05\n",
    "eps_history = [eps]\n",
    "while outlier_percentage>0.1:    \n",
    "    model = DBSCAN(eps=eps).fit(data)\n",
    "    labels = model.labels_\n",
    "    num_clusters.append(len(np.unique(labels))-1)\n",
    "    labels = np.array([1 if label == -1 else 0 for label in labels])\n",
    "    outlier_percentage = sum(labels==1) / len(labels)    \n",
    "    eps += 0.05\n",
    "    eps_history.append(eps)\n",
    "    anomaly_percentage.append(outlier_percentage)\n",
    "    \n",
    "model = DBSCAN(eps)\n",
    "model.fit(data)\n",
    "density_outlier = np.array([1 if label == -1 else 0 for label in model.labels_])"
   ]
  },
  {
   "cell_type": "code",
   "execution_count": null,
   "metadata": {},
   "outputs": [],
   "source": [
    "anomalies_report(density_outlier)"
   ]
  },
  {
   "cell_type": "code",
   "execution_count": null,
   "metadata": {},
   "outputs": [],
   "source": [
    "iterations = eps_history[:-1]\n",
    "\n",
    "fig, ax1 = plt.subplots()\n",
    "\n",
    "color = 'tab:red'\n",
    "ax1.set_xlabel('epsilon')\n",
    "ax1.set_ylabel('number of clusters', color=color)\n",
    "ax1.plot(iterations, num_clusters, color=color)\n",
    "ax1.tick_params(axis='y', labelcolor=color)\n",
    "\n",
    "ax2 = ax1.twinx()  # instantiate a second axes that shares the same x-axis\n",
    "\n",
    "color = 'tab:blue'\n",
    "ax2.set_ylabel('anomaly percentage', color=color)  # we already handled the x-label with ax1\n",
    "ax2.plot(iterations, anomaly_percentage, color=color)\n",
    "ax2.tick_params(axis='y', labelcolor=color)\n",
    "\n",
    "fig.tight_layout()  # otherwise the right y-label is slightly clipped\n",
    "plt.show()"
   ]
  },
  {
   "cell_type": "code",
   "execution_count": null,
   "metadata": {},
   "outputs": [],
   "source": [
    "# labeled_data = data_features.copy()\n",
    "# labeled_data['is_outlier'] = density_outlier\n",
    "\n",
    "# sns.pairplot(data=labeled_data, vars = other_features,\n",
    "#              hue='is_outlier', hue_order=[1, 0],\n",
    "#              markers=['x', 'o'],  palette='bright');"
   ]
  },
  {
   "cell_type": "code",
   "execution_count": null,
   "metadata": {},
   "outputs": [],
   "source": []
  },
  {
   "cell_type": "markdown",
   "metadata": {},
   "source": [
    "## **Unsupervised model-based**"
   ]
  },
  {
   "cell_type": "code",
   "execution_count": null,
   "metadata": {},
   "outputs": [],
   "source": [
    "from sklearn.svm import OneClassSVM\n",
    "\n",
    "one_class_svm = OneClassSVM(nu=0.1, gamma='auto')\n",
    "one_class_svm.fit(data)\n",
    "svm_outliers = one_class_svm.predict(data)\n",
    "svm_outliers = np.array([1 if label == -1 else 0 for label in svm_outliers])"
   ]
  },
  {
   "cell_type": "code",
   "execution_count": null,
   "metadata": {},
   "outputs": [],
   "source": [
    "anomalies_report(svm_outliers)"
   ]
  },
  {
   "cell_type": "markdown",
   "metadata": {},
   "source": [
    "###  **Isolation Forest** "
   ]
  },
  {
   "cell_type": "code",
   "execution_count": null,
   "metadata": {},
   "outputs": [],
   "source": [
    "from sklearn.ensemble import IsolationForest\n",
    "\n",
    "isolation_forest = IsolationForest(n_estimators=100, contamination=0.1, \n",
    "                                   max_features=1.0, bootstrap=True, behaviour=\"new\")\n",
    "isolation_forest.fit(data)\n",
    "\n",
    "isolation_outliers = isolation_forest.predict(data)\n",
    "isolation_outliers = np.array([1 if label == -1 else 0 for label in isolation_outliers])"
   ]
  },
  {
   "cell_type": "code",
   "execution_count": null,
   "metadata": {},
   "outputs": [],
   "source": [
    "anomalies_report(isolation_outliers)"
   ]
  },
  {
   "cell_type": "markdown",
   "metadata": {},
   "source": [
    "# **Final comparison**"
   ]
  },
  {
   "cell_type": "code",
   "execution_count": null,
   "metadata": {},
   "outputs": [],
   "source": [
    "summary = np.concatenate((\n",
    "    [std_outliers], \n",
    "    [iqr_outliers], \n",
    "    [euclidian_outliers], \n",
    "    [cityblock_outliers],\n",
    "    [density_outlier],\n",
    "    [svm_outliers],\n",
    "    [isolation_outliers]\n",
    "))"
   ]
  },
  {
   "cell_type": "code",
   "execution_count": null,
   "metadata": {},
   "outputs": [],
   "source": [
    "summary = pd.DataFrame(\n",
    "    summary.T, \n",
    "    columns=['std', 'iqr', 'euclid', 'cityblock', 'dbscan', 'svm', 'isolation']\n",
    ")\n",
    "summary.head(3)"
   ]
  },
  {
   "cell_type": "code",
   "execution_count": null,
   "metadata": {},
   "outputs": [],
   "source": [
    "summary.sum(axis=1).value_counts()"
   ]
  },
  {
   "cell_type": "code",
   "execution_count": null,
   "metadata": {
    "scrolled": true
   },
   "outputs": [],
   "source": [
    "outlier_score = summary.mean(axis=1)\n",
    "plt.hist(outlier_score, alpha=0.6);"
   ]
  },
  {
   "cell_type": "markdown",
   "metadata": {},
   "source": [
    "### Save MASK for cleaning outlier in File. ( filter  value < 7)"
   ]
  },
  {
   "cell_type": "code",
   "execution_count": null,
   "metadata": {},
   "outputs": [],
   "source": [
    "\n",
    "summary.to_csv('my_summary_outlier_mask.csv') # save as csv file (sum.Max = 7)"
   ]
  },
  {
   "cell_type": "markdown",
   "metadata": {},
   "source": [
    "## **All combined**"
   ]
  },
  {
   "cell_type": "code",
   "execution_count": null,
   "metadata": {},
   "outputs": [],
   "source": [
    "simple_score = outlier_score.apply(lambda x: 0 if x < 0.4 else 0.5 if x < 0.8 else 1)\n",
    "\n",
    "labeled_data = data_features.copy()\n",
    "labeled_data['outlier_score'] = simple_score\n",
    "\n",
    "custom_palette = {0:'g', 0.5:'b', 1.0:'r'}\n",
    "\n",
    "sns.pairplot(data=labeled_data, vars=other_features, \n",
    "             hue='outlier_score',\n",
    "             hue_order=[1, 0.5, 0],\n",
    "             palette=custom_palette\n",
    ")"
   ]
  },
  {
   "cell_type": "markdown",
   "metadata": {},
   "source": [
    "## **Just model based**"
   ]
  },
  {
   "cell_type": "code",
   "execution_count": null,
   "metadata": {},
   "outputs": [],
   "source": [
    "outliers_score_model_based = summary[['dbscan', 'svm', 'isolation']].sum(axis=1)\n",
    "plt.hist(outliers_score_model_based, alpha=0.6);\n",
    "outliers_score_model_based.value_counts()"
   ]
  },
  {
   "cell_type": "code",
   "execution_count": null,
   "metadata": {},
   "outputs": [],
   "source": [
    "labeled_data = data_features.copy()\n",
    "labeled_data['outlier_score'] = outliers_score_model_based\n",
    "\n",
    "custom_palette = {0:'g', 1:'y', 2:'b', 3:'r'}\n",
    "\n",
    "sns.pairplot(data=labeled_data, vars=other_features, \n",
    "             hue='outlier_score',\n",
    "             hue_order=[3, 2, 1, 0],\n",
    "             palette=custom_palette\n",
    ")"
   ]
  },
  {
   "cell_type": "code",
   "execution_count": 27,
   "metadata": {},
   "outputs": [
    {
     "data": {
      "text/html": [
       "<div>\n",
       "<style scoped>\n",
       "    .dataframe tbody tr th:only-of-type {\n",
       "        vertical-align: middle;\n",
       "    }\n",
       "\n",
       "    .dataframe tbody tr th {\n",
       "        vertical-align: top;\n",
       "    }\n",
       "\n",
       "    .dataframe thead th {\n",
       "        text-align: right;\n",
       "    }\n",
       "</style>\n",
       "<table border=\"1\" class=\"dataframe\">\n",
       "  <thead>\n",
       "    <tr style=\"text-align: right;\">\n",
       "      <th></th>\n",
       "      <th>Unnamed: 0</th>\n",
       "      <th>std</th>\n",
       "      <th>iqr</th>\n",
       "      <th>euclid</th>\n",
       "      <th>cityblock</th>\n",
       "      <th>dbscan</th>\n",
       "      <th>svm</th>\n",
       "      <th>isolation</th>\n",
       "    </tr>\n",
       "  </thead>\n",
       "  <tbody>\n",
       "    <tr>\n",
       "      <th>0</th>\n",
       "      <td>0</td>\n",
       "      <td>0</td>\n",
       "      <td>1</td>\n",
       "      <td>0</td>\n",
       "      <td>0</td>\n",
       "      <td>0</td>\n",
       "      <td>0</td>\n",
       "      <td>0</td>\n",
       "    </tr>\n",
       "    <tr>\n",
       "      <th>1</th>\n",
       "      <td>1</td>\n",
       "      <td>1</td>\n",
       "      <td>1</td>\n",
       "      <td>1</td>\n",
       "      <td>1</td>\n",
       "      <td>1</td>\n",
       "      <td>1</td>\n",
       "      <td>1</td>\n",
       "    </tr>\n",
       "    <tr>\n",
       "      <th>2</th>\n",
       "      <td>2</td>\n",
       "      <td>0</td>\n",
       "      <td>0</td>\n",
       "      <td>0</td>\n",
       "      <td>0</td>\n",
       "      <td>0</td>\n",
       "      <td>0</td>\n",
       "      <td>0</td>\n",
       "    </tr>\n",
       "    <tr>\n",
       "      <th>3</th>\n",
       "      <td>3</td>\n",
       "      <td>0</td>\n",
       "      <td>1</td>\n",
       "      <td>0</td>\n",
       "      <td>0</td>\n",
       "      <td>0</td>\n",
       "      <td>0</td>\n",
       "      <td>0</td>\n",
       "    </tr>\n",
       "    <tr>\n",
       "      <th>4</th>\n",
       "      <td>4</td>\n",
       "      <td>0</td>\n",
       "      <td>0</td>\n",
       "      <td>0</td>\n",
       "      <td>0</td>\n",
       "      <td>0</td>\n",
       "      <td>0</td>\n",
       "      <td>0</td>\n",
       "    </tr>\n",
       "  </tbody>\n",
       "</table>\n",
       "</div>"
      ],
      "text/plain": [
       "   Unnamed: 0  std  iqr  euclid  cityblock  dbscan  svm  isolation\n",
       "0           0    0    1       0          0       0    0          0\n",
       "1           1    1    1       1          1       1    1          1\n",
       "2           2    0    0       0          0       0    0          0\n",
       "3           3    0    1       0          0       0    0          0\n",
       "4           4    0    0       0          0       0    0          0"
      ]
     },
     "execution_count": 27,
     "metadata": {},
     "output_type": "execute_result"
    }
   ],
   "source": [
    "summary = pd.read_csv('my_summary_outlier_mask.csv')\n",
    "summary.head()"
   ]
  },
  {
   "cell_type": "code",
   "execution_count": 28,
   "metadata": {},
   "outputs": [
    {
     "data": {
      "text/plain": [
       "((29304, 8), (29304, 15))"
      ]
     },
     "execution_count": 28,
     "metadata": {},
     "output_type": "execute_result"
    }
   ],
   "source": [
    "summary.shape, data.shape"
   ]
  },
  {
   "cell_type": "code",
   "execution_count": 29,
   "metadata": {},
   "outputs": [],
   "source": [
    "summary.drop('Unnamed: 0', axis = 1, inplace = True)"
   ]
  },
  {
   "cell_type": "code",
   "execution_count": 31,
   "metadata": {},
   "outputs": [
    {
     "data": {
      "text/plain": [
       "0    11999\n",
       "1     9893\n",
       "2     2399\n",
       "3     1934\n",
       "4     1108\n",
       "5     1004\n",
       "7      489\n",
       "6      478\n",
       "dtype: int64"
      ]
     },
     "execution_count": 31,
     "metadata": {},
     "output_type": "execute_result"
    }
   ],
   "source": [
    "summary.sum(axis=1).value_counts()"
   ]
  },
  {
   "cell_type": "code",
   "execution_count": 32,
   "metadata": {},
   "outputs": [],
   "source": [
    "mask_clear_all = summary.sum(axis=1) < 6"
   ]
  },
  {
   "cell_type": "code",
   "execution_count": 35,
   "metadata": {},
   "outputs": [
    {
     "data": {
      "text/plain": [
       "0         True\n",
       "1        False\n",
       "2         True\n",
       "3         True\n",
       "4         True\n",
       "         ...  \n",
       "29299     True\n",
       "29300     True\n",
       "29301     True\n",
       "29302     True\n",
       "29303     True\n",
       "Length: 29304, dtype: bool"
      ]
     },
     "execution_count": 35,
     "metadata": {},
     "output_type": "execute_result"
    }
   ],
   "source": [
    "mask_clear_all"
   ]
  },
  {
   "cell_type": "code",
   "execution_count": 34,
   "metadata": {},
   "outputs": [
    {
     "name": "stderr",
     "output_type": "stream",
     "text": [
      "/opt/anaconda3/lib/python3.7/site-packages/ipykernel_launcher.py:1: UserWarning: Boolean Series key will be reindexed to match DataFrame index.\n",
      "  \"\"\"Entry point for launching an IPython kernel.\n"
     ]
    },
    {
     "ename": "IndexingError",
     "evalue": "Unalignable boolean Series provided as indexer (index of the boolean Series and of the indexed object do not match).",
     "output_type": "error",
     "traceback": [
      "\u001b[0;31m---------------------------------------------------------------------------\u001b[0m",
      "\u001b[0;31mIndexingError\u001b[0m                             Traceback (most recent call last)",
      "\u001b[0;32m<ipython-input-34-7f4cf3188be2>\u001b[0m in \u001b[0;36m<module>\u001b[0;34m\u001b[0m\n\u001b[0;32m----> 1\u001b[0;31m \u001b[0mdata\u001b[0m\u001b[0;34m[\u001b[0m\u001b[0mmask_clear_all\u001b[0m\u001b[0;34m]\u001b[0m\u001b[0;34m\u001b[0m\u001b[0;34m\u001b[0m\u001b[0m\n\u001b[0m",
      "\u001b[0;32m~/.local/lib/python3.7/site-packages/pandas/core/frame.py\u001b[0m in \u001b[0;36m__getitem__\u001b[0;34m(self, key)\u001b[0m\n\u001b[1;32m   2789\u001b[0m         \u001b[0;31m# Do we have a (boolean) 1d indexer?\u001b[0m\u001b[0;34m\u001b[0m\u001b[0;34m\u001b[0m\u001b[0;34m\u001b[0m\u001b[0m\n\u001b[1;32m   2790\u001b[0m         \u001b[0;32mif\u001b[0m \u001b[0mcom\u001b[0m\u001b[0;34m.\u001b[0m\u001b[0mis_bool_indexer\u001b[0m\u001b[0;34m(\u001b[0m\u001b[0mkey\u001b[0m\u001b[0;34m)\u001b[0m\u001b[0;34m:\u001b[0m\u001b[0;34m\u001b[0m\u001b[0;34m\u001b[0m\u001b[0m\n\u001b[0;32m-> 2791\u001b[0;31m             \u001b[0;32mreturn\u001b[0m \u001b[0mself\u001b[0m\u001b[0;34m.\u001b[0m\u001b[0m_getitem_bool_array\u001b[0m\u001b[0;34m(\u001b[0m\u001b[0mkey\u001b[0m\u001b[0;34m)\u001b[0m\u001b[0;34m\u001b[0m\u001b[0;34m\u001b[0m\u001b[0m\n\u001b[0m\u001b[1;32m   2792\u001b[0m \u001b[0;34m\u001b[0m\u001b[0m\n\u001b[1;32m   2793\u001b[0m         \u001b[0;31m# We are left with two options: a single key, and a collection of keys,\u001b[0m\u001b[0;34m\u001b[0m\u001b[0;34m\u001b[0m\u001b[0;34m\u001b[0m\u001b[0m\n",
      "\u001b[0;32m~/.local/lib/python3.7/site-packages/pandas/core/frame.py\u001b[0m in \u001b[0;36m_getitem_bool_array\u001b[0;34m(self, key)\u001b[0m\n\u001b[1;32m   2841\u001b[0m         \u001b[0;31m# check_bool_indexer will throw exception if Series key cannot\u001b[0m\u001b[0;34m\u001b[0m\u001b[0;34m\u001b[0m\u001b[0;34m\u001b[0m\u001b[0m\n\u001b[1;32m   2842\u001b[0m         \u001b[0;31m# be reindexed to match DataFrame rows\u001b[0m\u001b[0;34m\u001b[0m\u001b[0;34m\u001b[0m\u001b[0;34m\u001b[0m\u001b[0m\n\u001b[0;32m-> 2843\u001b[0;31m         \u001b[0mkey\u001b[0m \u001b[0;34m=\u001b[0m \u001b[0mcheck_bool_indexer\u001b[0m\u001b[0;34m(\u001b[0m\u001b[0mself\u001b[0m\u001b[0;34m.\u001b[0m\u001b[0mindex\u001b[0m\u001b[0;34m,\u001b[0m \u001b[0mkey\u001b[0m\u001b[0;34m)\u001b[0m\u001b[0;34m\u001b[0m\u001b[0;34m\u001b[0m\u001b[0m\n\u001b[0m\u001b[1;32m   2844\u001b[0m         \u001b[0mindexer\u001b[0m \u001b[0;34m=\u001b[0m \u001b[0mkey\u001b[0m\u001b[0;34m.\u001b[0m\u001b[0mnonzero\u001b[0m\u001b[0;34m(\u001b[0m\u001b[0;34m)\u001b[0m\u001b[0;34m[\u001b[0m\u001b[0;36m0\u001b[0m\u001b[0;34m]\u001b[0m\u001b[0;34m\u001b[0m\u001b[0;34m\u001b[0m\u001b[0m\n\u001b[1;32m   2845\u001b[0m         \u001b[0;32mreturn\u001b[0m \u001b[0mself\u001b[0m\u001b[0;34m.\u001b[0m\u001b[0m_take_with_is_copy\u001b[0m\u001b[0;34m(\u001b[0m\u001b[0mindexer\u001b[0m\u001b[0;34m,\u001b[0m \u001b[0maxis\u001b[0m\u001b[0;34m=\u001b[0m\u001b[0;36m0\u001b[0m\u001b[0;34m)\u001b[0m\u001b[0;34m\u001b[0m\u001b[0;34m\u001b[0m\u001b[0m\n",
      "\u001b[0;32m~/.local/lib/python3.7/site-packages/pandas/core/indexing.py\u001b[0m in \u001b[0;36mcheck_bool_indexer\u001b[0;34m(index, key)\u001b[0m\n\u001b[1;32m   2316\u001b[0m         \u001b[0;32mif\u001b[0m \u001b[0mmask\u001b[0m\u001b[0;34m.\u001b[0m\u001b[0many\u001b[0m\u001b[0;34m(\u001b[0m\u001b[0;34m)\u001b[0m\u001b[0;34m:\u001b[0m\u001b[0;34m\u001b[0m\u001b[0;34m\u001b[0m\u001b[0m\n\u001b[1;32m   2317\u001b[0m             raise IndexingError(\n\u001b[0;32m-> 2318\u001b[0;31m                 \u001b[0;34m\"Unalignable boolean Series provided as \"\u001b[0m\u001b[0;34m\u001b[0m\u001b[0;34m\u001b[0m\u001b[0m\n\u001b[0m\u001b[1;32m   2319\u001b[0m                 \u001b[0;34m\"indexer (index of the boolean Series and of \"\u001b[0m\u001b[0;34m\u001b[0m\u001b[0;34m\u001b[0m\u001b[0m\n\u001b[1;32m   2320\u001b[0m                 \u001b[0;34m\"the indexed object do not match).\"\u001b[0m\u001b[0;34m\u001b[0m\u001b[0;34m\u001b[0m\u001b[0m\n",
      "\u001b[0;31mIndexingError\u001b[0m: Unalignable boolean Series provided as indexer (index of the boolean Series and of the indexed object do not match)."
     ]
    }
   ],
   "source": [
    "data[mask_clear_all]"
   ]
  },
  {
   "cell_type": "code",
   "execution_count": null,
   "metadata": {},
   "outputs": [],
   "source": [
    "# df[mask_clear_all]"
   ]
  },
  {
   "cell_type": "code",
   "execution_count": null,
   "metadata": {},
   "outputs": [],
   "source": [
    "# mask_clear_model = outliers_score_model_based < 3"
   ]
  },
  {
   "cell_type": "code",
   "execution_count": null,
   "metadata": {},
   "outputs": [],
   "source": [
    "# mask_clear_model.value_counts()"
   ]
  },
  {
   "cell_type": "code",
   "execution_count": null,
   "metadata": {},
   "outputs": [],
   "source": [
    "# df[mask_clear_model]"
   ]
  },
  {
   "cell_type": "code",
   "execution_count": null,
   "metadata": {},
   "outputs": [],
   "source": [
    "# data"
   ]
  },
  {
   "cell_type": "markdown",
   "metadata": {},
   "source": [
    "#  Data for modeling"
   ]
  },
  {
   "cell_type": "code",
   "execution_count": 13,
   "metadata": {},
   "outputs": [],
   "source": [
    "X_df = data.drop(['target'], axis = 1)\n",
    "y_df = data['target']"
   ]
  },
  {
   "cell_type": "code",
   "execution_count": 14,
   "metadata": {},
   "outputs": [],
   "source": [
    "X_train, X_test, y_train, y_test = train_test_split(\n",
    "    X_df,\n",
    "    y_df,\n",
    "    test_size=0.20,\n",
    "    random_state=42)"
   ]
  },
  {
   "cell_type": "markdown",
   "metadata": {},
   "source": [
    "## RandomForest Base model"
   ]
  },
  {
   "cell_type": "code",
   "execution_count": 15,
   "metadata": {},
   "outputs": [
    {
     "name": "stderr",
     "output_type": "stream",
     "text": [
      "/opt/anaconda3/lib/python3.7/site-packages/sklearn/ensemble/forest.py:245: FutureWarning: The default value of n_estimators will change from 10 in version 0.20 to 100 in 0.22.\n",
      "  \"10 in version 0.20 to 100 in 0.22.\", FutureWarning)\n",
      "/opt/anaconda3/lib/python3.7/site-packages/sklearn/ensemble/forest.py:460: UserWarning: Some inputs do not have OOB scores. This probably means too few trees were used to compute any reliable oob estimates.\n",
      "  warn(\"Some inputs do not have OOB scores. \"\n",
      "/opt/anaconda3/lib/python3.7/site-packages/sklearn/ensemble/forest.py:465: RuntimeWarning: divide by zero encountered in true_divide\n",
      "  predictions[k].sum(axis=1)[:, np.newaxis])\n",
      "/opt/anaconda3/lib/python3.7/site-packages/sklearn/ensemble/forest.py:465: RuntimeWarning: invalid value encountered in true_divide\n",
      "  predictions[k].sum(axis=1)[:, np.newaxis])\n"
     ]
    },
    {
     "data": {
      "text/plain": [
       "RandomForestClassifier(bootstrap=True, class_weight=None, criterion='gini',\n",
       "                       max_depth=None, max_features='auto', max_leaf_nodes=None,\n",
       "                       min_impurity_decrease=0.0, min_impurity_split=None,\n",
       "                       min_samples_leaf=1, min_samples_split=2,\n",
       "                       min_weight_fraction_leaf=0.0, n_estimators=10,\n",
       "                       n_jobs=None, oob_score=True, random_state=None,\n",
       "                       verbose=0, warm_start=False)"
      ]
     },
     "execution_count": 15,
     "metadata": {},
     "output_type": "execute_result"
    }
   ],
   "source": [
    "model_rf = RandomForestClassifier(oob_score=True)\n",
    "model_rf.fit(X_train, y_train)"
   ]
  },
  {
   "cell_type": "code",
   "execution_count": 16,
   "metadata": {},
   "outputs": [],
   "source": [
    "y_pred = model_rf.predict(X_test)"
   ]
  },
  {
   "cell_type": "code",
   "execution_count": 17,
   "metadata": {},
   "outputs": [
    {
     "name": "stdout",
     "output_type": "stream",
     "text": [
      "Sklearn RandomForest Classifier :\n",
      "----------------------------\n",
      " - ROC AUC _score:  0.88306\n",
      "----------------------------\n",
      " - accuracy_score:  0.85327\n",
      " - f1_score:  0.65710\n"
     ]
    }
   ],
   "source": [
    "# accuracy score for base model (without hyperparameters tuning)\n",
    "\n",
    "y_pred_rf = model_rf.predict(X_test)\n",
    "\n",
    "# calculate the AUC\n",
    "y_pred_prob_rf = model_rf.predict_proba(X_test)\n",
    "fpr, tpr, thresholds = roc_curve(y_true=y_test, y_score=y_pred_prob_rf[:,1], pos_label=1)\n",
    "\n",
    "roc_auc = auc(fpr, tpr)\n",
    "\n",
    "print(\"Sklearn RandomForest Classifier :\")\n",
    "print('----------------------------')\n",
    "print(f\" - ROC AUC _score: {roc_auc: .5f}\")\n",
    "print('----------------------------')\n",
    "print(f\" - accuracy_score: {accuracy_score(y_test, y_pred_rf): .5f}\")\n",
    "print(f\" - f1_score: {f1_score(y_test, y_pred_rf): .5f}\")"
   ]
  },
  {
   "cell_type": "code",
   "execution_count": 24,
   "metadata": {},
   "outputs": [
    {
     "data": {
      "image/png": "[encoded data removed]",
      "text/plain": [
       "<Figure size 432x288 with 1 Axes>"
      ]
     },
     "metadata": {
      "needs_background": "light"
     },
     "output_type": "display_data"
    }
   ],
   "source": [
    "plt.step(fpr, tpr)\n",
    "plt.title('ROC Curve')\n",
    "plt.xlabel('FPR')\n",
    "plt.ylabel('TPR')\n",
    "plt.show()"
   ]
  },
  {
   "cell_type": "code",
   "execution_count": 25,
   "metadata": {},
   "outputs": [],
   "source": [
    "importances = model_rf.feature_importances_\n",
    "indices = np.argsort(importances)[::-1] "
   ]
  },
  {
   "cell_type": "code",
   "execution_count": 26,
   "metadata": {},
   "outputs": [
    {
     "data": {
      "image/png": "[encoded data removed]",
      "text/plain": [
       "<Figure size 720x1008 with 1 Axes>"
      ]
     },
     "metadata": {
      "needs_background": "light"
     },
     "output_type": "display_data"
    }
   ],
   "source": [
    "plt.figure(figsize=(10,14))\n",
    "plt.barh(X_train.columns[indices], importances[indices])\n",
    "plt.title('Random Forest Feature Importances')\n",
    "plt.show()"
   ]
  },
  {
   "cell_type": "markdown",
   "metadata": {},
   "source": [
    "###  RandomForestClassifier + GridSearchCV"
   ]
  },
  {
   "cell_type": "code",
   "execution_count": null,
   "metadata": {},
   "outputs": [],
   "source": [
    "parameters = {\n",
    "    'bootstrap': [True], \n",
    "    'criterion': ['gini', 'entropy'],\n",
    "    'n_estimators' : [200, 210, 220],\n",
    "    'max_depth': list(range( 10, 15 ))}"
   ]
  },
  {
   "cell_type": "code",
   "execution_count": null,
   "metadata": {},
   "outputs": [],
   "source": [
    "base_model = RandomForestClassifier()\n",
    "gs_model = GridSearchCV(\n",
    "    base_model, \n",
    "    parameters, \n",
    "    verbose=False,\n",
    "    scoring='roc_auc')"
   ]
  },
  {
   "cell_type": "code",
   "execution_count": null,
   "metadata": {},
   "outputs": [],
   "source": [
    "gs_model.fit(X_train, y_train)"
   ]
  },
  {
   "cell_type": "code",
   "execution_count": null,
   "metadata": {},
   "outputs": [],
   "source": [
    "gs_model.best_params_"
   ]
  },
  {
   "cell_type": "code",
   "execution_count": null,
   "metadata": {},
   "outputs": [],
   "source": [
    "gs_model.best_score_"
   ]
  },
  {
   "cell_type": "code",
   "execution_count": null,
   "metadata": {},
   "outputs": [],
   "source": [
    "gs_model.best_estimator_"
   ]
  },
  {
   "cell_type": "code",
   "execution_count": null,
   "metadata": {},
   "outputs": [],
   "source": [
    "y_pred_gs = gs_model.predict(X_test)"
   ]
  },
  {
   "cell_type": "code",
   "execution_count": null,
   "metadata": {},
   "outputs": [],
   "source": [
    "# accuracy score for model with GS\n",
    "\n",
    "y_pred_gs = gs_model.predict(X_test)\n",
    "\n",
    "# calculate the AUC\n",
    "y_pred_prob_gs = gs_model.predict_proba(X_test)\n",
    "fpr, tpr, thresholds = roc_curve(y_true=y_test, y_score=y_pred_prob_gs[:,1], pos_label=1)\n",
    "\n",
    "roc_auc = auc(fpr, tpr)\n",
    "\n",
    "print(\"Sklearn RandomForest Classifier :\")\n",
    "print('----------------------------')\n",
    "print(f\" - ROC AUC _score: {roc_auc: .5f}\")\n",
    "print('----------------------------')\n",
    "print(f\" - accuracy_score: {accuracy_score(y_test, y_pred_gs): .5f}\")\n",
    "print(f\" - f1_score: {f1_score(y_test, y_pred_gs): .5f}\")"
   ]
  },
  {
   "cell_type": "markdown",
   "metadata": {},
   "source": [
    "## Bagging"
   ]
  },
  {
   "cell_type": "code",
   "execution_count": null,
   "metadata": {},
   "outputs": [],
   "source": [
    "clf_bagging = BaggingClassifier(n_estimators=120)"
   ]
  },
  {
   "cell_type": "code",
   "execution_count": null,
   "metadata": {},
   "outputs": [],
   "source": [
    "clf_bagging.fit(X_train, y_train)\n",
    "y_pred_bagging = clf_bagging.predict(X_test)\n",
    "\n",
    "# calculate the AUC\n",
    "y_pred_prob_bagging = clf_bagging.predict_proba(X_test)\n",
    "fpr, tpr, thresholds = roc_curve(y_true=y_test, y_score=y_pred_prob_bagging[:,1], pos_label=1)\n",
    "\n",
    "roc_auc = auc(fpr, tpr)\n",
    "\n",
    "print(\"Sklearn Bagging classifier:\")\n",
    "print('----------------------------')\n",
    "print(f\" - ROC AUC _score: {roc_auc: .5f}\")\n",
    "print('----------------------------')\n",
    "print(f\" - accuracy_score: {accuracy_score(y_test, y_pred_bagging): .5f}\")\n",
    "print(f\" - f1_score: {f1_score(y_test, y_pred_bagging): .5f}\")"
   ]
  },
  {
   "cell_type": "code",
   "execution_count": null,
   "metadata": {},
   "outputs": [],
   "source": []
  },
  {
   "cell_type": "markdown",
   "metadata": {},
   "source": [
    "###  AdaBoostClassifier "
   ]
  },
  {
   "cell_type": "code",
   "execution_count": 18,
   "metadata": {},
   "outputs": [],
   "source": [
    "from sklearn.ensemble import AdaBoostClassifier\n",
    "from sklearn.tree import DecisionTreeClassifier"
   ]
  },
  {
   "cell_type": "code",
   "execution_count": 19,
   "metadata": {},
   "outputs": [],
   "source": [
    "# Adaboost\n",
    "clf_ada = AdaBoostClassifier(\n",
    "    DecisionTreeClassifier(max_depth=1),\n",
    "    n_estimators=150,\n",
    "    learning_rate=1.2\n",
    ")"
   ]
  },
  {
   "cell_type": "code",
   "execution_count": 20,
   "metadata": {},
   "outputs": [
    {
     "name": "stdout",
     "output_type": "stream",
     "text": [
      "Sklearn AdaBoost classifier:\n",
      "----------------------------\n",
      " - ROC AUC _score:  0.91944\n",
      "----------------------------\n",
      " - accuracy_score:  0.87050\n",
      " - f1_score:  0.70130\n"
     ]
    }
   ],
   "source": [
    "clf_ada.fit(X_train, y_train)\n",
    "y_pred_ada = clf_ada.predict(X_test)\n",
    "\n",
    "# calculate the AUC\n",
    "y_pred_prob_ada = clf_ada.predict_proba(X_test)\n",
    "fpr, tpr, thresholds = roc_curve(y_true=y_test, y_score=y_pred_prob_ada[:,1], pos_label=1)\n",
    "\n",
    "roc_auc = auc(fpr, tpr)\n",
    "\n",
    "print(\"Sklearn AdaBoost classifier:\")\n",
    "print('----------------------------')\n",
    "print(f\" - ROC AUC _score: {roc_auc: .5f}\")\n",
    "print('----------------------------')\n",
    "print(f\" - accuracy_score: {accuracy_score(y_test, y_pred_ada): .5f}\")\n",
    "print(f\" - f1_score: {f1_score(y_test, y_pred_ada): .5f}\")"
   ]
  },
  {
   "cell_type": "markdown",
   "metadata": {},
   "source": [
    "### SVM"
   ]
  },
  {
   "cell_type": "code",
   "execution_count": null,
   "metadata": {},
   "outputs": [],
   "source": [
    "from sklearn.svm import SVC as svm\n",
    "from sklearn.metrics import classification_report, confusion_matrix"
   ]
  },
  {
   "cell_type": "code",
   "execution_count": null,
   "metadata": {},
   "outputs": [],
   "source": [
    "# clf = svm(C=1, kernel='rbf', gamma= 'auto', probability=True)\n",
    "clf = svm(probability=True)"
   ]
  },
  {
   "cell_type": "code",
   "execution_count": null,
   "metadata": {},
   "outputs": [],
   "source": [
    "clf.fit(X_train, y_train)"
   ]
  },
  {
   "cell_type": "code",
   "execution_count": null,
   "metadata": {},
   "outputs": [],
   "source": [
    "y_pred_svm = clf.predict(X_test)\n",
    "\n",
    "#calculate the AUC\n",
    "y_pred_prob_svm = clf.predict_proba(X_test)\n",
    "fpr, tpr, thresholds = roc_curve(y_true=y_test, y_score=y_pred_prob_svm[:,1], pos_label=1)\n",
    "\n",
    "roc_auc = auc(fpr, tpr)\n",
    "\n",
    "print(\"Sklearn SVClassifier:\")\n",
    "print('----------------------------')\n",
    "print(f\" - ROC AUC _score: {roc_auc: .5f}\")\n",
    "print('----------------------------')\n",
    "print(f\" - accuracy_score: {accuracy_score(y_test, y_pred_svm): .5f}\")\n",
    "print(f\" - f1_score: {f1_score(y_test, y_pred_svm): .5f}\")"
   ]
  },
  {
   "cell_type": "markdown",
   "metadata": {},
   "source": [
    "### XGBoost"
   ]
  },
  {
   "cell_type": "code",
   "execution_count": 21,
   "metadata": {},
   "outputs": [],
   "source": [
    "import xgboost as xgb\n",
    "from xgboost.sklearn import XGBClassifier"
   ]
  },
  {
   "cell_type": "code",
   "execution_count": 22,
   "metadata": {},
   "outputs": [
    {
     "data": {
      "text/plain": [
       "XGBClassifier(base_score=0.5, booster='gbtree', colsample_bylevel=1,\n",
       "              colsample_bynode=1, colsample_bytree=1, gamma=0.2,\n",
       "              learning_rate=0.1, max_delta_step=0, max_depth=3,\n",
       "              min_child_weight=1, missing=None, n_estimators=406, n_jobs=1,\n",
       "              nthread=None, objective='binary:logistic', random_state=0,\n",
       "              reg_alpha=0, reg_lambda=1, scale_pos_weight=1, seed=None,\n",
       "              silent=None, subsample=1, verbosity=1)"
      ]
     },
     "execution_count": 22,
     "metadata": {},
     "output_type": "execute_result"
    }
   ],
   "source": [
    "clf_xgb = xgb.XGBClassifier(n_estimators=406, gamma=0.2)\n",
    "clf_xgb.fit(X_train, y_train)"
   ]
  },
  {
   "cell_type": "code",
   "execution_count": 23,
   "metadata": {},
   "outputs": [
    {
     "name": "stdout",
     "output_type": "stream",
     "text": [
      "XGBoost classifier:\n",
      "--------------------------\n",
      " - ROC AUC _score:  0.92340\n",
      "--------------------------\n",
      " - accuracy_score:  0.87238\n",
      " - f1_score:  0.70223\n"
     ]
    }
   ],
   "source": [
    "# clf_xgb = xgb.XGBClassifier(n_estimators=406, gamma=0.2)\n",
    "# clf_xgb.fit(X_train, y_train)\n",
    "\n",
    "y_pred_xgb = clf_xgb.predict(X_test)\n",
    "\n",
    "y_pred_prob_xgb = clf_xgb.predict_proba(X_test)\n",
    "\n",
    "print(\"XGBoost classifier:\")\n",
    "print('--------------------------')\n",
    "print(f\" - ROC AUC _score: {roc_auc_score(y_test, y_pred_prob_xgb[:,1]): .5f}\")\n",
    "print('--------------------------')\n",
    "print(f\" - accuracy_score: {accuracy_score(y_test, y_pred_xgb): .5f}\")\n",
    "print(f\" - f1_score: {f1_score(y_test, y_pred_xgb): .5f}\")"
   ]
  },
  {
   "cell_type": "markdown",
   "metadata": {},
   "source": [
    "### Model for tuninng Hyperparams"
   ]
  },
  {
   "cell_type": "code",
   "execution_count": null,
   "metadata": {},
   "outputs": [],
   "source": [
    "# clf_xgb = XGBClassifier(\n",
    "#     learning_rate =0.1,\n",
    "#     n_estimators=100,\n",
    "#     max_depth=6,\n",
    "#     min_child_weight=8,\n",
    "#     gamma=0.,\n",
    "#     subsample=0.65,\n",
    "#     colsample_bytree=0.85,\n",
    "#     objective= 'binary:logistic',\n",
    "#     validation_fraction = 0.1,\n",
    "#     scale_pos_weight=1,\n",
    "#     seed=42)\n",
    "\n",
    "\n",
    "# clf_xgb.fit(X_train, y_train)\n",
    "\n",
    "# y_pred_xgb = clf_xgb.predict(X_test)\n",
    "\n",
    "# y_pred_prob_xgb = clf_xgb.predict_proba(X_test)\n",
    "\n",
    "# print(\"XGBoost classifier:\")\n",
    "# print('----------------------------')\n",
    "# print(f\" - ROC AUC _score: {roc_auc_score(y_test, y_pred_prob_xgb[:,1]): .5f}\")\n",
    "# print('----------------------------')\n",
    "# print(f\" - accuracy_score: {accuracy_score(y_test, y_pred_xgb): .5f}\")\n",
    "# print(f\" - f1_score: {f1_score(y_test, y_pred_xgb): .5f}\")"
   ]
  },
  {
   "cell_type": "markdown",
   "metadata": {},
   "source": [
    "#  Check XGBoost on raw validation_data"
   ]
  },
  {
   "cell_type": "markdown",
   "metadata": {},
   "source": []
  },
  {
   "cell_type": "code",
   "execution_count": null,
   "metadata": {},
   "outputs": [],
   "source": [
    "X_df = validation_data.drop(['target'], axis = 1)\n",
    "y_df = validation_data['target']"
   ]
  },
  {
   "cell_type": "code",
   "execution_count": null,
   "metadata": {},
   "outputs": [],
   "source": [
    "clf_xgb = xgb.XGBClassifier(n_estimators=406, gamma=0.2)\n",
    "clf_xgb.fit(X_train, y_train)"
   ]
  },
  {
   "cell_type": "code",
   "execution_count": null,
   "metadata": {},
   "outputs": [],
   "source": [
    "# clf_xgb = xgb.XGBClassifier(n_estimators=406, gamma=0.2)\n",
    "# clf_xgb.fit(X_train, y_train)\n",
    "\n",
    "y_pred_xgb = clf_xgb.predict(X_df)\n",
    "\n",
    "y_pred_prob_xgb = clf_xgb.predict_proba(X_df)\n",
    "\n",
    "print(\"XGBoost classifier:\")\n",
    "print('--------------------------')\n",
    "print(f\" - ROC AUC _score: {roc_auc_score(y_df, y_pred_prob_xgb[:,1]): .5f}\")\n",
    "print('--------------------------')\n",
    "print(f\" - accuracy_score: {accuracy_score(y_df, y_pred_xgb): .5f}\")\n",
    "print(f\" - f1_score: {f1_score(y_df, y_pred_xgb): .5f}\")"
   ]
  },
  {
   "cell_type": "code",
   "execution_count": null,
   "metadata": {},
   "outputs": [],
   "source": []
  },
  {
   "cell_type": "code",
   "execution_count": null,
   "metadata": {},
   "outputs": [],
   "source": []
  }
 ],
 "metadata": {
  "kernelspec": {
   "display_name": "Python 3",
   "language": "python",
   "name": "python3"
  },
  "language_info": {
   "codemirror_mode": {
    "name": "ipython",
    "version": 3
   },
   "file_extension": ".py",
   "mimetype": "text/x-python",
   "name": "python",
   "nbconvert_exporter": "python",
   "pygments_lexer": "ipython3",
   "version": "3.7.4"
  }
 },
 "nbformat": 4,
 "nbformat_minor": 2
}
